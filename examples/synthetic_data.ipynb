{
 "cells": [
  {
   "cell_type": "code",
   "execution_count": 1,
   "id": "20c2bbc9",
   "metadata": {
    "tags": []
   },
   "outputs": [],
   "source": [
    "import pandas as pd\n",
    "import numpy as np\n",
    "import numpy.random as npr\n",
    "from datetime import datetime, timedelta\n",
    "from pyproj import Transformer\n",
    "from concurrent.futures import ProcessPoolExecutor\n",
    "import concurrent.futures\n",
    "import multiprocessing\n",
    "from functools import partial\n",
    "import copy\n",
    "\n",
    "import sys\n",
    "import os\n",
    "core_dir = os.path.join(os.getcwd(), '..')\n",
    "core_dir = os.path.normpath(core_dir)\n",
    "sys.path.append(core_dir)\n",
    "core_dir = os.path.join(os.getcwd(), '..', 'daphme')\n",
    "core_dir = os.path.normpath(core_dir)\n",
    "sys.path.append(core_dir)\n",
    "\n",
    "import garden_city as gcity\n",
    "from garden_city import Building, Street, City, Agent, Population\n",
    "import mobility_model as mmod\n",
    "import stop_detection as sd\n",
    "from constants import DEFAULT_SPEEDS, FAST_SPEEDS, SLOW_SPEEDS, DEFAULT_STILL_PROBS, FAST_STILL_PROBS, SLOW_STILL_PROBS\n",
    "\n",
    "import pdb"
   ]
  },
  {
   "cell_type": "code",
   "execution_count": 2,
   "id": "d6ac35aa-60c8-4ab6-8599-2904b5679ee6",
   "metadata": {
    "tags": []
   },
   "outputs": [],
   "source": [
    "pd.options.mode.chained_assignment = None"
   ]
  },
  {
   "cell_type": "markdown",
   "id": "7fedb635",
   "metadata": {},
   "source": [
    "Initialization of city and population"
   ]
  },
  {
   "cell_type": "code",
   "execution_count": 3,
   "id": "453c0376-cada-4b09-8163-207914cbfe1a",
   "metadata": {
    "tags": []
   },
   "outputs": [],
   "source": [
    "city = gcity.load('garden-city.pkl')\n",
    "population = Population(city)"
   ]
  },
  {
   "cell_type": "markdown",
   "id": "f7bd1f76-2bc8-4526-b82b-5ff823b58080",
   "metadata": {},
   "source": [
    "### Generate N agents"
   ]
  },
  {
   "cell_type": "code",
   "execution_count": 4,
   "id": "c61096f8-ac2f-4861-8973-aa29cfe8a583",
   "metadata": {
    "tags": []
   },
   "outputs": [],
   "source": [
    "transformer = Transformer.from_crs(\"EPSG:3857\", \"EPSG:4326\", always_xy=True)\n",
    "\n",
    "\n",
    "def garden_city_to_lat_long(agent):\n",
    "    df = agent.sparse_traj\n",
    "    df['x'] = 15*df['x'] + 4265699\n",
    "    df['y'] = 15*df['y'] - 4392976\n",
    "\n",
    "    df['latitude'], df['longitude'] = transformer.transform(\n",
    "        df['x'].values, df['y'].values)\n",
    "\n",
    "    df = df[['identifier', 'unix_timestamp', 'latitude', 'longitude']]\n",
    "    df = df.rename(columns={'identifier': 'uid', 'unix_timestamp': 'timestamp'})\n",
    "    df = df.reset_index(drop=True)\n",
    "    \n",
    "    agent.sparse_traj = df\n",
    "    \n",
    "    df = agent.trajectory\n",
    "    df['x'] = 15*df['x'] + 4265699\n",
    "    df['y'] = 15*df['y'] - 4392976\n",
    "\n",
    "    df['latitude'], df['longitude'] = transformer.transform(\n",
    "        df['x'].values, df['y'].values)\n",
    "\n",
    "    df = df[['identifier', 'unix_timestamp', 'latitude', 'longitude']]\n",
    "    df = df.rename(columns={'identifier': 'uid', 'unix_timestamp': 'timestamp'})\n",
    "    df = df.reset_index(drop=True)\n",
    "\n",
    "    agent.trajectory = df\n",
    "    return None"
   ]
  },
  {
   "cell_type": "code",
   "execution_count": 5,
   "id": "313a7903-4257-4932-9bee-42dd1ebaf2c2",
   "metadata": {
    "tags": []
   },
   "outputs": [
    {
     "name": "stdout",
     "output_type": "stream",
     "text": [
      "CPU times: user 6min 22s, sys: 24.7 s, total: 6min 46s\n",
      "Wall time: 17min 39s\n"
     ]
    }
   ],
   "source": [
    "%%time\n",
    "\n",
    "npr.seed(100)\n",
    "\n",
    "population_n = Population(city)\n",
    "population_n.generate_agents(1000,\n",
    "                             start_time=datetime(2024, 1, 1, hour=8, minute=0),\n",
    "                             dt=1, seed=123)\n",
    "\n",
    "def generate_agent_trajectory(agent_id, agent, seed):\n",
    "    population_n.generate_trajectory(agent, T=datetime(2024, 1, 15, hour=8, minute=0), seed=seed)\n",
    "    \n",
    "    # THOMAS: I choose these values quickly, might want to put more thought into the ranges\n",
    "    beta_start = npr.uniform(60, 1200)\n",
    "    beta_duration = npr.uniform(15, 180)\n",
    "    beta_ping = npr.uniform(5, 30)\n",
    "    \n",
    "    param = (beta_start, beta_duration, beta_ping)\n",
    "    agent.sample_traj_hier_nhpp(*param, seed=seed)\n",
    "    garden_city_to_lat_long(agent)\n",
    "    \n",
    "    return agent_id, copy.deepcopy(agent)\n",
    "\n",
    "manager = multiprocessing.Manager()\n",
    "shared_roster = manager.dict(population_n.roster)\n",
    "\n",
    "with ProcessPoolExecutor() as executor:\n",
    "    futures = [\n",
    "        executor.submit(generate_agent_trajectory, agent_id, agent, i)\n",
    "        for i, (agent_id, agent) in enumerate(shared_roster.items())\n",
    "    ]\n",
    "    for future in futures:\n",
    "        agent_id, agent = future.result()\n",
    "        shared_roster[agent_id] = agent\n",
    "\n",
    "population_n.roster = dict(shared_roster)\n",
    "\n",
    "population_n.save_pop(bucket='synthetic-raw-data', prefix='1000-agents/')"
   ]
  },
  {
   "cell_type": "code",
   "execution_count": 6,
   "id": "7850a436-25c8-4b42-b5e3-17a88fb1ec9b",
   "metadata": {
    "tags": []
   },
   "outputs": [
    {
     "data": {
      "text/html": [
       "<div>\n",
       "<style scoped>\n",
       "    .dataframe tbody tr th:only-of-type {\n",
       "        vertical-align: middle;\n",
       "    }\n",
       "\n",
       "    .dataframe tbody tr th {\n",
       "        vertical-align: top;\n",
       "    }\n",
       "\n",
       "    .dataframe thead th {\n",
       "        text-align: right;\n",
       "    }\n",
       "</style>\n",
       "<table border=\"1\" class=\"dataframe\">\n",
       "  <thead>\n",
       "    <tr style=\"text-align: right;\">\n",
       "      <th></th>\n",
       "      <th>uid</th>\n",
       "      <th>timestamp</th>\n",
       "      <th>latitude</th>\n",
       "      <th>longitude</th>\n",
       "    </tr>\n",
       "  </thead>\n",
       "  <tbody>\n",
       "    <tr>\n",
       "      <th>0</th>\n",
       "      <td>agitated_chebyshev</td>\n",
       "      <td>1704096000</td>\n",
       "      <td>38.321380</td>\n",
       "      <td>-36.666867</td>\n",
       "    </tr>\n",
       "    <tr>\n",
       "      <th>1</th>\n",
       "      <td>agitated_chebyshev</td>\n",
       "      <td>1704096060</td>\n",
       "      <td>38.321456</td>\n",
       "      <td>-36.666672</td>\n",
       "    </tr>\n",
       "    <tr>\n",
       "      <th>2</th>\n",
       "      <td>agitated_chebyshev</td>\n",
       "      <td>1704096120</td>\n",
       "      <td>38.320961</td>\n",
       "      <td>-36.666614</td>\n",
       "    </tr>\n",
       "    <tr>\n",
       "      <th>3</th>\n",
       "      <td>agitated_chebyshev</td>\n",
       "      <td>1704096180</td>\n",
       "      <td>38.320490</td>\n",
       "      <td>-36.666651</td>\n",
       "    </tr>\n",
       "    <tr>\n",
       "      <th>4</th>\n",
       "      <td>agitated_chebyshev</td>\n",
       "      <td>1704096240</td>\n",
       "      <td>38.320305</td>\n",
       "      <td>-36.666932</td>\n",
       "    </tr>\n",
       "    <tr>\n",
       "      <th>...</th>\n",
       "      <td>...</td>\n",
       "      <td>...</td>\n",
       "      <td>...</td>\n",
       "      <td>...</td>\n",
       "    </tr>\n",
       "    <tr>\n",
       "      <th>20156</th>\n",
       "      <td>agitated_chebyshev</td>\n",
       "      <td>1705305360</td>\n",
       "      <td>38.320429</td>\n",
       "      <td>-36.666991</td>\n",
       "    </tr>\n",
       "    <tr>\n",
       "      <th>20157</th>\n",
       "      <td>agitated_chebyshev</td>\n",
       "      <td>1705305420</td>\n",
       "      <td>38.320429</td>\n",
       "      <td>-36.666991</td>\n",
       "    </tr>\n",
       "    <tr>\n",
       "      <th>20158</th>\n",
       "      <td>agitated_chebyshev</td>\n",
       "      <td>1705305480</td>\n",
       "      <td>38.320429</td>\n",
       "      <td>-36.666991</td>\n",
       "    </tr>\n",
       "    <tr>\n",
       "      <th>20159</th>\n",
       "      <td>agitated_chebyshev</td>\n",
       "      <td>1705305540</td>\n",
       "      <td>38.320429</td>\n",
       "      <td>-36.666991</td>\n",
       "    </tr>\n",
       "    <tr>\n",
       "      <th>20160</th>\n",
       "      <td>agitated_chebyshev</td>\n",
       "      <td>1705305600</td>\n",
       "      <td>38.320390</td>\n",
       "      <td>-36.666976</td>\n",
       "    </tr>\n",
       "  </tbody>\n",
       "</table>\n",
       "<p>20161 rows × 4 columns</p>\n",
       "</div>"
      ],
      "text/plain": [
       "                      uid   timestamp   latitude  longitude\n",
       "0      agitated_chebyshev  1704096000  38.321380 -36.666867\n",
       "1      agitated_chebyshev  1704096060  38.321456 -36.666672\n",
       "2      agitated_chebyshev  1704096120  38.320961 -36.666614\n",
       "3      agitated_chebyshev  1704096180  38.320490 -36.666651\n",
       "4      agitated_chebyshev  1704096240  38.320305 -36.666932\n",
       "...                   ...         ...        ...        ...\n",
       "20156  agitated_chebyshev  1705305360  38.320429 -36.666991\n",
       "20157  agitated_chebyshev  1705305420  38.320429 -36.666991\n",
       "20158  agitated_chebyshev  1705305480  38.320429 -36.666991\n",
       "20159  agitated_chebyshev  1705305540  38.320429 -36.666991\n",
       "20160  agitated_chebyshev  1705305600  38.320390 -36.666976\n",
       "\n",
       "[20161 rows x 4 columns]"
      ]
     },
     "execution_count": 6,
     "metadata": {},
     "output_type": "execute_result"
    }
   ],
   "source": [
    "population_n.roster['agitated_chebyshev'].trajectory"
   ]
  },
  {
   "cell_type": "markdown",
   "id": "80fb9c37-4523-4482-b92a-dcb83d524c6f",
   "metadata": {},
   "source": [
    "## General things to consider"
   ]
  },
  {
   "cell_type": "markdown",
   "id": "ea05e21c-520a-41eb-8675-09268e6d9fc1",
   "metadata": {},
   "source": [
    "There are regimes in which certain problems disappear.\n",
    "- E.g. going from extremely complete signals to very complete signals, might not make a difference in terms of quality---they are both good enough. This analysis could be visualized in a plot with q in the x-axis, showing that for high q and very low q things break down. \n",
    "- E.g. a very bad parameterization of DBScan for retail, might obscure a small effect of beta ping on retail. \n",
    "- Some problems might mostly affect users that explore a lot (this is application-relevant). \n",
    "- Maybe the conclusion is that you need a hierarchical DBScan\n",
    "\n",
    "We show problems. Can we THEN show solutions? Then maybe we can hint at solutions while describing problems. "
   ]
  },
  {
   "cell_type": "markdown",
   "id": "0a32733f-26f7-4d37-91dd-79657cab953a",
   "metadata": {},
   "source": [
    "## Hyper-local problems "
   ]
  },
  {
   "cell_type": "markdown",
   "id": "0c2304c4-dfb2-4f11-a9bc-b28fd5cac63b",
   "metadata": {},
   "source": [
    "Related to the intensity within a burst and include merging, splitting, merging pings from the street (are there bursts of several pings per minute in the real data?). Related to building area as well. \n",
    "- Merging by ground-truth dwell time and area. Using \"default\" DBScan and pick a signal sparsity in which there's plenty a chance to observe merging and splitting (perhaps remarking that ppl with short bursts don't even have this problem -> appendix).\n",
    "- Splitting actually is mediated by two parameters, beta_ping and beta_start. Two resolutions for the same type of problem. However, maybe beta_ping explains splitting when there is a large area, but beta_start explains splitting when there's a long dwell."
   ]
  },
  {
   "cell_type": "markdown",
   "id": "459fbcc6-cb76-4e25-a607-8b6584faa570",
   "metadata": {},
   "source": [
    "## Global problems"
   ]
  },
  {
   "cell_type": "markdown",
   "id": "a619daca-fa35-418c-9cfb-78bb33d76734",
   "metadata": {},
   "source": [
    "Related to the intensity and clustering of the bursts. It can affect if stops are missed (recall), it can also mess with accuracy by building type (typically long/short dwells).\n",
    "\n",
    "- Missingness is more severe for home and work compared to retail and park. Maybe a ratio statistic alongside the magnitude decreases. Pick a \"reasonable\" DBScan (based on recall). Parameters of a typical user in a typical dataset (avoid a regime where nothing/everything works). \n",
    "- Obvious plot is you have less signal (gray rectangles) then you miss more stops/time-at-right-stop overall. Show regimes? Specially for exploration-prone users? + nuance."
   ]
  },
  {
   "cell_type": "markdown",
   "id": "22fdbab3-915b-4463-b1c2-528a850ef497",
   "metadata": {},
   "source": [
    "## Parameterization problems"
   ]
  },
  {
   "cell_type": "markdown",
   "id": "8204a114-9b40-46b6-a761-62834642b437",
   "metadata": {},
   "source": [
    "You can truly choose the wrong parameters, and you might want to incorporate user signal parameters and building areas, and whatnot. Quality of algorithms and how to choose. x-axis is parameter of DBScan and y-axis is quality of clusters.\n",
    "- What would you do with a complete and regular signal? Maybe a \"reasonable\" DBScan would fail miserably and Lachesis would succeed? min_pts would save the day? \n",
    "- Time parameter ranges from 1 hour to 16 hours. Long-dwell \"bridging\" of huge gaps would increase (obviously) but, the nuance is overestimating time at work or at home. Absolute vs Relative. \n",
    "- Epsilon affects splitting and merging. Pick a \"default and reasonable\" beta_ping and change epsilon. "
   ]
  }
 ],
 "metadata": {
  "kernelspec": {
   "display_name": "conda_py_310_env",
   "language": "python",
   "name": "conda_py_310_env"
  },
  "language_info": {
   "codemirror_mode": {
    "name": "ipython",
    "version": 3
   },
   "file_extension": ".py",
   "mimetype": "text/x-python",
   "name": "python",
   "nbconvert_exporter": "python",
   "pygments_lexer": "ipython3",
   "version": "3.10.6"
  },
  "toc-autonumbering": false
 },
 "nbformat": 4,
 "nbformat_minor": 5
}
