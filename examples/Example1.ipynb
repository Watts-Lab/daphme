{
 "cells": [
  {
   "cell_type": "code",
   "execution_count": 1,
   "metadata": {
    "execution": {
     "iopub.execute_input": "2023-12-15T17:03:26.407289Z",
     "iopub.status.busy": "2023-12-15T17:03:26.406978Z",
     "iopub.status.idle": "2023-12-15T17:03:26.939138Z",
     "shell.execute_reply": "2023-12-15T17:03:26.938347Z",
     "shell.execute_reply.started": "2023-12-15T17:03:26.407263Z"
    },
    "tags": []
   },
   "outputs": [
    {
     "data": {
      "text/html": [
       "Current session configs: <tt>{'conf': {'spark.pyspark.python': '/home/hadoop/epidemics-venv/bin/python3', 'spark.pyspark.virtualenv.bin.path': '/home/hadoop/epidemics-venv/bin', 'spark.dynamicAllocation.enabled': 'true', 'spark.executor.memory': '16g', 'spark.driver.memory': '16g', 'spark.executor.cores': '6', 'spark.driver.cores': '6', 'spark.driver.maxResultSize': '20g', 'livy.server.session.timeout-check': 'false'}, 'proxyUser': 'user_thomas-li', 'kind': 'pyspark'}</tt><br>"
      ],
      "text/plain": [
       "<IPython.core.display.HTML object>"
      ]
     },
     "metadata": {},
     "output_type": "display_data"
    },
    {
     "data": {
      "text/html": [
       "No active sessions."
      ],
      "text/plain": [
       "<IPython.core.display.HTML object>"
      ]
     },
     "metadata": {},
     "output_type": "display_data"
    }
   ],
   "source": [
    "%%configure -f\n",
    "\n",
    "{\"conf\":\n",
    "     {\"spark.pyspark.python\":\"/home/hadoop/epidemics-venv/bin/python3\",\n",
    "      \"spark.pyspark.virtualenv.bin.path\":\"/home/hadoop/epidemics-venv/bin\",\n",
    "      \"spark.pyspark.python\":\"/home/hadoop/epidemics-venv/bin/python3\",\n",
    "      \"spark.dynamicAllocation.enabled\":\"true\",\n",
    "      \"spark.executor.memory\":\"16g\",\n",
    "      \"spark.driver.memory\":\"16g\",\n",
    "      \"spark.executor.cores\":\"6\",\n",
    "      \"spark.driver.cores\":\"6\",\n",
    "      \"spark.driver.maxResultSize\":\"20g\",\n",
    "      \"livy.server.session.timeout-check\" :\"false\"}\n",
    "}"
   ]
  },
  {
   "cell_type": "code",
   "execution_count": 2,
   "metadata": {
    "execution": {
     "iopub.execute_input": "2023-12-15T17:03:29.438990Z",
     "iopub.status.busy": "2023-12-15T17:03:29.438780Z",
     "iopub.status.idle": "2023-12-15T17:04:27.087793Z",
     "shell.execute_reply": "2023-12-15T17:04:27.087083Z",
     "shell.execute_reply.started": "2023-12-15T17:03:29.438968Z"
    },
    "tags": []
   },
   "outputs": [
    {
     "data": {
      "application/vnd.jupyter.widget-view+json": {
       "model_id": "c6d739eb4306442cae3991881d1294f9",
       "version_major": 2,
       "version_minor": 0
      },
      "text/plain": [
       "VBox()"
      ]
     },
     "metadata": {},
     "output_type": "display_data"
    },
    {
     "name": "stdout",
     "output_type": "stream",
     "text": [
      "Starting Spark application\n"
     ]
    },
    {
     "data": {
      "text/html": [
       "<table>\n<tbody><tr><th>ID</th><th>YARN Application ID</th><th>Kind</th><th>State</th><th>Spark UI</th><th>Driver log</th><th>User</th><th>Current session?</th></tr><tr><td>0</td><td>application_1702659324777_0001</td><td>pyspark</td><td>idle</td><td><a target=\"_blank\" href=\"http://ip-10-0-1-250.us-east-2.compute.internal:20888/proxy/application_1702659324777_0001/\" class=\"emr-proxy-link j-1EFOLVULD3UYW application_1702659324777_0001\" emr-resource=\"j-1EFOLVULD3UYW\n\" application-id=\"application_1702659324777_0001\">Link</a></td><td><a target=\"_blank\" href=\"http://ip-10-0-1-102.us-east-2.compute.internal:8042/node/containerlogs/container_1702659324777_0001_01_000001/livy\">Link</a></td><td>None</td><td>✔</td></tr></tbody></table>"
      ],
      "text/plain": [
       "<IPython.core.display.HTML object>"
      ]
     },
     "metadata": {},
     "output_type": "display_data"
    },
    {
     "data": {
      "application/vnd.jupyter.widget-view+json": {
       "model_id": "",
       "version_major": 2,
       "version_minor": 0
      },
      "text/plain": [
       "FloatProgress(value=0.0, bar_style='info', description='Progress:', layout=Layout(height='25px', width='50%'),…"
      ]
     },
     "metadata": {},
     "output_type": "display_data"
    },
    {
     "name": "stdout",
     "output_type": "stream",
     "text": [
      "SparkSession available as 'spark'.\n"
     ]
    },
    {
     "data": {
      "application/vnd.jupyter.widget-view+json": {
       "model_id": "",
       "version_major": 2,
       "version_minor": 0
      },
      "text/plain": [
       "FloatProgress(value=0.0, bar_style='info', description='Progress:', layout=Layout(height='25px', width='50%'),…"
      ]
     },
     "metadata": {},
     "output_type": "display_data"
    }
   ],
   "source": [
    "import daphme as dm\n",
    "import pandas as pd\n",
    "from pyproj import Transformer\n",
    "\n",
    "from pyspark.sql import SparkSession\n",
    "from pyspark.sql import functions as F\n",
    "from pyspark.sql.types import DoubleType\n",
    "\n",
    "from sedona.spark import *"
   ]
  },
  {
   "cell_type": "code",
   "execution_count": 3,
   "metadata": {
    "execution": {
     "iopub.execute_input": "2023-12-15T17:04:30.449977Z",
     "iopub.status.busy": "2023-12-15T17:04:30.449599Z",
     "iopub.status.idle": "2023-12-15T17:04:30.513968Z",
     "shell.execute_reply": "2023-12-15T17:04:30.513351Z",
     "shell.execute_reply.started": "2023-12-15T17:04:30.449952Z"
    },
    "tags": []
   },
   "outputs": [
    {
     "data": {
      "application/vnd.jupyter.widget-view+json": {
       "model_id": "d3d5cca4d0c846368eb8dd542a928061",
       "version_major": 2,
       "version_minor": 0
      },
      "text/plain": [
       "VBox()"
      ]
     },
     "metadata": {},
     "output_type": "display_data"
    },
    {
     "data": {
      "application/vnd.jupyter.widget-view+json": {
       "model_id": "",
       "version_major": 2,
       "version_minor": 0
      },
      "text/plain": [
       "FloatProgress(value=0.0, bar_style='info', description='Progress:', layout=Layout(height='25px', width='50%'),…"
      ]
     },
     "metadata": {},
     "output_type": "display_data"
    }
   ],
   "source": [
    "spark = SparkSession.\\\n",
    "    builder.\\\n",
    "    master(\"local[*]\").\\\n",
    "    appName(\"Example1\").\\\n",
    "    getOrCreate()"
   ]
  },
  {
   "cell_type": "markdown",
   "metadata": {},
   "source": [
    "## Intro to DAPHME\n",
    "\n",
    "In this script, we will demonstrate some of DAPHME's functionalities for analyzing human mobility data. Our analysis will focus on the month of February for the city of Philadelphia. Using a dataset that originally contains [60000] users. \n",
    "\n",
    "In our analysis, we will perform three different kinds of operations, which are common in the analyses in these types of data. \n",
    "* **Importing**, which optionally converts the datetime to a specified timezone and project the coordinates into ESPG:3857 (which has units in meters and might be appropriate for a local analysis not too far from the equator). \n",
    "* **Coarse Filtering**, where we subset to users to make computations for tractable. In particular, we filter out users with very few days/hours with activity, and keep TODO [users with \"sufficient\" pings in the area]. We also filter to users with activity in a given time period.\n",
    "* **Persisting**"
   ]
  },
  {
   "cell_type": "markdown",
   "metadata": {},
   "source": [
    "## Load Pings\n",
    "\n",
    "Daphme can work with a single file in a number of formats (csv, parquet, txt) or with a directory containing partitioned data. In this example, we specify the path of the files to be loaded."
   ]
  },
  {
   "cell_type": "code",
   "execution_count": 4,
   "metadata": {
    "execution": {
     "iopub.execute_input": "2023-12-15T17:04:39.649320Z",
     "iopub.status.busy": "2023-12-15T17:04:39.649097Z",
     "iopub.status.idle": "2023-12-15T17:04:49.006069Z",
     "shell.execute_reply": "2023-12-15T17:04:49.005467Z",
     "shell.execute_reply.started": "2023-12-15T17:04:39.649297Z"
    },
    "tags": []
   },
   "outputs": [
    {
     "data": {
      "application/vnd.jupyter.widget-view+json": {
       "model_id": "7fc74839db8d4905903f49210c60f12e",
       "version_major": 2,
       "version_minor": 0
      },
      "text/plain": [
       "VBox()"
      ]
     },
     "metadata": {},
     "output_type": "display_data"
    },
    {
     "data": {
      "application/vnd.jupyter.widget-view+json": {
       "model_id": "",
       "version_major": 2,
       "version_minor": 0
      },
      "text/plain": [
       "FloatProgress(value=0.0, bar_style='info', description='Progress:', layout=Layout(height='25px', width='50%'),…"
      ]
     },
     "metadata": {},
     "output_type": "display_data"
    }
   ],
   "source": [
    "parqDF = spark.read.parquet(\"s3://phl-pings/gravy/\")"
   ]
  },
  {
   "cell_type": "code",
   "execution_count": 5,
   "metadata": {
    "execution": {
     "iopub.execute_input": "2023-12-15T17:04:49.007231Z",
     "iopub.status.busy": "2023-12-15T17:04:49.007064Z",
     "iopub.status.idle": "2023-12-15T17:04:49.275804Z",
     "shell.execute_reply": "2023-12-15T17:04:49.275190Z",
     "shell.execute_reply.started": "2023-12-15T17:04:49.007210Z"
    },
    "tags": []
   },
   "outputs": [
    {
     "data": {
      "application/vnd.jupyter.widget-view+json": {
       "model_id": "349c1c15a92b4bcd89cae84ba180d30f",
       "version_major": 2,
       "version_minor": 0
      },
      "text/plain": [
       "VBox()"
      ]
     },
     "metadata": {},
     "output_type": "display_data"
    },
    {
     "data": {
      "application/vnd.jupyter.widget-view+json": {
       "model_id": "",
       "version_major": 2,
       "version_minor": 0
      },
      "text/plain": [
       "FloatProgress(value=0.0, bar_style='info', description='Progress:', layout=Layout(height='25px', width='50%'),…"
      ]
     },
     "metadata": {},
     "output_type": "display_data"
    }
   ],
   "source": [
    "parqDF = parqDF.withColumn(\n",
    "    \"timestamp\",\n",
    "    F.to_timestamp(F.col(\"timestamp\") / 1000) # divide by 1000 because given in milliseconds\n",
    ")\n",
    "\n",
    "# parqDF = parqDF.withColumn(\n",
    "#    \"timestamp\",\n",
    "#    F.from_utc_timestamp(\n",
    "#        F.to_utc_timestamp(parqDF.timestamp1, F.col(\"timezone\")), # converts ts from tz to GMT\n",
    "#    F.col(\"timezone\")) # converts ts from GMT to tz"
   ]
  },
  {
   "cell_type": "code",
   "execution_count": 6,
   "metadata": {
    "execution": {
     "iopub.execute_input": "2023-12-15T17:04:49.277102Z",
     "iopub.status.busy": "2023-12-15T17:04:49.276932Z",
     "iopub.status.idle": "2023-12-15T17:05:14.642267Z",
     "shell.execute_reply": "2023-12-15T17:05:14.641523Z",
     "shell.execute_reply.started": "2023-12-15T17:04:49.277081Z"
    },
    "tags": []
   },
   "outputs": [
    {
     "data": {
      "application/vnd.jupyter.widget-view+json": {
       "model_id": "49ece69cb1ca44f49e7017416d9a5ff7",
       "version_major": 2,
       "version_minor": 0
      },
      "text/plain": [
       "VBox()"
      ]
     },
     "metadata": {},
     "output_type": "display_data"
    },
    {
     "data": {
      "application/vnd.jupyter.widget-view+json": {
       "model_id": "",
       "version_major": 2,
       "version_minor": 0
      },
      "text/plain": [
       "FloatProgress(value=0.0, bar_style='info', description='Progress:', layout=Layout(height='25px', width='50%'),…"
      ]
     },
     "metadata": {},
     "output_type": "display_data"
    },
    {
     "name": "stdout",
     "output_type": "stream",
     "text": [
      "+--------------------+---------------+----------------+-----------+-------------------+----------------+--------------+------------+----------+-----------+-----------------+------------------+\n",
      "|                grid|geohashlatitude|geohashlongitude|geohashnine|          timestamp|        timezone|     ipaddress|forensicflag|devicetype|recordcount|    latitude_3857|    longitude_3857|\n",
      "+--------------------+---------------+----------------+-----------+-------------------+----------------+--------------+------------+----------+-----------+-----------------+------------------+\n",
      "|00000006-23aa-3e4...|      39.947813|      -74.911673|  dr4er26bz|2020-03-01 21:50:37|America/New_York| 73.76.110.202|       33536|      AAID|          1|4858361.502393236| -8339129.29283222|\n",
      "|00000013-ec62-3ef...|      40.013387|      -75.144017|  dr4edh1yc|2019-10-16 09:36:06|America/New_York|  172.56.28.49|      525056|      IDFA|          1|4867887.832599926|-8364993.708601093|\n",
      "|00000013-ec62-3ef...|      40.013387|      -75.144017|  dr4edh1yc|2019-10-16 11:36:39|America/New_York|  172.56.28.49|      525056|      IDFA|          1|4867887.832599926|-8364993.708601093|\n",
      "|00000013-ec62-3ef...|      40.031884|      -75.174015|  dr4e9refw|2019-10-16 14:36:16|America/New_York|  172.56.29.98|      525056|      IDFA|          1|4870576.657808819| -8368333.07068591|\n",
      "|00000013-ec62-3ef...|      40.013087|      -75.094707|  dr4eehjtn|2019-10-28 02:34:02|America/New_York|172.58.203.219|      525056|      IDFA|          1|4867844.228963492|-8359504.544510076|\n",
      "|00000013-ec62-3ef...|      40.013087|      -75.094707|  dr4eehjtn|2019-10-28 03:36:07|America/New_York| 172.58.203.41|      525056|      IDFA|          1|4867844.228963492|-8359504.544510076|\n",
      "|00000013-ec62-3ef...|      40.013087|      -75.094707|  dr4eehjtn|2019-10-28 06:36:09|America/New_York|172.58.203.130|      525056|      IDFA|          1|4867844.228963492|-8359504.544510076|\n",
      "|00000013-ec62-3ef...|      40.013087|      -75.094707|  dr4eehjtn|2019-10-28 07:36:09|America/New_York|172.58.203.198|      525056|      IDFA|          1|4867844.228963492|-8359504.544510076|\n",
      "|00000013-ec62-3ef...|      40.013087|      -75.094707|  dr4eehjtn|2019-10-28 09:36:06|America/New_York| 172.58.203.17|      525056|      IDFA|          1|4867844.228963492|-8359504.544510076|\n",
      "|00000013-ec62-3ef...|      40.013087|      -75.094707|  dr4eehjtn|2019-10-28 10:36:08|America/New_York|172.58.203.184|      525056|      IDFA|          1|4867844.228963492|-8359504.544510076|\n",
      "|00000013-ec62-3ef...|      39.980814|      -75.172212|  dr4e3qm30|2019-10-28 11:36:07|America/New_York|172.58.206.240|      524928|      IDFA|          1|4863154.613838932|-8368132.361644009|\n",
      "|00000013-ec62-3ef...|      39.980814|      -75.172212|  dr4e3qm30|2019-10-28 12:36:13|America/New_York|172.58.206.154|      524928|      IDFA|          1|4863154.613838932|-8368132.361644009|\n",
      "|00000013-ec62-3ef...|      40.013087|      -75.094707|  dr4eehjtn|2019-10-28 17:36:21|America/New_York|172.58.203.141|      525056|      IDFA|          1|4867844.228963492|-8359504.544510076|\n",
      "|00000013-ec62-3ef...|      39.980814|      -75.172212|  dr4e3qm30|2019-10-28 18:36:21|America/New_York|172.58.206.244|      524928|      IDFA|          1|4863154.613838932|-8368132.361644009|\n",
      "|00000013-ec62-3ef...|      40.013087|      -75.094707|  dr4eehjtn|2019-10-28 19:36:27|America/New_York|172.58.203.140|      525056|      IDFA|          1|4867844.228963492|-8359504.544510076|\n",
      "|00000013-ec62-3ef...|      40.013087|      -75.094707|  dr4eehjtn|2019-10-28 22:36:06|America/New_York|172.58.203.200|      525056|      IDFA|          1|4867844.228963492|-8359504.544510076|\n",
      "|00000013-ec62-3ef...|      39.980814|      -75.172212|  dr4e3qm30|2019-10-29 00:36:12|America/New_York|172.58.206.157|      524928|      IDFA|          1|4863154.613838932|-8368132.361644009|\n",
      "|00000013-ec62-3ef...|      39.924209|      -75.186803|  dr4e15fxk|2019-11-06 22:36:18|America/New_York|  172.58.207.3|      525056|      IDFA|          1|4854934.642630858|-8369756.624334173|\n",
      "|00000013-ec62-3ef...|       40.05789|      -75.082004|  dr4egkqfn|2019-11-07 00:36:04|America/New_York|172.58.204.119|      525056|      IDFA|          1|4874358.266018791|-8358090.453018529|\n",
      "|00000013-ec62-3ef...|       39.96382|      -75.198219|  dr4e2g4q4|2019-12-08 06:36:05|America/New_York|172.58.204.130|      524928|      AAID|          1|4860686.092547613|-8371027.447641069|\n",
      "+--------------------+---------------+----------------+-----------+-------------------+----------------+--------------+------------+----------+-----------+-----------------+------------------+\n",
      "only showing top 20 rows"
     ]
    }
   ],
   "source": [
    "@F.pandas_udf(DoubleType())\n",
    "def transform_lat(lat, lon):\n",
    "    trans = Transformer.from_crs('epsg:4326','epsg:3857',always_xy=True)\n",
    "    _, transformed_lat = trans.transform(lon, lat)\n",
    "    return pd.Series(transformed_lat)\n",
    "\n",
    "@F.pandas_udf(DoubleType())\n",
    "def transform_long(lat, lon):\n",
    "    trans = Transformer.from_crs('epsg:4326','epsg:3857',always_xy=True)\n",
    "    transformed_long, _ = trans.transform(lon, lat)\n",
    "    return pd.Series(transformed_long)\n",
    "\n",
    "parqDF = parqDF.withColumn('latitude_3857', transform_lat(F.col('geohashlatitude'), F.col('geohashlongitude'))) \\\n",
    "    .withColumn('longitude_3857', transform_long(F.col('geohashlatitude'), F.col('geohashlongitude')))\n",
    "\n",
    "parqDF.show()"
   ]
  },
  {
   "cell_type": "code",
   "execution_count": 9,
   "metadata": {
    "execution": {
     "iopub.execute_input": "2023-12-15T17:08:03.521864Z",
     "iopub.status.busy": "2023-12-15T17:08:03.521641Z",
     "iopub.status.idle": "2023-12-15T17:08:03.573127Z",
     "shell.execute_reply": "2023-12-15T17:08:03.572545Z",
     "shell.execute_reply.started": "2023-12-15T17:08:03.521840Z"
    },
    "tags": []
   },
   "outputs": [
    {
     "data": {
      "application/vnd.jupyter.widget-view+json": {
       "model_id": "181e299ff6af4df7a1b814bdcb3c96bc",
       "version_major": 2,
       "version_minor": 0
      },
      "text/plain": [
       "VBox()"
      ]
     },
     "metadata": {},
     "output_type": "display_data"
    },
    {
     "data": {
      "application/vnd.jupyter.widget-view+json": {
       "model_id": "",
       "version_major": 2,
       "version_minor": 0
      },
      "text/plain": [
       "FloatProgress(value=0.0, bar_style='info', description='Progress:', layout=Layout(height='25px', width='50%'),…"
      ]
     },
     "metadata": {},
     "output_type": "display_data"
    },
    {
     "name": "stdout",
     "output_type": "stream",
     "text": [
      "root\n",
      " |-- grid: string (nullable = true)\n",
      " |-- geohashlatitude: string (nullable = true)\n",
      " |-- geohashlongitude: string (nullable = true)\n",
      " |-- geohashnine: string (nullable = true)\n",
      " |-- timestamp: timestamp (nullable = true)\n",
      " |-- timezone: string (nullable = true)\n",
      " |-- ipaddress: string (nullable = true)\n",
      " |-- forensicflag: long (nullable = true)\n",
      " |-- devicetype: string (nullable = true)\n",
      " |-- recordcount: integer (nullable = true)\n",
      " |-- latitude_3857: double (nullable = true)\n",
      " |-- longitude_3857: double (nullable = true)"
     ]
    }
   ],
   "source": [
    "parqDF.printSchema()"
   ]
  },
  {
   "cell_type": "code",
   "execution_count": 7,
   "metadata": {
    "execution": {
     "iopub.execute_input": "2023-12-15T17:05:14.644023Z",
     "iopub.status.busy": "2023-12-15T17:05:14.643783Z",
     "iopub.status.idle": "2023-12-15T17:05:14.696663Z",
     "shell.execute_reply": "2023-12-15T17:05:14.696031Z",
     "shell.execute_reply.started": "2023-12-15T17:05:14.643992Z"
    },
    "tags": []
   },
   "outputs": [
    {
     "data": {
      "application/vnd.jupyter.widget-view+json": {
       "model_id": "f7175b6a09ac449b83dba3d9ffb88d35",
       "version_major": 2,
       "version_minor": 0
      },
      "text/plain": [
       "VBox()"
      ]
     },
     "metadata": {},
     "output_type": "display_data"
    },
    {
     "data": {
      "application/vnd.jupyter.widget-view+json": {
       "model_id": "",
       "version_major": 2,
       "version_minor": 0
      },
      "text/plain": [
       "FloatProgress(value=0.0, bar_style='info', description='Progress:', layout=Layout(height='25px', width='50%'),…"
      ]
     },
     "metadata": {},
     "output_type": "display_data"
    }
   ],
   "source": [
    "testDF = parqDF.limit(100)"
   ]
  },
  {
   "cell_type": "markdown",
   "metadata": {},
   "source": [
    "## Coarse Filtering\n",
    "\n",
    "Takes in a geometry and filters to pings within the given geometry"
   ]
  },
  {
   "cell_type": "code",
   "execution_count": 11,
   "metadata": {
    "execution": {
     "iopub.execute_input": "2023-12-15T17:10:03.665645Z",
     "iopub.status.busy": "2023-12-15T17:10:03.665420Z",
     "iopub.status.idle": "2023-12-15T17:10:27.012467Z",
     "shell.execute_reply": "2023-12-15T17:10:27.011680Z",
     "shell.execute_reply.started": "2023-12-15T17:10:03.665621Z"
    },
    "tags": []
   },
   "outputs": [
    {
     "data": {
      "application/vnd.jupyter.widget-view+json": {
       "model_id": "184eed5e0f934ae9860486b2b923d8e1",
       "version_major": 2,
       "version_minor": 0
      },
      "text/plain": [
       "VBox()"
      ]
     },
     "metadata": {},
     "output_type": "display_data"
    },
    {
     "data": {
      "application/vnd.jupyter.widget-view+json": {
       "model_id": "",
       "version_major": 2,
       "version_minor": 0
      },
      "text/plain": [
       "FloatProgress(value=0.0, bar_style='info', description='Progress:', layout=Layout(height='25px', width='50%'),…"
      ]
     },
     "metadata": {},
     "output_type": "display_data"
    },
    {
     "name": "stdout",
     "output_type": "stream",
     "text": [
      "+--------------------+---------------+----------------+-----------+-------------------+----------------+--------------+------------+----------+-----------+-----------------+------------------+--------------------+\n",
      "|                grid|geohashlatitude|geohashlongitude|geohashnine|          timestamp|        timezone|     ipaddress|forensicflag|devicetype|recordcount|    latitude_3857|    longitude_3857|            geometry|\n",
      "+--------------------+---------------+----------------+-----------+-------------------+----------------+--------------+------------+----------+-----------+-----------------+------------------+--------------------+\n",
      "|00000006-23aa-3e4...|      39.947813|      -74.911673|  dr4er26bz|2020-03-01 21:50:37|America/New_York| 73.76.110.202|       33536|      AAID|          1|4858361.502393236| -8339129.29283222|POINT (4858361.50...|\n",
      "|00000013-ec62-3ef...|      40.013387|      -75.144017|  dr4edh1yc|2019-10-16 09:36:06|America/New_York|  172.56.28.49|      525056|      IDFA|          1|4867887.832599926|-8364993.708601093|POINT (4867887.83...|\n",
      "|00000013-ec62-3ef...|      40.013387|      -75.144017|  dr4edh1yc|2019-10-16 11:36:39|America/New_York|  172.56.28.49|      525056|      IDFA|          1|4867887.832599926|-8364993.708601093|POINT (4867887.83...|\n",
      "|00000013-ec62-3ef...|      40.031884|      -75.174015|  dr4e9refw|2019-10-16 14:36:16|America/New_York|  172.56.29.98|      525056|      IDFA|          1|4870576.657808819| -8368333.07068591|POINT (4870576.65...|\n",
      "|00000013-ec62-3ef...|      40.013087|      -75.094707|  dr4eehjtn|2019-10-28 02:34:02|America/New_York|172.58.203.219|      525056|      IDFA|          1|4867844.228963492|-8359504.544510076|POINT (4867844.22...|\n",
      "+--------------------+---------------+----------------+-----------+-------------------+----------------+--------------+------------+----------+-----------+-----------------+------------------+--------------------+\n",
      "only showing top 5 rows"
     ]
    }
   ],
   "source": [
    "testDF.createOrReplaceTempView(\"df\")\n",
    "\n",
    "counties_geom = spark.sql(\n",
    "      \"SELECT *, ST_MakePoint(latitude_3857, longitude_3857) as geometry from df\"\n",
    ")\n",
    "\n",
    "counties_geom.show(5)"
   ]
  },
  {
   "cell_type": "code",
   "execution_count": null,
   "metadata": {
    "tags": []
   },
   "outputs": [],
   "source": [
    "print(f'The PySpark {spark.version} version is running...')"
   ]
  },
  {
   "cell_type": "code",
   "execution_count": null,
   "metadata": {},
   "outputs": [],
   "source": []
  }
 ],
 "metadata": {
  "kernelspec": {
   "display_name": "PySpark",
   "language": "python",
   "name": "pysparkkernel"
  },
  "language_info": {
   "codemirror_mode": {
    "name": "python",
    "version": 3
   },
   "file_extension": ".py",
   "mimetype": "text/x-python",
   "name": "pyspark",
   "pygments_lexer": "python3"
  }
 },
 "nbformat": 4,
 "nbformat_minor": 4
}
