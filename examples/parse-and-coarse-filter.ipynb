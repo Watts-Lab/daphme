{
 "cells": [
  {
   "cell_type": "code",
   "execution_count": 1,
   "metadata": {
    "execution": {
     "iopub.execute_input": "2023-12-19T22:42:19.336645Z",
     "iopub.status.busy": "2023-12-19T22:42:19.336339Z",
     "iopub.status.idle": "2023-12-19T22:42:19.806074Z",
     "shell.execute_reply": "2023-12-19T22:42:19.805394Z",
     "shell.execute_reply.started": "2023-12-19T22:42:19.336617Z"
    },
    "tags": []
   },
   "outputs": [
    {
     "data": {
      "text/html": [
       "Current session configs: <tt>{'conf': {'spark.pyspark.python': '/home/hadoop/epidemics-venv/bin/python3', 'spark.pyspark.virtualenv.bin.path': '/home/hadoop/epidemics-venv/bin', 'spark.dynamicAllocation.enabled': 'true', 'spark.executor.memory': '16g', 'spark.driver.memory': '16g', 'spark.executor.cores': '6', 'spark.driver.cores': '6', 'spark.driver.maxResultSize': '20g', 'livy.server.session.timeout-check': 'false'}, 'proxyUser': 'user_thomas-li', 'kind': 'pyspark'}</tt><br>"
      ],
      "text/plain": [
       "<IPython.core.display.HTML object>"
      ]
     },
     "metadata": {},
     "output_type": "display_data"
    },
    {
     "data": {
      "text/html": [
       "No active sessions."
      ],
      "text/plain": [
       "<IPython.core.display.HTML object>"
      ]
     },
     "metadata": {},
     "output_type": "display_data"
    }
   ],
   "source": [
    "%%configure -f\n",
    "\n",
    "{\"conf\":\n",
    "     {\"spark.pyspark.python\":\"/home/hadoop/epidemics-venv/bin/python3\",\n",
    "      \"spark.pyspark.virtualenv.bin.path\":\"/home/hadoop/epidemics-venv/bin\",\n",
    "      \"spark.pyspark.python\":\"/home/hadoop/epidemics-venv/bin/python3\",\n",
    "      \"spark.dynamicAllocation.enabled\":\"true\",\n",
    "      \"spark.executor.memory\":\"16g\",\n",
    "      \"spark.driver.memory\":\"16g\",\n",
    "      \"spark.executor.cores\":\"6\",\n",
    "      \"spark.driver.cores\":\"6\",\n",
    "      \"spark.driver.maxResultSize\":\"20g\",\n",
    "      \"livy.server.session.timeout-check\" :\"false\"}\n",
    "}"
   ]
  },
  {
   "cell_type": "code",
   "execution_count": 8,
   "metadata": {
    "execution": {
     "iopub.execute_input": "2023-12-19T22:46:49.652716Z",
     "iopub.status.busy": "2023-12-19T22:46:49.652470Z",
     "iopub.status.idle": "2023-12-19T22:46:49.696005Z",
     "shell.execute_reply": "2023-12-19T22:46:49.695519Z",
     "shell.execute_reply.started": "2023-12-19T22:46:49.652692Z"
    },
    "tags": []
   },
   "outputs": [
    {
     "data": {
      "application/vnd.jupyter.widget-view+json": {
       "model_id": "597ffcc08fe24e858dcf523a136f6fd8",
       "version_major": 2,
       "version_minor": 0
      },
      "text/plain": [
       "VBox()"
      ]
     },
     "metadata": {},
     "output_type": "display_data"
    },
    {
     "data": {
      "application/vnd.jupyter.widget-view+json": {
       "model_id": "",
       "version_major": 2,
       "version_minor": 0
      },
      "text/plain": [
       "FloatProgress(value=0.0, bar_style='info', description='Progress:', layout=Layout(height='25px', width='50%'),…"
      ]
     },
     "metadata": {},
     "output_type": "display_data"
    }
   ],
   "source": [
    "import pandas as pd\n",
    "import geopandas as gpd\n",
    "import json\n",
    "import shapely\n",
    "from shapely.geometry import Point, MultiPoint, Polygon, shape, box\n",
    "from shapely.ops import unary_union, transform\n",
    "\n",
    "from pyspark.sql import SparkSession\n",
    "from pyspark.sql import SQLContext\n",
    "from pyspark.sql import functions as F\n",
    "from pyspark.sql.types import DoubleType, ArrayType\n",
    "\n",
    "import daphme as dm\n",
    "from daphme import cleaning\n",
    "\n",
    "from sedona.spark import *"
   ]
  },
  {
   "cell_type": "code",
   "execution_count": 3,
   "metadata": {
    "execution": {
     "iopub.execute_input": "2023-12-19T22:43:37.726495Z",
     "iopub.status.busy": "2023-12-19T22:43:37.726338Z",
     "iopub.status.idle": "2023-12-19T22:43:37.778547Z",
     "shell.execute_reply": "2023-12-19T22:43:37.778049Z",
     "shell.execute_reply.started": "2023-12-19T22:43:37.726475Z"
    },
    "tags": []
   },
   "outputs": [
    {
     "data": {
      "application/vnd.jupyter.widget-view+json": {
       "model_id": "0500e090b1804c5699218b38f9b5aa8b",
       "version_major": 2,
       "version_minor": 0
      },
      "text/plain": [
       "VBox()"
      ]
     },
     "metadata": {},
     "output_type": "display_data"
    },
    {
     "data": {
      "application/vnd.jupyter.widget-view+json": {
       "model_id": "",
       "version_major": 2,
       "version_minor": 0
      },
      "text/plain": [
       "FloatProgress(value=0.0, bar_style='info', description='Progress:', layout=Layout(height='25px', width='50%'),…"
      ]
     },
     "metadata": {},
     "output_type": "display_data"
    }
   ],
   "source": [
    "spark = SparkSession.\\\n",
    "    builder.\\\n",
    "    master(\"local[*]\").\\\n",
    "    appName(\"Example1\").\\\n",
    "    getOrCreate()"
   ]
  },
  {
   "cell_type": "markdown",
   "metadata": {},
   "source": [
    "Load in a bounding box for Philadelphia"
   ]
  },
  {
   "cell_type": "code",
   "execution_count": 4,
   "metadata": {
    "execution": {
     "iopub.execute_input": "2023-12-19T22:44:53.246092Z",
     "iopub.status.busy": "2023-12-19T22:44:53.245877Z",
     "iopub.status.idle": "2023-12-19T22:44:54.004813Z",
     "shell.execute_reply": "2023-12-19T22:44:54.004283Z",
     "shell.execute_reply.started": "2023-12-19T22:44:53.246069Z"
    },
    "tags": []
   },
   "outputs": [
    {
     "data": {
      "application/vnd.jupyter.widget-view+json": {
       "model_id": "f519d219ab4349fdb310b8bd7c01cd7d",
       "version_major": 2,
       "version_minor": 0
      },
      "text/plain": [
       "VBox()"
      ]
     },
     "metadata": {},
     "output_type": "display_data"
    },
    {
     "data": {
      "application/vnd.jupyter.widget-view+json": {
       "model_id": "",
       "version_major": 2,
       "version_minor": 0
      },
      "text/plain": [
       "FloatProgress(value=0.0, bar_style='info', description='Progress:', layout=Layout(height='25px', width='50%'),…"
      ]
     },
     "metadata": {},
     "output_type": "display_data"
    },
    {
     "name": "stdout",
     "output_type": "stream",
     "text": [
      "/home/hadoop/epidemics-venv/lib64/python3.7/site-packages/boto3/compat.py:82: PythonDeprecationWarning: Boto3 will no longer support Python 3.7 starting December 13, 2023. To continue receiving service updates, bug fixes, and security updates please upgrade to Python 3.8 or later. More information can be found here: https://aws.amazon.com/blogs/developer/python-support-policy-updates-for-aws-sdks-and-tools/\n",
      "  warnings.warn(warning, PythonDeprecationWarning)"
     ]
    }
   ],
   "source": [
    "import boto3\n",
    "from io import BytesIO\n",
    "\n",
    "s3 = boto3.client('s3')\n",
    "bucket_name = 'upenn-seas-wattscovid19lab'\n",
    "object_key = 'paco/geometry/Census_Tracts_2010.geojson'\n",
    "\n",
    "obj = s3.get_object(Bucket=bucket_name, Key=object_key)\n",
    "geojson_data = json.load(BytesIO(obj['Body'].read()))\n",
    "\n",
    "features = geojson_data['features']\n",
    "\n",
    "polygons = [shape(feature[\"geometry\"]).buffer(0) for feature in features if feature[\"properties\"][\"GEOID10\"][:5] == \"42101\"]\n",
    "phila_poly = unary_union(polygons).buffer(0.0015).simplify(0.0015)\n",
    "phila_box = box(*phila_poly.bounds)"
   ]
  },
  {
   "cell_type": "markdown",
   "metadata": {},
   "source": [
    "## Intro to DAPHME\n",
    "\n",
    "In this script, we will demonstrate some of DAPHME's functionalities for analyzing human mobility data. Our analysis will focus on the month of February for the city of Philadelphia. Using a dataset that originally contains [60000] users. \n",
    "\n",
    "In our analysis, we will perform three different kinds of operations, which are common in the analyses in these types of data. \n",
    "* **Importing**, which optionally converts the datetime to a specified timezone and project the coordinates into ESPG:3857 (which has units in meters and might be appropriate for a local analysis not too far from the equator). \n",
    "* **Coarse Filtering**, where we subset to users to make computations for tractable. In particular, we filter out users with very few days/hours with activity, and keep TODO [users with \"sufficient\" pings in the area]. We also filter to users with activity in a given time period.\n",
    "* **Persisting**"
   ]
  },
  {
   "cell_type": "markdown",
   "metadata": {},
   "source": [
    "## Load Pings\n",
    "\n",
    "Daphme can work with a single file in a number of formats (csv, parquet, txt) but its true utility comes when working with partitions of the data, which are often organized in a directory. In this example, we specify the path of the files to be loaded."
   ]
  },
  {
   "cell_type": "code",
   "execution_count": 5,
   "metadata": {
    "execution": {
     "iopub.execute_input": "2023-12-19T22:45:23.859658Z",
     "iopub.status.busy": "2023-12-19T22:45:23.859439Z",
     "iopub.status.idle": "2023-12-19T22:45:37.178763Z",
     "shell.execute_reply": "2023-12-19T22:45:37.178218Z",
     "shell.execute_reply.started": "2023-12-19T22:45:23.859635Z"
    },
    "tags": []
   },
   "outputs": [
    {
     "data": {
      "application/vnd.jupyter.widget-view+json": {
       "model_id": "d66e86702ec045bb8ba84cb93222b78c",
       "version_major": 2,
       "version_minor": 0
      },
      "text/plain": [
       "VBox()"
      ]
     },
     "metadata": {},
     "output_type": "display_data"
    },
    {
     "data": {
      "application/vnd.jupyter.widget-view+json": {
       "model_id": "",
       "version_major": 2,
       "version_minor": 0
      },
      "text/plain": [
       "FloatProgress(value=0.0, bar_style='info', description='Progress:', layout=Layout(height='25px', width='50%'),…"
      ]
     },
     "metadata": {},
     "output_type": "display_data"
    }
   ],
   "source": [
    "gravy_df = spark.read.parquet(\"s3://phl-pings/gravy/\")\n",
    "\n",
    "gravy_df = gravy_df. \\\n",
    "    withColumn(\"latitude\", F.col(\"geohashlatitude\").cast(DoubleType())). \\\n",
    "    withColumn(\"longitude\", F.col(\"geohashlongitude\").cast(DoubleType()))"
   ]
  },
  {
   "cell_type": "code",
   "execution_count": 6,
   "metadata": {
    "execution": {
     "iopub.execute_input": "2023-12-18T16:53:57.131264Z",
     "iopub.status.busy": "2023-12-18T16:53:57.131108Z",
     "iopub.status.idle": "2023-12-18T16:53:57.174388Z",
     "shell.execute_reply": "2023-12-18T16:53:57.173885Z",
     "shell.execute_reply.started": "2023-12-18T16:53:57.131245Z"
    },
    "tags": []
   },
   "outputs": [
    {
     "data": {
      "application/vnd.jupyter.widget-view+json": {
       "model_id": "07edb1dc6a0440cbbdeb94ce896d9b4e",
       "version_major": 2,
       "version_minor": 0
      },
      "text/plain": [
       "VBox()"
      ]
     },
     "metadata": {},
     "output_type": "display_data"
    },
    {
     "data": {
      "application/vnd.jupyter.widget-view+json": {
       "model_id": "",
       "version_major": 2,
       "version_minor": 0
      },
      "text/plain": [
       "FloatProgress(value=0.0, bar_style='info', description='Progress:', layout=Layout(height='25px', width='50%'),…"
      ]
     },
     "metadata": {},
     "output_type": "display_data"
    }
   ],
   "source": [
    "#cuebiq_df = spark.read.options(header='True', inferSchema='True', delimiter=',').parquet(\"s3://phl-pings/cuebiq-jan-mar/\")\n",
    "#cuebiq_df.show()"
   ]
  },
  {
   "cell_type": "code",
   "execution_count": 6,
   "metadata": {
    "execution": {
     "iopub.execute_input": "2023-12-19T22:45:43.309422Z",
     "iopub.status.busy": "2023-12-19T22:45:43.309203Z",
     "iopub.status.idle": "2023-12-19T22:45:43.558602Z",
     "shell.execute_reply": "2023-12-19T22:45:43.558104Z",
     "shell.execute_reply.started": "2023-12-19T22:45:43.309398Z"
    },
    "tags": []
   },
   "outputs": [
    {
     "data": {
      "application/vnd.jupyter.widget-view+json": {
       "model_id": "c4375cf986114af3aa8d0df7250b018f",
       "version_major": 2,
       "version_minor": 0
      },
      "text/plain": [
       "VBox()"
      ]
     },
     "metadata": {},
     "output_type": "display_data"
    },
    {
     "data": {
      "application/vnd.jupyter.widget-view+json": {
       "model_id": "",
       "version_major": 2,
       "version_minor": 0
      },
      "text/plain": [
       "FloatProgress(value=0.0, bar_style='info', description='Progress:', layout=Layout(height='25px', width='50%'),…"
      ]
     },
     "metadata": {},
     "output_type": "display_data"
    }
   ],
   "source": [
    "gravy_df = gravy_df.withColumn(\n",
    "    \"local_timestamp\",\n",
    "    F.from_utc_timestamp(\n",
    "        F.to_timestamp(F.col(\"timestamp\") /\n",
    "                       1000),  # divide by 1000 because given in milliseconds\n",
    "        F.col(\"timezone\")  # converts timestamp from UTC to local timezone\n",
    "    ))\n",
    "\n",
    "# gravy_df = gravy_df.withColumn(\n",
    "#    \"timestamp\",\n",
    "#    F.from_utc_timestamp(\n",
    "#        F.to_utc_timestamp(gravy_df.timestamp1, F.col(\"timezone\")), # converts ts from tz to UTC\n",
    "#    F.col(\"timezone\")) # converts ts from UTC to tz"
   ]
  },
  {
   "cell_type": "code",
   "execution_count": 19,
   "metadata": {
    "execution": {
     "iopub.execute_input": "2023-12-19T19:57:32.958548Z",
     "iopub.status.busy": "2023-12-19T19:57:32.958328Z",
     "iopub.status.idle": "2023-12-19T19:57:33.002140Z",
     "shell.execute_reply": "2023-12-19T19:57:33.001634Z",
     "shell.execute_reply.started": "2023-12-19T19:57:32.958525Z"
    }
   },
   "outputs": [
    {
     "data": {
      "application/vnd.jupyter.widget-view+json": {
       "model_id": "fb0ba22289d045eeaaec3b4a7b480552",
       "version_major": 2,
       "version_minor": 0
      },
      "text/plain": [
       "VBox()"
      ]
     },
     "metadata": {},
     "output_type": "display_data"
    },
    {
     "data": {
      "application/vnd.jupyter.widget-view+json": {
       "model_id": "",
       "version_major": 2,
       "version_minor": 0
      },
      "text/plain": [
       "FloatProgress(value=0.0, bar_style='info', description='Progress:', layout=Layout(height='25px', width='50%'),…"
      ]
     },
     "metadata": {},
     "output_type": "display_data"
    }
   ],
   "source": [
    "def clean_coords(df):\n",
    "    \"\"\"\n",
    "    Takes in a spark dataframe with columns\n",
    "        'latitude', containing latitudes in EPSG:4326\n",
    "        'longitude', containing longitudes in EPSG:4326\n",
    "    \n",
    "    Returns a spark dataframe with a new column 'mercator_coord' containing point geometries (lat, long) in EPSG:3857\n",
    "    \"\"\"\n",
    "    \n",
    "    df.createOrReplaceTempView(\"df\")\n",
    "    df = spark.sql(\"\"\"\n",
    "        SELECT *,\n",
    "               ST_FlipCoordinates(\n",
    "                   ST_Transform(\n",
    "                       ST_MakePoint(longitude, latitude), \n",
    "                       'EPSG:4326', 'EPSG:3857'\n",
    "                   )\n",
    "               ) AS mercator_coord\n",
    "        FROM df\n",
    "        \"\"\")\n",
    "    return df"
   ]
  },
  {
   "cell_type": "code",
   "execution_count": 9,
   "metadata": {
    "execution": {
     "iopub.execute_input": "2023-12-19T22:46:59.463921Z",
     "iopub.status.busy": "2023-12-19T22:46:59.463699Z",
     "iopub.status.idle": "2023-12-19T22:47:00.215362Z",
     "shell.execute_reply": "2023-12-19T22:47:00.214855Z",
     "shell.execute_reply.started": "2023-12-19T22:46:59.463897Z"
    },
    "tags": []
   },
   "outputs": [
    {
     "data": {
      "application/vnd.jupyter.widget-view+json": {
       "model_id": "87af1952f7f841f7a98f00538d67e816",
       "version_major": 2,
       "version_minor": 0
      },
      "text/plain": [
       "VBox()"
      ]
     },
     "metadata": {},
     "output_type": "display_data"
    },
    {
     "data": {
      "application/vnd.jupyter.widget-view+json": {
       "model_id": "",
       "version_major": 2,
       "version_minor": 0
      },
      "text/plain": [
       "FloatProgress(value=0.0, bar_style='info', description='Progress:', layout=Layout(height='25px', width='50%'),…"
      ]
     },
     "metadata": {},
     "output_type": "display_data"
    },
    {
     "name": "stderr",
     "output_type": "stream",
     "text": [
      "An error was encountered:\n",
      "name 'spark' is not defined\n",
      "Traceback (most recent call last):\n",
      "  File \"/home/hadoop/epidemics-venv/lib64/python3.7/site-packages/daphme/cleaning.py\", line 13, in clean_coords\n",
      "    df = spark.sql(\"\"\"\n",
      "NameError: name 'spark' is not defined\n",
      "\n"
     ]
    }
   ],
   "source": [
    "gravy_df = cleaning.clean_coords(gravy_df)"
   ]
  },
  {
   "cell_type": "code",
   "execution_count": null,
   "metadata": {
    "execution": {
     "iopub.execute_input": "2023-12-18T16:53:58.955233Z",
     "iopub.status.busy": "2023-12-18T16:53:58.955080Z"
    },
    "tags": []
   },
   "outputs": [
    {
     "data": {
      "application/vnd.jupyter.widget-view+json": {
       "model_id": "6c0e1f53a57c428896b12584d23222fa",
       "version_major": 2,
       "version_minor": 0
      },
      "text/plain": [
       "VBox()"
      ]
     },
     "metadata": {},
     "output_type": "display_data"
    },
    {
     "data": {
      "application/vnd.jupyter.widget-view+json": {
       "model_id": "4dedcdea97104e839e7a021589fee496",
       "version_major": 2,
       "version_minor": 0
      },
      "text/plain": [
       "FloatProgress(value=0.0, bar_style='info', description='Progress:', layout=Layout(height='25px', width='50%'),…"
      ]
     },
     "metadata": {},
     "output_type": "display_data"
    }
   ],
   "source": [
    "gravy_df.select(\"grid\").distinct().count()"
   ]
  },
  {
   "cell_type": "code",
   "execution_count": 22,
   "metadata": {
    "execution": {
     "iopub.execute_input": "2023-12-19T20:00:22.752077Z",
     "iopub.status.busy": "2023-12-19T20:00:22.751859Z",
     "iopub.status.idle": "2023-12-19T20:00:22.795612Z",
     "shell.execute_reply": "2023-12-19T20:00:22.795110Z",
     "shell.execute_reply.started": "2023-12-19T20:00:22.752053Z"
    },
    "tags": []
   },
   "outputs": [
    {
     "data": {
      "application/vnd.jupyter.widget-view+json": {
       "model_id": "ae47818e7caf4c32a578c39c05b744eb",
       "version_major": 2,
       "version_minor": 0
      },
      "text/plain": [
       "VBox()"
      ]
     },
     "metadata": {},
     "output_type": "display_data"
    },
    {
     "data": {
      "application/vnd.jupyter.widget-view+json": {
       "model_id": "",
       "version_major": 2,
       "version_minor": 0
      },
      "text/plain": [
       "FloatProgress(value=0.0, bar_style='info', description='Progress:', layout=Layout(height='25px', width='50%'),…"
      ]
     },
     "metadata": {},
     "output_type": "display_data"
    },
    {
     "name": "stdout",
     "output_type": "stream",
     "text": [
      "<class 'pyspark.sql.dataframe.DataFrame'>"
     ]
    }
   ],
   "source": [
    "gravy_df.printSchema()"
   ]
  },
  {
   "cell_type": "markdown",
   "metadata": {},
   "source": [
    "## Coarse Filtering\n",
    "\n",
    "Takes in a geometry and filters to pings within the given geometry"
   ]
  },
  {
   "cell_type": "code",
   "execution_count": 20,
   "metadata": {
    "execution": {
     "iopub.execute_input": "2023-12-17T04:18:57.072155Z",
     "iopub.status.busy": "2023-12-17T04:18:57.071921Z",
     "iopub.status.idle": "2023-12-17T04:19:06.346962Z",
     "shell.execute_reply": "2023-12-17T04:19:06.346338Z",
     "shell.execute_reply.started": "2023-12-17T04:18:57.072131Z"
    },
    "tags": []
   },
   "outputs": [
    {
     "data": {
      "application/vnd.jupyter.widget-view+json": {
       "model_id": "b8cf6c832e13480da31da3d743510d81",
       "version_major": 2,
       "version_minor": 0
      },
      "text/plain": [
       "VBox()"
      ]
     },
     "metadata": {},
     "output_type": "display_data"
    },
    {
     "data": {
      "application/vnd.jupyter.widget-view+json": {
       "model_id": "",
       "version_major": 2,
       "version_minor": 0
      },
      "text/plain": [
       "FloatProgress(value=0.0, bar_style='info', description='Progress:', layout=Layout(height='25px', width='50%'),…"
      ]
     },
     "metadata": {},
     "output_type": "display_data"
    },
    {
     "name": "stdout",
     "output_type": "stream",
     "text": [
      "+--------------------+-------------------+--------------------+--------------------+\n",
      "|                grid|    local_timestamp|          coordinate|      mercator_coord|\n",
      "+--------------------+-------------------+--------------------+--------------------+\n",
      "|00000006-23aa-3e4...|2020-03-01 16:50:37|POINT (39.947813 ...|POINT (4858361.50...|\n",
      "|00000013-ec62-3ef...|2019-10-16 05:36:06|POINT (40.013387 ...|POINT (4867887.83...|\n",
      "|00000013-ec62-3ef...|2019-10-16 07:36:39|POINT (40.013387 ...|POINT (4867887.83...|\n",
      "|00000013-ec62-3ef...|2019-10-16 10:36:16|POINT (40.031884 ...|POINT (4870576.65...|\n",
      "|00000013-ec62-3ef...|2019-10-27 22:34:02|POINT (40.013087 ...|POINT (4867844.22...|\n",
      "|00000013-ec62-3ef...|2019-10-27 23:36:07|POINT (40.013087 ...|POINT (4867844.22...|\n",
      "|00000013-ec62-3ef...|2019-10-28 02:36:09|POINT (40.013087 ...|POINT (4867844.22...|\n",
      "|00000013-ec62-3ef...|2019-10-28 03:36:09|POINT (40.013087 ...|POINT (4867844.22...|\n",
      "|00000013-ec62-3ef...|2019-10-28 05:36:06|POINT (40.013087 ...|POINT (4867844.22...|\n",
      "|00000013-ec62-3ef...|2019-10-28 06:36:08|POINT (40.013087 ...|POINT (4867844.22...|\n",
      "+--------------------+-------------------+--------------------+--------------------+"
     ]
    }
   ],
   "source": [
    "testDF = gravy_df.limit(10)\n",
    "testDF = testDF.select(\"grid\", \"local_timestamp\", \"coordinate\", \"mercator_coord\")\n",
    "testDF.show()"
   ]
  },
  {
   "cell_type": "code",
   "execution_count": 32,
   "metadata": {
    "execution": {
     "iopub.execute_input": "2023-12-17T05:38:09.675221Z",
     "iopub.status.busy": "2023-12-17T05:38:09.674984Z",
     "iopub.status.idle": "2023-12-17T05:38:09.914716Z",
     "shell.execute_reply": "2023-12-17T05:38:09.914205Z",
     "shell.execute_reply.started": "2023-12-17T05:38:09.675198Z"
    },
    "tags": []
   },
   "outputs": [
    {
     "data": {
      "application/vnd.jupyter.widget-view+json": {
       "model_id": "5439b9f9a75a494b8657a4dcc621288e",
       "version_major": 2,
       "version_minor": 0
      },
      "text/plain": [
       "VBox()"
      ]
     },
     "metadata": {},
     "output_type": "display_data"
    },
    {
     "data": {
      "application/vnd.jupyter.widget-view+json": {
       "model_id": "",
       "version_major": 2,
       "version_minor": 0
      },
      "text/plain": [
       "FloatProgress(value=0.0, bar_style='info', description='Progress:', layout=Layout(height='25px', width='50%'),…"
      ]
     },
     "metadata": {},
     "output_type": "display_data"
    }
   ],
   "source": [
    "# Obtain unique users with at least 1 ping in sample window\n",
    "phila_box_wkt = phila_box.wkt\n",
    "\n",
    "gravy_df.createOrReplaceTempView(\"gravy_df\")\n",
    "\n",
    "query = f\"\"\"\n",
    "SELECT DISTINCT grid\n",
    "FROM gravy_df\n",
    "WHERE ST_Contains (ST_GeomFromWKT('{phila_box_wkt}'), ST_FlipCoordinates(coordinate))\n",
    "\"\"\"\n",
    "\n",
    "phl_users = spark.sql(query)"
   ]
  },
  {
   "cell_type": "code",
   "execution_count": 33,
   "metadata": {
    "execution": {
     "iopub.execute_input": "2023-12-17T05:38:15.939845Z",
     "iopub.status.busy": "2023-12-17T05:38:15.939622Z",
     "iopub.status.idle": "2023-12-17T05:59:54.386743Z",
     "shell.execute_reply": "2023-12-17T05:59:54.386200Z",
     "shell.execute_reply.started": "2023-12-17T05:38:15.939821Z"
    },
    "tags": []
   },
   "outputs": [
    {
     "data": {
      "application/vnd.jupyter.widget-view+json": {
       "model_id": "89492d35718b4cb7a1ee18b5e3663348",
       "version_major": 2,
       "version_minor": 0
      },
      "text/plain": [
       "VBox()"
      ]
     },
     "metadata": {},
     "output_type": "display_data"
    },
    {
     "data": {
      "application/vnd.jupyter.widget-view+json": {
       "model_id": "",
       "version_major": 2,
       "version_minor": 0
      },
      "text/plain": [
       "FloatProgress(value=0.0, bar_style='info', description='Progress:', layout=Layout(height='25px', width='50%'),…"
      ]
     },
     "metadata": {},
     "output_type": "display_data"
    },
    {
     "name": "stdout",
     "output_type": "stream",
     "text": [
      "42391691"
     ]
    }
   ],
   "source": [
    "phl_users.count()"
   ]
  },
  {
   "cell_type": "code",
   "execution_count": null,
   "metadata": {},
   "outputs": [],
   "source": []
  }
 ],
 "metadata": {
  "kernelspec": {
   "display_name": "PySpark",
   "language": "python",
   "name": "pysparkkernel"
  },
  "language_info": {
   "codemirror_mode": {
    "name": "python",
    "version": 3
   },
   "file_extension": ".py",
   "mimetype": "text/x-python",
   "name": "pyspark",
   "pygments_lexer": "python3"
  }
 },
 "nbformat": 4,
 "nbformat_minor": 4
}
