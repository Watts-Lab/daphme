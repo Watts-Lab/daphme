{
 "cells": [
  {
   "cell_type": "code",
   "execution_count": 1,
   "metadata": {
    "execution": {
     "iopub.execute_input": "2023-12-19T19:42:51.525603Z",
     "iopub.status.busy": "2023-12-19T19:42:51.525258Z",
     "iopub.status.idle": "2023-12-19T19:42:51.540055Z",
     "shell.execute_reply": "2023-12-19T19:42:51.539556Z",
     "shell.execute_reply.started": "2023-12-19T19:42:51.525578Z"
    },
    "tags": []
   },
   "outputs": [
    {
     "data": {
      "text/html": [
       "Current session configs: <tt>{'conf': {'spark.pyspark.python': '/home/hadoop/epidemics-venv/bin/python3', 'spark.pyspark.virtualenv.bin.path': '/home/hadoop/epidemics-venv/bin', 'spark.dynamicAllocation.enabled': 'true', 'spark.executor.memory': '16g', 'spark.driver.memory': '16g', 'spark.executor.cores': '6', 'spark.driver.cores': '6', 'spark.driver.maxResultSize': '20g', 'livy.server.session.timeout-check': 'false'}, 'proxyUser': 'user_thomas-li', 'kind': 'pyspark'}</tt><br>"
      ],
      "text/plain": [
       "<IPython.core.display.HTML object>"
      ]
     },
     "metadata": {},
     "output_type": "display_data"
    },
    {
     "data": {
      "text/html": [
       "No active sessions."
      ],
      "text/plain": [
       "<IPython.core.display.HTML object>"
      ]
     },
     "metadata": {},
     "output_type": "display_data"
    }
   ],
   "source": [
    "%%configure -f\n",
    "\n",
    "{\"conf\":\n",
    "     {\"spark.pyspark.python\":\"/home/hadoop/epidemics-venv/bin/python3\",\n",
    "      \"spark.pyspark.virtualenv.bin.path\":\"/home/hadoop/epidemics-venv/bin\",\n",
    "      \"spark.pyspark.python\":\"/home/hadoop/epidemics-venv/bin/python3\",\n",
    "      \"spark.dynamicAllocation.enabled\":\"true\",\n",
    "      \"spark.executor.memory\":\"16g\",\n",
    "      \"spark.driver.memory\":\"16g\",\n",
    "      \"spark.executor.cores\":\"6\",\n",
    "      \"spark.driver.cores\":\"6\",\n",
    "      \"spark.driver.maxResultSize\":\"20g\",\n",
    "      \"livy.server.session.timeout-check\" :\"false\"}\n",
    "}"
   ]
  },
  {
   "cell_type": "code",
   "execution_count": 2,
   "metadata": {
    "execution": {
     "iopub.execute_input": "2023-12-19T19:42:54.100185Z",
     "iopub.status.busy": "2023-12-19T19:42:54.099968Z",
     "iopub.status.idle": "2023-12-19T19:43:24.946842Z",
     "shell.execute_reply": "2023-12-19T19:43:24.946315Z",
     "shell.execute_reply.started": "2023-12-19T19:42:54.100162Z"
    },
    "tags": []
   },
   "outputs": [
    {
     "data": {
      "application/vnd.jupyter.widget-view+json": {
       "model_id": "fdf6d94a19094396af4c584a86b4b943",
       "version_major": 2,
       "version_minor": 0
      },
      "text/plain": [
       "VBox()"
      ]
     },
     "metadata": {},
     "output_type": "display_data"
    },
    {
     "name": "stdout",
     "output_type": "stream",
     "text": [
      "Starting Spark application\n"
     ]
    },
    {
     "data": {
      "text/html": [
       "<table>\n<tbody><tr><th>ID</th><th>YARN Application ID</th><th>Kind</th><th>State</th><th>Spark UI</th><th>Driver log</th><th>User</th><th>Current session?</th></tr><tr><td>1</td><td>application_1703014458364_0002</td><td>pyspark</td><td>idle</td><td><a target=\"_blank\" href=\"http://ip-10-0-1-204.us-east-2.compute.internal:20888/proxy/application_1703014458364_0002/\" class=\"emr-proxy-link j-2H8TV3ES8OBOJ application_1703014458364_0002\" emr-resource=\"j-2H8TV3ES8OBOJ\n\" application-id=\"application_1703014458364_0002\">Link</a></td><td><a target=\"_blank\" href=\"http://ip-10-0-1-187.us-east-2.compute.internal:8042/node/containerlogs/container_1703014458364_0002_01_000001/livy\">Link</a></td><td>None</td><td>✔</td></tr></tbody></table>"
      ],
      "text/plain": [
       "<IPython.core.display.HTML object>"
      ]
     },
     "metadata": {},
     "output_type": "display_data"
    },
    {
     "data": {
      "application/vnd.jupyter.widget-view+json": {
       "model_id": "",
       "version_major": 2,
       "version_minor": 0
      },
      "text/plain": [
       "FloatProgress(value=0.0, bar_style='info', description='Progress:', layout=Layout(height='25px', width='50%'),…"
      ]
     },
     "metadata": {},
     "output_type": "display_data"
    },
    {
     "name": "stdout",
     "output_type": "stream",
     "text": [
      "SparkSession available as 'spark'.\n"
     ]
    },
    {
     "data": {
      "application/vnd.jupyter.widget-view+json": {
       "model_id": "",
       "version_major": 2,
       "version_minor": 0
      },
      "text/plain": [
       "FloatProgress(value=0.0, bar_style='info', description='Progress:', layout=Layout(height='25px', width='50%'),…"
      ]
     },
     "metadata": {},
     "output_type": "display_data"
    }
   ],
   "source": [
    "import daphme as dm\n",
    "import pandas as pd\n",
    "import geopandas as gpd\n",
    "import json\n",
    "import shapely\n",
    "from shapely.geometry import Point, MultiPoint, Polygon, shape, box\n",
    "from shapely.ops import unary_union, transform\n",
    "\n",
    "from pyspark.sql import SparkSession\n",
    "from pyspark.sql import SQLContext\n",
    "from pyspark.sql import functions as F\n",
    "from pyspark.sql.types import DoubleType, ArrayType\n",
    "\n",
    "from sedona.spark import *"
   ]
  },
  {
   "cell_type": "code",
   "execution_count": 3,
   "metadata": {
    "execution": {
     "iopub.execute_input": "2023-12-19T19:43:24.948001Z",
     "iopub.status.busy": "2023-12-19T19:43:24.947844Z",
     "iopub.status.idle": "2023-12-19T19:43:24.987569Z",
     "shell.execute_reply": "2023-12-19T19:43:24.987066Z",
     "shell.execute_reply.started": "2023-12-19T19:43:24.947980Z"
    },
    "tags": []
   },
   "outputs": [
    {
     "data": {
      "application/vnd.jupyter.widget-view+json": {
       "model_id": "a3c9b802f98742349a8ad785c373ab46",
       "version_major": 2,
       "version_minor": 0
      },
      "text/plain": [
       "VBox()"
      ]
     },
     "metadata": {},
     "output_type": "display_data"
    },
    {
     "data": {
      "application/vnd.jupyter.widget-view+json": {
       "model_id": "",
       "version_major": 2,
       "version_minor": 0
      },
      "text/plain": [
       "FloatProgress(value=0.0, bar_style='info', description='Progress:', layout=Layout(height='25px', width='50%'),…"
      ]
     },
     "metadata": {},
     "output_type": "display_data"
    }
   ],
   "source": [
    "spark = SparkSession.\\\n",
    "    builder.\\\n",
    "    master(\"local[*]\").\\\n",
    "    appName(\"Example1\").\\\n",
    "    getOrCreate()"
   ]
  },
  {
   "cell_type": "code",
   "execution_count": 16,
   "metadata": {
    "execution": {
     "iopub.execute_input": "2023-12-19T19:47:26.941075Z",
     "iopub.status.busy": "2023-12-19T19:47:26.940857Z",
     "iopub.status.idle": "2023-12-19T19:47:26.985190Z",
     "shell.execute_reply": "2023-12-19T19:47:26.984672Z",
     "shell.execute_reply.started": "2023-12-19T19:47:26.941052Z"
    },
    "tags": []
   },
   "outputs": [
    {
     "data": {
      "application/vnd.jupyter.widget-view+json": {
       "model_id": "3b5be49937734ec1870ec6281d0b4d36",
       "version_major": 2,
       "version_minor": 0
      },
      "text/plain": [
       "VBox()"
      ]
     },
     "metadata": {},
     "output_type": "display_data"
    },
    {
     "data": {
      "application/vnd.jupyter.widget-view+json": {
       "model_id": "",
       "version_major": 2,
       "version_minor": 0
      },
      "text/plain": [
       "FloatProgress(value=0.0, bar_style='info', description='Progress:', layout=Layout(height='25px', width='50%'),…"
      ]
     },
     "metadata": {},
     "output_type": "display_data"
    }
   ],
   "source": [
    "import json\n",
    "from io import BytesIO"
   ]
  },
  {
   "cell_type": "code",
   "execution_count": 13,
   "metadata": {
    "execution": {
     "iopub.execute_input": "2023-12-19T19:45:40.280701Z",
     "iopub.status.busy": "2023-12-19T19:45:40.280489Z",
     "iopub.status.idle": "2023-12-19T19:45:40.951906Z",
     "shell.execute_reply": "2023-12-19T19:45:40.951161Z",
     "shell.execute_reply.started": "2023-12-19T19:45:40.280679Z"
    },
    "tags": []
   },
   "outputs": [],
   "source": [
    "%%local\n",
    "!aws s3 cp s3://upenn-seas-wattscovid19lab/paco/geometry/Census_Tracts_2010.geojson /tmp1/"
   ]
  },
  {
   "cell_type": "markdown",
   "metadata": {},
   "source": [
    "Load in a bounding box for Philadelphia"
   ]
  },
  {
   "cell_type": "code",
   "execution_count": 14,
   "metadata": {
    "execution": {
     "iopub.execute_input": "2023-12-19T19:45:42.477014Z",
     "iopub.status.busy": "2023-12-19T19:45:42.476783Z",
     "iopub.status.idle": "2023-12-19T19:45:42.523547Z",
     "shell.execute_reply": "2023-12-19T19:45:42.523027Z",
     "shell.execute_reply.started": "2023-12-19T19:45:42.476989Z"
    },
    "tags": []
   },
   "outputs": [
    {
     "data": {
      "application/vnd.jupyter.widget-view+json": {
       "model_id": "c10fa23317ca4afb9cf31f34e04464b6",
       "version_major": 2,
       "version_minor": 0
      },
      "text/plain": [
       "VBox()"
      ]
     },
     "metadata": {},
     "output_type": "display_data"
    },
    {
     "data": {
      "application/vnd.jupyter.widget-view+json": {
       "model_id": "",
       "version_major": 2,
       "version_minor": 0
      },
      "text/plain": [
       "FloatProgress(value=0.0, bar_style='info', description='Progress:', layout=Layout(height='25px', width='50%'),…"
      ]
     },
     "metadata": {},
     "output_type": "display_data"
    },
    {
     "name": "stderr",
     "output_type": "stream",
     "text": [
      "An error was encountered:\n",
      "[Errno 2] No such file or directory: '/tmp1/Census_Tracts_2010.geojson'\n",
      "Traceback (most recent call last):\n",
      "FileNotFoundError: [Errno 2] No such file or directory: '/tmp1/Census_Tracts_2010.geojson'\n",
      "\n"
     ]
    }
   ],
   "source": [
    "with open(\"/tmp1/Census_Tracts_2010.geojson\") as f:\n",
    "  features = json.load(f)[\"features\"]\n",
    "\n",
    "polygons = [shape(feature[\"geometry\"]).buffer(0) for feature in features if feature[\"properties\"][\"GEOID10\"][:5] == \"42101\"]\n",
    "phila_poly = unary_union(polygons).buffer(0.0015).simplify(0.0015)\n",
    "phila_box = box(*phila_poly.bounds)"
   ]
  },
  {
   "cell_type": "markdown",
   "metadata": {},
   "source": [
    "## Intro to DAPHME\n",
    "\n",
    "In this script, we will demonstrate some of DAPHME's functionalities for analyzing human mobility data. Our analysis will focus on the month of February for the city of Philadelphia. Using a dataset that originally contains [60000] users. \n",
    "\n",
    "In our analysis, we will perform three different kinds of operations, which are common in the analyses in these types of data. \n",
    "* **Importing**, which optionally converts the datetime to a specified timezone and project the coordinates into ESPG:3857 (which has units in meters and might be appropriate for a local analysis not too far from the equator). \n",
    "* **Coarse Filtering**, where we subset to users to make computations for tractable. In particular, we filter out users with very few days/hours with activity, and keep TODO [users with \"sufficient\" pings in the area]. We also filter to users with activity in a given time period.\n",
    "* **Persisting**"
   ]
  },
  {
   "cell_type": "markdown",
   "metadata": {},
   "source": [
    "## Load Pings\n",
    "\n",
    "Daphme can work with a single file in a number of formats (csv, parquet, txt) but its true utility comes when working with partitions of the data, which are often organized in a directory. In this example, we specify the path of the files to be loaded."
   ]
  },
  {
   "cell_type": "code",
   "execution_count": 17,
   "metadata": {
    "execution": {
     "iopub.execute_input": "2023-12-19T19:48:34.971821Z",
     "iopub.status.busy": "2023-12-19T19:48:34.971602Z",
     "iopub.status.idle": "2023-12-19T19:48:46.269897Z",
     "shell.execute_reply": "2023-12-19T19:48:46.269335Z",
     "shell.execute_reply.started": "2023-12-19T19:48:34.971796Z"
    },
    "tags": []
   },
   "outputs": [
    {
     "data": {
      "application/vnd.jupyter.widget-view+json": {
       "model_id": "41fa7fecfdd941919058ce184feb6e91",
       "version_major": 2,
       "version_minor": 0
      },
      "text/plain": [
       "VBox()"
      ]
     },
     "metadata": {},
     "output_type": "display_data"
    },
    {
     "data": {
      "application/vnd.jupyter.widget-view+json": {
       "model_id": "",
       "version_major": 2,
       "version_minor": 0
      },
      "text/plain": [
       "FloatProgress(value=0.0, bar_style='info', description='Progress:', layout=Layout(height='25px', width='50%'),…"
      ]
     },
     "metadata": {},
     "output_type": "display_data"
    }
   ],
   "source": [
    "gravy_df = spark.read.parquet(\"s3://phl-pings/gravy/\")\n",
    "\n",
    "gravy_df = gravy_df. \\\n",
    "    withColumn(\"latitude\", F.col(\"geohashlatitude\").cast(DoubleType())). \\\n",
    "    withColumn(\"longitude\", F.col(\"geohashlongitude\").cast(DoubleType()))"
   ]
  },
  {
   "cell_type": "code",
   "execution_count": 6,
   "metadata": {
    "execution": {
     "iopub.execute_input": "2023-12-18T16:53:57.131264Z",
     "iopub.status.busy": "2023-12-18T16:53:57.131108Z",
     "iopub.status.idle": "2023-12-18T16:53:57.174388Z",
     "shell.execute_reply": "2023-12-18T16:53:57.173885Z",
     "shell.execute_reply.started": "2023-12-18T16:53:57.131245Z"
    },
    "tags": []
   },
   "outputs": [
    {
     "data": {
      "application/vnd.jupyter.widget-view+json": {
       "model_id": "07edb1dc6a0440cbbdeb94ce896d9b4e",
       "version_major": 2,
       "version_minor": 0
      },
      "text/plain": [
       "VBox()"
      ]
     },
     "metadata": {},
     "output_type": "display_data"
    },
    {
     "data": {
      "application/vnd.jupyter.widget-view+json": {
       "model_id": "",
       "version_major": 2,
       "version_minor": 0
      },
      "text/plain": [
       "FloatProgress(value=0.0, bar_style='info', description='Progress:', layout=Layout(height='25px', width='50%'),…"
      ]
     },
     "metadata": {},
     "output_type": "display_data"
    }
   ],
   "source": [
    "#cuebiq_df = spark.read.options(header='True', inferSchema='True', delimiter=',').parquet(\"s3://phl-pings/cuebiq-jan-mar/\")\n",
    "#cuebiq_df.show()"
   ]
  },
  {
   "cell_type": "code",
   "execution_count": 18,
   "metadata": {
    "execution": {
     "iopub.execute_input": "2023-12-19T19:57:29.026047Z",
     "iopub.status.busy": "2023-12-19T19:57:29.025827Z",
     "iopub.status.idle": "2023-12-19T19:57:29.274525Z",
     "shell.execute_reply": "2023-12-19T19:57:29.273980Z",
     "shell.execute_reply.started": "2023-12-19T19:57:29.026024Z"
    },
    "tags": []
   },
   "outputs": [
    {
     "data": {
      "application/vnd.jupyter.widget-view+json": {
       "model_id": "5c7954622a0f449486ab599862f8ca69",
       "version_major": 2,
       "version_minor": 0
      },
      "text/plain": [
       "VBox()"
      ]
     },
     "metadata": {},
     "output_type": "display_data"
    },
    {
     "data": {
      "application/vnd.jupyter.widget-view+json": {
       "model_id": "",
       "version_major": 2,
       "version_minor": 0
      },
      "text/plain": [
       "FloatProgress(value=0.0, bar_style='info', description='Progress:', layout=Layout(height='25px', width='50%'),…"
      ]
     },
     "metadata": {},
     "output_type": "display_data"
    }
   ],
   "source": [
    "gravy_df = gravy_df.withColumn(\n",
    "    \"local_timestamp\",\n",
    "    F.from_utc_timestamp(\n",
    "        F.to_timestamp(F.col(\"timestamp\") /\n",
    "                       1000),  # divide by 1000 because given in milliseconds\n",
    "        F.col(\"timezone\")  # converts timestamp from UTC to local timezone\n",
    "    ))\n",
    "\n",
    "# gravy_df = gravy_df.withColumn(\n",
    "#    \"timestamp\",\n",
    "#    F.from_utc_timestamp(\n",
    "#        F.to_utc_timestamp(gravy_df.timestamp1, F.col(\"timezone\")), # converts ts from tz to UTC\n",
    "#    F.col(\"timezone\")) # converts ts from UTC to tz"
   ]
  },
  {
   "cell_type": "code",
   "execution_count": 19,
   "metadata": {
    "execution": {
     "iopub.execute_input": "2023-12-19T19:57:32.958548Z",
     "iopub.status.busy": "2023-12-19T19:57:32.958328Z",
     "iopub.status.idle": "2023-12-19T19:57:33.002140Z",
     "shell.execute_reply": "2023-12-19T19:57:33.001634Z",
     "shell.execute_reply.started": "2023-12-19T19:57:32.958525Z"
    }
   },
   "outputs": [
    {
     "data": {
      "application/vnd.jupyter.widget-view+json": {
       "model_id": "fb0ba22289d045eeaaec3b4a7b480552",
       "version_major": 2,
       "version_minor": 0
      },
      "text/plain": [
       "VBox()"
      ]
     },
     "metadata": {},
     "output_type": "display_data"
    },
    {
     "data": {
      "application/vnd.jupyter.widget-view+json": {
       "model_id": "",
       "version_major": 2,
       "version_minor": 0
      },
      "text/plain": [
       "FloatProgress(value=0.0, bar_style='info', description='Progress:', layout=Layout(height='25px', width='50%'),…"
      ]
     },
     "metadata": {},
     "output_type": "display_data"
    }
   ],
   "source": [
    "def clean_coords(df):\n",
    "    \"\"\"\n",
    "    Takes in a spark dataframe with columns\n",
    "        'latitude', containing latitudes in EPSG:4326\n",
    "        'longitude', containing longitudes in EPSG:4326\n",
    "    \n",
    "    Returns a spark dataframe with a new column 'mercator_coord' containing point geometries (lat, long) in EPSG:3857\n",
    "    \"\"\"\n",
    "    \n",
    "    df.createOrReplaceTempView(\"df\")\n",
    "    df = spark.sql(\"\"\"\n",
    "        SELECT *,\n",
    "               ST_FlipCoordinates(\n",
    "                   ST_Transform(\n",
    "                       ST_MakePoint(longitude, latitude), \n",
    "                       'EPSG:4326', 'EPSG:3857'\n",
    "                   )\n",
    "               ) AS mercator_coord\n",
    "        FROM df\n",
    "        \"\"\")\n",
    "    return df"
   ]
  },
  {
   "cell_type": "code",
   "execution_count": 20,
   "metadata": {
    "execution": {
     "iopub.execute_input": "2023-12-19T19:57:35.174805Z",
     "iopub.status.busy": "2023-12-19T19:57:35.174579Z",
     "iopub.status.idle": "2023-12-19T19:57:36.432307Z",
     "shell.execute_reply": "2023-12-19T19:57:36.431800Z",
     "shell.execute_reply.started": "2023-12-19T19:57:35.174775Z"
    }
   },
   "outputs": [
    {
     "data": {
      "application/vnd.jupyter.widget-view+json": {
       "model_id": "b45bd27ced26411cae2000ce277e013a",
       "version_major": 2,
       "version_minor": 0
      },
      "text/plain": [
       "VBox()"
      ]
     },
     "metadata": {},
     "output_type": "display_data"
    },
    {
     "data": {
      "application/vnd.jupyter.widget-view+json": {
       "model_id": "",
       "version_major": 2,
       "version_minor": 0
      },
      "text/plain": [
       "FloatProgress(value=0.0, bar_style='info', description='Progress:', layout=Layout(height='25px', width='50%'),…"
      ]
     },
     "metadata": {},
     "output_type": "display_data"
    }
   ],
   "source": [
    "gravy_df = clean_coords(gravy_df)"
   ]
  },
  {
   "cell_type": "code",
   "execution_count": null,
   "metadata": {
    "execution": {
     "iopub.execute_input": "2023-12-18T16:53:58.955233Z",
     "iopub.status.busy": "2023-12-18T16:53:58.955080Z"
    },
    "tags": []
   },
   "outputs": [
    {
     "data": {
      "application/vnd.jupyter.widget-view+json": {
       "model_id": "6c0e1f53a57c428896b12584d23222fa",
       "version_major": 2,
       "version_minor": 0
      },
      "text/plain": [
       "VBox()"
      ]
     },
     "metadata": {},
     "output_type": "display_data"
    },
    {
     "data": {
      "application/vnd.jupyter.widget-view+json": {
       "model_id": "4dedcdea97104e839e7a021589fee496",
       "version_major": 2,
       "version_minor": 0
      },
      "text/plain": [
       "FloatProgress(value=0.0, bar_style='info', description='Progress:', layout=Layout(height='25px', width='50%'),…"
      ]
     },
     "metadata": {},
     "output_type": "display_data"
    }
   ],
   "source": [
    "gravy_df.select(\"grid\").distinct().count()"
   ]
  },
  {
   "cell_type": "code",
   "execution_count": 22,
   "metadata": {
    "execution": {
     "iopub.execute_input": "2023-12-19T20:00:22.752077Z",
     "iopub.status.busy": "2023-12-19T20:00:22.751859Z",
     "iopub.status.idle": "2023-12-19T20:00:22.795612Z",
     "shell.execute_reply": "2023-12-19T20:00:22.795110Z",
     "shell.execute_reply.started": "2023-12-19T20:00:22.752053Z"
    },
    "tags": []
   },
   "outputs": [
    {
     "data": {
      "application/vnd.jupyter.widget-view+json": {
       "model_id": "ae47818e7caf4c32a578c39c05b744eb",
       "version_major": 2,
       "version_minor": 0
      },
      "text/plain": [
       "VBox()"
      ]
     },
     "metadata": {},
     "output_type": "display_data"
    },
    {
     "data": {
      "application/vnd.jupyter.widget-view+json": {
       "model_id": "",
       "version_major": 2,
       "version_minor": 0
      },
      "text/plain": [
       "FloatProgress(value=0.0, bar_style='info', description='Progress:', layout=Layout(height='25px', width='50%'),…"
      ]
     },
     "metadata": {},
     "output_type": "display_data"
    },
    {
     "name": "stdout",
     "output_type": "stream",
     "text": [
      "<class 'pyspark.sql.dataframe.DataFrame'>"
     ]
    }
   ],
   "source": [
    "gravy_df.printSchema()"
   ]
  },
  {
   "cell_type": "markdown",
   "metadata": {},
   "source": [
    "## Coarse Filtering\n",
    "\n",
    "Takes in a geometry and filters to pings within the given geometry"
   ]
  },
  {
   "cell_type": "code",
   "execution_count": 20,
   "metadata": {
    "execution": {
     "iopub.execute_input": "2023-12-17T04:18:57.072155Z",
     "iopub.status.busy": "2023-12-17T04:18:57.071921Z",
     "iopub.status.idle": "2023-12-17T04:19:06.346962Z",
     "shell.execute_reply": "2023-12-17T04:19:06.346338Z",
     "shell.execute_reply.started": "2023-12-17T04:18:57.072131Z"
    },
    "tags": []
   },
   "outputs": [
    {
     "data": {
      "application/vnd.jupyter.widget-view+json": {
       "model_id": "b8cf6c832e13480da31da3d743510d81",
       "version_major": 2,
       "version_minor": 0
      },
      "text/plain": [
       "VBox()"
      ]
     },
     "metadata": {},
     "output_type": "display_data"
    },
    {
     "data": {
      "application/vnd.jupyter.widget-view+json": {
       "model_id": "",
       "version_major": 2,
       "version_minor": 0
      },
      "text/plain": [
       "FloatProgress(value=0.0, bar_style='info', description='Progress:', layout=Layout(height='25px', width='50%'),…"
      ]
     },
     "metadata": {},
     "output_type": "display_data"
    },
    {
     "name": "stdout",
     "output_type": "stream",
     "text": [
      "+--------------------+-------------------+--------------------+--------------------+\n",
      "|                grid|    local_timestamp|          coordinate|      mercator_coord|\n",
      "+--------------------+-------------------+--------------------+--------------------+\n",
      "|00000006-23aa-3e4...|2020-03-01 16:50:37|POINT (39.947813 ...|POINT (4858361.50...|\n",
      "|00000013-ec62-3ef...|2019-10-16 05:36:06|POINT (40.013387 ...|POINT (4867887.83...|\n",
      "|00000013-ec62-3ef...|2019-10-16 07:36:39|POINT (40.013387 ...|POINT (4867887.83...|\n",
      "|00000013-ec62-3ef...|2019-10-16 10:36:16|POINT (40.031884 ...|POINT (4870576.65...|\n",
      "|00000013-ec62-3ef...|2019-10-27 22:34:02|POINT (40.013087 ...|POINT (4867844.22...|\n",
      "|00000013-ec62-3ef...|2019-10-27 23:36:07|POINT (40.013087 ...|POINT (4867844.22...|\n",
      "|00000013-ec62-3ef...|2019-10-28 02:36:09|POINT (40.013087 ...|POINT (4867844.22...|\n",
      "|00000013-ec62-3ef...|2019-10-28 03:36:09|POINT (40.013087 ...|POINT (4867844.22...|\n",
      "|00000013-ec62-3ef...|2019-10-28 05:36:06|POINT (40.013087 ...|POINT (4867844.22...|\n",
      "|00000013-ec62-3ef...|2019-10-28 06:36:08|POINT (40.013087 ...|POINT (4867844.22...|\n",
      "+--------------------+-------------------+--------------------+--------------------+"
     ]
    }
   ],
   "source": [
    "testDF = gravy_df.limit(10)\n",
    "testDF = testDF.select(\"grid\", \"local_timestamp\", \"coordinate\", \"mercator_coord\")\n",
    "testDF.show()"
   ]
  },
  {
   "cell_type": "code",
   "execution_count": 32,
   "metadata": {
    "execution": {
     "iopub.execute_input": "2023-12-17T05:38:09.675221Z",
     "iopub.status.busy": "2023-12-17T05:38:09.674984Z",
     "iopub.status.idle": "2023-12-17T05:38:09.914716Z",
     "shell.execute_reply": "2023-12-17T05:38:09.914205Z",
     "shell.execute_reply.started": "2023-12-17T05:38:09.675198Z"
    },
    "tags": []
   },
   "outputs": [
    {
     "data": {
      "application/vnd.jupyter.widget-view+json": {
       "model_id": "5439b9f9a75a494b8657a4dcc621288e",
       "version_major": 2,
       "version_minor": 0
      },
      "text/plain": [
       "VBox()"
      ]
     },
     "metadata": {},
     "output_type": "display_data"
    },
    {
     "data": {
      "application/vnd.jupyter.widget-view+json": {
       "model_id": "",
       "version_major": 2,
       "version_minor": 0
      },
      "text/plain": [
       "FloatProgress(value=0.0, bar_style='info', description='Progress:', layout=Layout(height='25px', width='50%'),…"
      ]
     },
     "metadata": {},
     "output_type": "display_data"
    }
   ],
   "source": [
    "# Obtain unique users with at least 1 ping in sample window\n",
    "phila_box_wkt = phila_box.wkt\n",
    "\n",
    "gravy_df.createOrReplaceTempView(\"gravy_df\")\n",
    "\n",
    "query = f\"\"\"\n",
    "SELECT DISTINCT grid\n",
    "FROM gravy_df\n",
    "WHERE ST_Contains (ST_GeomFromWKT('{phila_box_wkt}'), ST_FlipCoordinates(coordinate))\n",
    "\"\"\"\n",
    "\n",
    "phl_users = spark.sql(query)"
   ]
  },
  {
   "cell_type": "code",
   "execution_count": 33,
   "metadata": {
    "execution": {
     "iopub.execute_input": "2023-12-17T05:38:15.939845Z",
     "iopub.status.busy": "2023-12-17T05:38:15.939622Z",
     "iopub.status.idle": "2023-12-17T05:59:54.386743Z",
     "shell.execute_reply": "2023-12-17T05:59:54.386200Z",
     "shell.execute_reply.started": "2023-12-17T05:38:15.939821Z"
    },
    "tags": []
   },
   "outputs": [
    {
     "data": {
      "application/vnd.jupyter.widget-view+json": {
       "model_id": "89492d35718b4cb7a1ee18b5e3663348",
       "version_major": 2,
       "version_minor": 0
      },
      "text/plain": [
       "VBox()"
      ]
     },
     "metadata": {},
     "output_type": "display_data"
    },
    {
     "data": {
      "application/vnd.jupyter.widget-view+json": {
       "model_id": "",
       "version_major": 2,
       "version_minor": 0
      },
      "text/plain": [
       "FloatProgress(value=0.0, bar_style='info', description='Progress:', layout=Layout(height='25px', width='50%'),…"
      ]
     },
     "metadata": {},
     "output_type": "display_data"
    },
    {
     "name": "stdout",
     "output_type": "stream",
     "text": [
      "42391691"
     ]
    }
   ],
   "source": [
    "phl_users.count()"
   ]
  },
  {
   "cell_type": "code",
   "execution_count": null,
   "metadata": {},
   "outputs": [],
   "source": []
  }
 ],
 "metadata": {
  "kernelspec": {
   "display_name": "PySpark",
   "language": "python",
   "name": "pysparkkernel"
  },
  "language_info": {
   "codemirror_mode": {
    "name": "python",
    "version": 3
   },
   "file_extension": ".py",
   "mimetype": "text/x-python",
   "name": "pyspark",
   "pygments_lexer": "python3"
  }
 },
 "nbformat": 4,
 "nbformat_minor": 4
}
