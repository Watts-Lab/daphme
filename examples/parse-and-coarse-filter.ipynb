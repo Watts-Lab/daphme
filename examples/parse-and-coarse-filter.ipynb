{
 "cells": [
  {
   "cell_type": "code",
   "execution_count": 1,
   "metadata": {
    "execution": {
     "iopub.execute_input": "2023-12-25T23:09:42.809798Z",
     "iopub.status.busy": "2023-12-25T23:09:42.809569Z",
     "iopub.status.idle": "2023-12-25T23:09:43.324560Z",
     "shell.execute_reply": "2023-12-25T23:09:43.323769Z",
     "shell.execute_reply.started": "2023-12-25T23:09:42.809773Z"
    },
    "tags": []
   },
   "outputs": [
    {
     "data": {
      "text/html": [
       "Current session configs: <tt>{'conf': {'spark.pyspark.python': '/home/hadoop/epidemics-venv/bin/python3', 'spark.pyspark.virtualenv.bin.path': '/home/hadoop/epidemics-venv/bin', 'spark.dynamicAllocation.enabled': 'true', 'spark.executor.memory': '16g', 'spark.driver.memory': '16g', 'spark.executor.cores': '6', 'spark.driver.cores': '6', 'spark.driver.maxResultSize': '20g', 'livy.server.session.timeout-check': 'false'}, 'proxyUser': 'user_thomas-li', 'kind': 'pyspark'}</tt><br>"
      ],
      "text/plain": [
       "<IPython.core.display.HTML object>"
      ]
     },
     "metadata": {},
     "output_type": "display_data"
    },
    {
     "data": {
      "text/html": [
       "No active sessions."
      ],
      "text/plain": [
       "<IPython.core.display.HTML object>"
      ]
     },
     "metadata": {},
     "output_type": "display_data"
    }
   ],
   "source": [
    "%%configure -f\n",
    "\n",
    "{\"conf\":\n",
    "     {\"spark.pyspark.python\":\"/home/hadoop/epidemics-venv/bin/python3\",\n",
    "      \"spark.pyspark.virtualenv.bin.path\":\"/home/hadoop/epidemics-venv/bin\",\n",
    "      \"spark.pyspark.python\":\"/home/hadoop/epidemics-venv/bin/python3\",\n",
    "      \"spark.dynamicAllocation.enabled\":\"true\",\n",
    "      \"spark.executor.memory\":\"16g\",\n",
    "      \"spark.driver.memory\":\"16g\",\n",
    "      \"spark.executor.cores\":\"6\",\n",
    "      \"spark.driver.cores\":\"6\",\n",
    "      \"spark.driver.maxResultSize\":\"20g\",\n",
    "      \"livy.server.session.timeout-check\" :\"false\"}\n",
    "}"
   ]
  },
  {
   "cell_type": "code",
   "execution_count": 2,
   "metadata": {
    "execution": {
     "iopub.execute_input": "2023-12-25T23:09:45.738779Z",
     "iopub.status.busy": "2023-12-25T23:09:45.737977Z",
     "iopub.status.idle": "2023-12-25T23:10:25.191669Z",
     "shell.execute_reply": "2023-12-25T23:10:25.191131Z",
     "shell.execute_reply.started": "2023-12-25T23:09:45.738189Z"
    },
    "tags": []
   },
   "outputs": [
    {
     "data": {
      "application/vnd.jupyter.widget-view+json": {
       "model_id": "8318b5a2012942f2a1b0fc2a30e68319",
       "version_major": 2,
       "version_minor": 0
      },
      "text/plain": [
       "VBox()"
      ]
     },
     "metadata": {},
     "output_type": "display_data"
    },
    {
     "name": "stdout",
     "output_type": "stream",
     "text": [
      "Starting Spark application\n"
     ]
    },
    {
     "data": {
      "text/html": [
       "<table>\n<tbody><tr><th>ID</th><th>YARN Application ID</th><th>Kind</th><th>State</th><th>Spark UI</th><th>Driver log</th><th>User</th><th>Current session?</th></tr><tr><td>0</td><td>application_1703545555913_0001</td><td>pyspark</td><td>idle</td><td><a target=\"_blank\" href=\"http://ip-10-0-1-253.us-east-2.compute.internal:20888/proxy/application_1703545555913_0001/\" class=\"emr-proxy-link j-VBYAJ72DCHSF application_1703545555913_0001\" emr-resource=\"j-VBYAJ72DCHSF\n\" application-id=\"application_1703545555913_0001\">Link</a></td><td><a target=\"_blank\" href=\"http://ip-10-0-1-19.us-east-2.compute.internal:8042/node/containerlogs/container_1703545555913_0001_01_000001/livy\">Link</a></td><td>None</td><td>✔</td></tr></tbody></table>"
      ],
      "text/plain": [
       "<IPython.core.display.HTML object>"
      ]
     },
     "metadata": {},
     "output_type": "display_data"
    },
    {
     "data": {
      "application/vnd.jupyter.widget-view+json": {
       "model_id": "",
       "version_major": 2,
       "version_minor": 0
      },
      "text/plain": [
       "FloatProgress(value=0.0, bar_style='info', description='Progress:', layout=Layout(height='25px', width='50%'),…"
      ]
     },
     "metadata": {},
     "output_type": "display_data"
    },
    {
     "name": "stdout",
     "output_type": "stream",
     "text": [
      "SparkSession available as 'spark'.\n"
     ]
    },
    {
     "data": {
      "application/vnd.jupyter.widget-view+json": {
       "model_id": "",
       "version_major": 2,
       "version_minor": 0
      },
      "text/plain": [
       "FloatProgress(value=0.0, bar_style='info', description='Progress:', layout=Layout(height='25px', width='50%'),…"
      ]
     },
     "metadata": {},
     "output_type": "display_data"
    }
   ],
   "source": [
    "import pandas as pd\n",
    "import geopandas as gpd\n",
    "import json\n",
    "import shapely\n",
    "from shapely.geometry import Point, MultiPoint, Polygon, shape, box\n",
    "from shapely.ops import unary_union, transform\n",
    "\n",
    "from pyspark.sql import DataFrame, SparkSession\n",
    "from pyspark.sql import SQLContext\n",
    "from pyspark.sql import functions as F\n",
    "from pyspark.sql.types import DoubleType, ArrayType\n",
    "\n",
    "import daphme as dm\n",
    "from daphme import cleaning\n",
    "\n",
    "from sedona.spark import *"
   ]
  },
  {
   "cell_type": "code",
   "execution_count": 3,
   "metadata": {
    "execution": {
     "iopub.execute_input": "2023-12-25T23:10:25.192839Z",
     "iopub.status.busy": "2023-12-25T23:10:25.192680Z",
     "iopub.status.idle": "2023-12-25T23:10:25.243448Z",
     "shell.execute_reply": "2023-12-25T23:10:25.242949Z",
     "shell.execute_reply.started": "2023-12-25T23:10:25.192819Z"
    },
    "tags": []
   },
   "outputs": [
    {
     "data": {
      "application/vnd.jupyter.widget-view+json": {
       "model_id": "8ec09146144a4bdda8babe0728233576",
       "version_major": 2,
       "version_minor": 0
      },
      "text/plain": [
       "VBox()"
      ]
     },
     "metadata": {},
     "output_type": "display_data"
    },
    {
     "data": {
      "application/vnd.jupyter.widget-view+json": {
       "model_id": "",
       "version_major": 2,
       "version_minor": 0
      },
      "text/plain": [
       "FloatProgress(value=0.0, bar_style='info', description='Progress:', layout=Layout(height='25px', width='50%'),…"
      ]
     },
     "metadata": {},
     "output_type": "display_data"
    }
   ],
   "source": [
    "spark = SparkSession.\\\n",
    "    builder.\\\n",
    "    master(\"local[*]\").\\\n",
    "    appName(\"Example1\").\\\n",
    "    getOrCreate()"
   ]
  },
  {
   "cell_type": "markdown",
   "metadata": {},
   "source": [
    "## Intro to DAPHME\n",
    "\n",
    "In this script, we will demonstrate some of DAPHME's functionalities for analyzing human mobility data. Our analysis will focus on the month of February for the city of Philadelphia. Using a dataset that originally contains [60000] users. \n",
    "\n",
    "In our analysis, we will perform three different kinds of operations, which are common in the analyses in these types of data. \n",
    "* **Importing**, which optionally converts the datetime to a specified timezone and project the coordinates into ESPG:3857 (which has units in meters and might be appropriate for a local analysis not too far from the equator). \n",
    "* **Coarse Filtering**, where we subset to users to make computations for tractable. In particular, we filter out users with very few days/hours with activity, and keep TODO [users with \"sufficient\" pings in the area]. We also filter to users with activity in a given time period.\n",
    "* **Persisting**"
   ]
  },
  {
   "cell_type": "markdown",
   "metadata": {},
   "source": [
    "### Load Pings\n",
    "\n",
    "Daphme can work with a single file in a number of formats (csv, parquet, txt) but its true utility comes when working with partitions of the data, which are often organized in a directory. In this example, we specify the path of the files to be loaded."
   ]
  },
  {
   "cell_type": "code",
   "execution_count": 29,
   "metadata": {
    "execution": {
     "iopub.execute_input": "2023-12-25T23:37:30.599028Z",
     "iopub.status.busy": "2023-12-25T23:37:30.598797Z",
     "iopub.status.idle": "2023-12-25T23:37:37.877702Z",
     "shell.execute_reply": "2023-12-25T23:37:37.877185Z",
     "shell.execute_reply.started": "2023-12-25T23:37:30.599004Z"
    },
    "tags": []
   },
   "outputs": [
    {
     "data": {
      "application/vnd.jupyter.widget-view+json": {
       "model_id": "322a544278744672b36d8ea5349c1204",
       "version_major": 2,
       "version_minor": 0
      },
      "text/plain": [
       "VBox()"
      ]
     },
     "metadata": {},
     "output_type": "display_data"
    },
    {
     "data": {
      "application/vnd.jupyter.widget-view+json": {
       "model_id": "",
       "version_major": 2,
       "version_minor": 0
      },
      "text/plain": [
       "FloatProgress(value=0.0, bar_style='info', description='Progress:', layout=Layout(height='25px', width='50%'),…"
      ]
     },
     "metadata": {},
     "output_type": "display_data"
    }
   ],
   "source": [
    "gravy_raw = spark.read.parquet(\"s3://phl-pings/gravy/\")\n",
    "#gravy_raw = spark.read.parquet(\"s3://phl-pings/gravy/part_0.snappy.parquet\")\n",
    "\n",
    "gravy_raw = gravy_raw. \\\n",
    "    withColumn(\"latitude\", F.col(\"geohashlatitude\").cast(DoubleType())). \\\n",
    "    withColumn(\"longitude\", F.col(\"geohashlongitude\").cast(DoubleType()))"
   ]
  },
  {
   "cell_type": "code",
   "execution_count": 6,
   "metadata": {
    "execution": {
     "iopub.execute_input": "2023-12-25T22:37:11.878118Z",
     "iopub.status.busy": "2023-12-25T22:37:11.877963Z",
     "iopub.status.idle": "2023-12-25T22:37:19.150290Z",
     "shell.execute_reply": "2023-12-25T22:37:19.149790Z",
     "shell.execute_reply.started": "2023-12-25T22:37:11.878099Z"
    },
    "tags": []
   },
   "outputs": [
    {
     "data": {
      "application/vnd.jupyter.widget-view+json": {
       "model_id": "eded728ecd5d4069b99a472b72778b02",
       "version_major": 2,
       "version_minor": 0
      },
      "text/plain": [
       "VBox()"
      ]
     },
     "metadata": {},
     "output_type": "display_data"
    },
    {
     "data": {
      "application/vnd.jupyter.widget-view+json": {
       "model_id": "",
       "version_major": 2,
       "version_minor": 0
      },
      "text/plain": [
       "FloatProgress(value=0.0, bar_style='info', description='Progress:', layout=Layout(height='25px', width='50%'),…"
      ]
     },
     "metadata": {},
     "output_type": "display_data"
    },
    {
     "name": "stdout",
     "output_type": "stream",
     "text": [
      "root\n",
      " |-- grid: string (nullable = true)\n",
      " |-- geohashlatitude: string (nullable = true)\n",
      " |-- geohashlongitude: string (nullable = true)\n",
      " |-- geohashnine: string (nullable = true)\n",
      " |-- timestamp: long (nullable = true)\n",
      " |-- timezone: string (nullable = true)\n",
      " |-- ipaddress: string (nullable = true)\n",
      " |-- forensicflag: long (nullable = true)\n",
      " |-- devicetype: string (nullable = true)\n",
      " |-- recordcount: integer (nullable = true)\n",
      " |-- latitude: double (nullable = true)\n",
      " |-- longitude: double (nullable = true)"
     ]
    }
   ],
   "source": [
    "gravy_raw.count()"
   ]
  },
  {
   "cell_type": "code",
   "execution_count": null,
   "metadata": {
    "tags": []
   },
   "outputs": [],
   "source": [
    "#cuebiq_df = spark.read.options(header='True', inferSchema='True', delimiter=',').parquet(\"s3://phl-pings/cuebiq-jan-mar/\")\n",
    "#cuebiq_df.show()"
   ]
  },
  {
   "cell_type": "markdown",
   "metadata": {},
   "source": [
    "### Convert UTC to local datetime"
   ]
  },
  {
   "cell_type": "code",
   "execution_count": 30,
   "metadata": {
    "execution": {
     "iopub.execute_input": "2023-12-25T23:37:37.878837Z",
     "iopub.status.busy": "2023-12-25T23:37:37.878679Z",
     "iopub.status.idle": "2023-12-25T23:37:38.123325Z",
     "shell.execute_reply": "2023-12-25T23:37:38.122821Z",
     "shell.execute_reply.started": "2023-12-25T23:37:37.878817Z"
    },
    "tags": []
   },
   "outputs": [
    {
     "data": {
      "application/vnd.jupyter.widget-view+json": {
       "model_id": "285be7f273074709b8a21702ef336004",
       "version_major": 2,
       "version_minor": 0
      },
      "text/plain": [
       "VBox()"
      ]
     },
     "metadata": {},
     "output_type": "display_data"
    },
    {
     "data": {
      "application/vnd.jupyter.widget-view+json": {
       "model_id": "",
       "version_major": 2,
       "version_minor": 0
      },
      "text/plain": [
       "FloatProgress(value=0.0, bar_style='info', description='Progress:', layout=Layout(height='25px', width='50%'),…"
      ]
     },
     "metadata": {},
     "output_type": "display_data"
    }
   ],
   "source": [
    "gravy_df = cleaning.to_local_time(gravy_raw, 'America/New_York', epoch_unit='milliseconds')"
   ]
  },
  {
   "cell_type": "markdown",
   "metadata": {},
   "source": [
    "### Coarse filter pings to Philadelphia\n",
    "\n",
    "Takes in a geometry and filters to pings within the given geometry"
   ]
  },
  {
   "cell_type": "code",
   "execution_count": 32,
   "metadata": {
    "execution": {
     "iopub.execute_input": "2023-12-25T23:37:42.784069Z",
     "iopub.status.busy": "2023-12-25T23:37:42.783853Z",
     "iopub.status.idle": "2023-12-25T23:37:43.567252Z",
     "shell.execute_reply": "2023-12-25T23:37:43.566740Z",
     "shell.execute_reply.started": "2023-12-25T23:37:42.784046Z"
    },
    "tags": []
   },
   "outputs": [
    {
     "data": {
      "application/vnd.jupyter.widget-view+json": {
       "model_id": "1ee76a37dfab4e119bad64d8f4f91138",
       "version_major": 2,
       "version_minor": 0
      },
      "text/plain": [
       "VBox()"
      ]
     },
     "metadata": {},
     "output_type": "display_data"
    },
    {
     "data": {
      "application/vnd.jupyter.widget-view+json": {
       "model_id": "",
       "version_major": 2,
       "version_minor": 0
      },
      "text/plain": [
       "FloatProgress(value=0.0, bar_style='info', description='Progress:', layout=Layout(height='25px', width='50%'),…"
      ]
     },
     "metadata": {},
     "output_type": "display_data"
    }
   ],
   "source": [
    "# Load in a bounding box for Philadelphia\n",
    "\n",
    "import boto3\n",
    "from io import BytesIO\n",
    "\n",
    "s3 = boto3.client('s3')\n",
    "bucket_name = 'upenn-seas-wattscovid19lab'\n",
    "object_key = 'paco/geometry/Census_Tracts_2010.geojson'\n",
    "\n",
    "obj = s3.get_object(Bucket=bucket_name, Key=object_key)\n",
    "geojson_data = json.load(BytesIO(obj['Body'].read()))\n",
    "\n",
    "features = geojson_data['features']\n",
    "\n",
    "polygons = [shape(feature[\"geometry\"]).buffer(0) for feature in features if feature[\"properties\"][\"GEOID10\"][:5] == \"42101\"]\n",
    "phila_poly = unary_union(polygons).buffer(0.0015).simplify(0.0015)\n",
    "phila_box = box(*phila_poly.bounds)"
   ]
  },
  {
   "cell_type": "code",
   "execution_count": 33,
   "metadata": {
    "execution": {
     "iopub.execute_input": "2023-12-25T23:37:46.174849Z",
     "iopub.status.busy": "2023-12-25T23:37:46.174633Z",
     "iopub.status.idle": "2023-12-25T23:37:46.420752Z",
     "shell.execute_reply": "2023-12-25T23:37:46.420211Z",
     "shell.execute_reply.started": "2023-12-25T23:37:46.174827Z"
    },
    "tags": []
   },
   "outputs": [
    {
     "data": {
      "application/vnd.jupyter.widget-view+json": {
       "model_id": "aeddd2110f064ee4891724cfc2674563",
       "version_major": 2,
       "version_minor": 0
      },
      "text/plain": [
       "VBox()"
      ]
     },
     "metadata": {},
     "output_type": "display_data"
    },
    {
     "data": {
      "application/vnd.jupyter.widget-view+json": {
       "model_id": "",
       "version_major": 2,
       "version_minor": 0
      },
      "text/plain": [
       "FloatProgress(value=0.0, bar_style='info', description='Progress:', layout=Layout(height='25px', width='50%'),…"
      ]
     },
     "metadata": {},
     "output_type": "display_data"
    }
   ],
   "source": [
    "phila_box_wkt = phila_box.wkt\n",
    "\n",
    "gravy_df_filtered = cleaning.coarse_filter(gravy_df, phila_box_wkt, spark, id_col=\"grid\")"
   ]
  },
  {
   "cell_type": "markdown",
   "metadata": {},
   "source": [
    "### Convert coordinates to mercator in meters"
   ]
  },
  {
   "cell_type": "code",
   "execution_count": 37,
   "metadata": {
    "execution": {
     "iopub.execute_input": "2023-12-25T23:38:27.250819Z",
     "iopub.status.busy": "2023-12-25T23:38:27.250563Z",
     "iopub.status.idle": "2023-12-25T23:38:27.501137Z",
     "shell.execute_reply": "2023-12-25T23:38:27.500595Z",
     "shell.execute_reply.started": "2023-12-25T23:38:27.250791Z"
    },
    "tags": []
   },
   "outputs": [
    {
     "data": {
      "application/vnd.jupyter.widget-view+json": {
       "model_id": "ecfdaf0f87564ca998a2bfe87d34915f",
       "version_major": 2,
       "version_minor": 0
      },
      "text/plain": [
       "VBox()"
      ]
     },
     "metadata": {},
     "output_type": "display_data"
    },
    {
     "data": {
      "application/vnd.jupyter.widget-view+json": {
       "model_id": "",
       "version_major": 2,
       "version_minor": 0
      },
      "text/plain": [
       "FloatProgress(value=0.0, bar_style='info', description='Progress:', layout=Layout(height='25px', width='50%'),…"
      ]
     },
     "metadata": {},
     "output_type": "display_data"
    }
   ],
   "source": [
    "gravy_df_filtered = cleaning.to_mercator(gravy_df_filtered, spark)"
   ]
  },
  {
   "cell_type": "markdown",
   "metadata": {},
   "source": [
    "## Persist"
   ]
  },
  {
   "cell_type": "code",
   "execution_count": 40,
   "metadata": {
    "execution": {
     "iopub.execute_input": "2023-12-25T23:40:55.375192Z",
     "iopub.status.busy": "2023-12-25T23:40:55.374953Z",
     "iopub.status.idle": "2023-12-25T23:43:41.122915Z",
     "shell.execute_reply": "2023-12-25T23:43:41.122269Z",
     "shell.execute_reply.started": "2023-12-25T23:40:55.375167Z"
    },
    "tags": []
   },
   "outputs": [
    {
     "data": {
      "application/vnd.jupyter.widget-view+json": {
       "model_id": "3dece54f1fbd46c5860dd79299479d15",
       "version_major": 2,
       "version_minor": 0
      },
      "text/plain": [
       "VBox()"
      ]
     },
     "metadata": {},
     "output_type": "display_data"
    },
    {
     "data": {
      "application/vnd.jupyter.widget-view+json": {
       "model_id": "",
       "version_major": 2,
       "version_minor": 0
      },
      "text/plain": [
       "FloatProgress(value=0.0, bar_style='info', description='Progress:', layout=Layout(height='25px', width='50%'),…"
      ]
     },
     "metadata": {},
     "output_type": "display_data"
    }
   ],
   "source": [
    "gravy_df_clean = gravy_df_filtered.select(\n",
    "    'grid', \n",
    "    'local_timestamp', \n",
    "    'mercator_coord', \n",
    "    'x',\n",
    "    'y',\n",
    "    'in_geo',\n",
    "    'date', \n",
    "    'date_hour', \n",
    "    'day_of_week'\n",
    ").withColumnRenamed(\"grid\", \"identifier\")\n",
    "gravy_df_clean.write.partitionBy(\"date\").option(\"header\", \"true\").mode(\"overwrite\").parquet(\"s3://phl-pings/gravy_clean/\")"
   ]
  },
  {
   "cell_type": "code",
   "execution_count": 43,
   "metadata": {
    "execution": {
     "iopub.execute_input": "2023-12-25T23:50:23.343188Z",
     "iopub.status.busy": "2023-12-25T23:50:23.342964Z",
     "iopub.status.idle": "2023-12-25T23:51:00.703092Z",
     "shell.execute_reply": "2023-12-25T23:51:00.702522Z",
     "shell.execute_reply.started": "2023-12-25T23:50:23.343164Z"
    }
   },
   "outputs": [
    {
     "data": {
      "application/vnd.jupyter.widget-view+json": {
       "model_id": "f0d671ec276d472b965f685e53c6dfee",
       "version_major": 2,
       "version_minor": 0
      },
      "text/plain": [
       "VBox()"
      ]
     },
     "metadata": {},
     "output_type": "display_data"
    },
    {
     "data": {
      "application/vnd.jupyter.widget-view+json": {
       "model_id": "",
       "version_major": 2,
       "version_minor": 0
      },
      "text/plain": [
       "FloatProgress(value=0.0, bar_style='info', description='Progress:', layout=Layout(height='25px', width='50%'),…"
      ]
     },
     "metadata": {},
     "output_type": "display_data"
    },
    {
     "name": "stdout",
     "output_type": "stream",
     "text": [
      "+--------------------+-------------------+--------------------+-------------------+------------------+------+----------+-------------+-----------+\n",
      "|          identifier|    local_timestamp|      mercator_coord|                  x|                 y|in_geo|      date|    date_hour|day_of_week|\n",
      "+--------------------+-------------------+--------------------+-------------------+------------------+------+----------+-------------+-----------+\n",
      "|00018c51-ff4a-3fb...|2019-11-18 11:53:12|POINT (4871437.66...| -8356676.361526982| 4871437.666248344|  true|2019-11-18|2019-11-18 11|          2|\n",
      "|00018c51-ff4a-3fb...|2019-11-18 11:55:11|POINT (4860087.72...| -8370869.819242106| 4860087.720346581|  true|2019-11-18|2019-11-18 11|          2|\n",
      "|0001b67f-8b1e-33d...|2020-06-19 15:25:31|POINT (4859015.82...| -8367196.053406948| 4859015.823786038|  true|2020-06-19|2020-06-19 15|          6|\n",
      "|00028c4e-4008-374...|2020-02-14 16:38:56|POINT (4855894.02...| -8350910.123223381| 4855894.026816804|  true|2020-02-14|2020-02-14 16|          6|\n",
      "|00030d23-a60b-3a6...|2020-06-11 03:55:04|POINT (4859015.82...| -8367196.053406948| 4859015.823786038|  true|2020-06-11|2020-06-11 03|          5|\n",
      "|00030d23-a60b-3a6...|2020-06-11 03:55:04|POINT (4859015.82...| -8367196.053406948| 4859015.823786038|  true|2020-06-11|2020-06-11 03|          5|\n",
      "|00031524-127e-3f9...|2020-06-13 07:23:24|POINT (4878522.37...| -8347011.825975292| 4878522.379590018|  true|2020-06-13|2020-06-13 07|          7|\n",
      "|00031524-127e-3f9...|2020-06-13 07:23:25|POINT (4882725.65...| -8351679.340904762| 4882725.654313912|  true|2020-06-13|2020-06-13 07|          7|\n",
      "|0007aed6-e439-3fb...|2020-05-31 15:53:10|POINT (4859314.97...| -8367406.224605564| 4859314.973090509|  true|2020-05-31|2020-05-31 15|          1|\n",
      "|0007aed6-e439-3fb...|2020-05-31 15:53:50|POINT (4859314.97...| -8367406.224605564| 4859314.973090509|  true|2020-05-31|2020-05-31 15|          1|\n",
      "|0007aed6-e439-3fb...|2020-05-31 15:54:39|POINT (4859314.97...| -8367406.224605564| 4859314.973090509|  true|2020-05-31|2020-05-31 15|          1|\n",
      "|0007aed6-e439-3fb...|2020-05-31 15:55:41|POINT (4859314.97...| -8367406.224605564| 4859314.973090509|  true|2020-05-31|2020-05-31 15|          1|\n",
      "|0007aed6-e439-3fb...|2020-05-31 15:56:43|POINT (4859314.97...| -8367406.224605564| 4859314.973090509|  true|2020-05-31|2020-05-31 15|          1|\n",
      "|0007aed6-e439-3fb...|2020-05-31 15:57:48|POINT (4859314.97...| -8367406.224605564| 4859314.973090509|  true|2020-05-31|2020-05-31 15|          1|\n",
      "|0007aed6-e439-3fb...|2020-05-31 15:58:19|POINT (4859314.97...| -8367406.224605564| 4859314.973090509|  true|2020-05-31|2020-05-31 15|          1|\n",
      "|0007aed6-e439-3fb...|2020-05-31 15:59:15|POINT (4859314.97...| -8367406.224605564| 4859314.973090509|  true|2020-05-31|2020-05-31 15|          1|\n",
      "|0007aed6-e439-3fb...|2020-05-31 15:59:52|POINT (4859314.97...| -8367406.224605564| 4859314.973090509|  true|2020-05-31|2020-05-31 15|          1|\n",
      "|0007b6a4-e3fe-34f...|2019-11-30 03:28:29|POINT (4877485.87...| -8495247.197624922| 4877485.879043713| false|2019-11-30|2019-11-30 03|          7|\n",
      "|0007b6a4-e3fe-34f...|2019-11-30 03:40:27|POINT (4867264.17...| -8501147.130636964| 4867264.173487257| false|2019-11-30|2019-11-30 03|          7|\n",
      "|0007b6a4-e3fe-34f...|2019-11-30 04:09:35|POINT (4870957.28...|-8362242.0021081725|4870957.2835251745|  true|2019-11-30|2019-11-30 04|          7|\n",
      "+--------------------+-------------------+--------------------+-------------------+------------------+------+----------+-------------+-----------+\n",
      "only showing top 20 rows"
     ]
    }
   ],
   "source": [
    "#gravy_df_clean.show()"
   ]
  }
 ],
 "metadata": {
  "kernelspec": {
   "display_name": "PySpark",
   "language": "python",
   "name": "pysparkkernel"
  },
  "language_info": {
   "codemirror_mode": {
    "name": "python",
    "version": 3
   },
   "file_extension": ".py",
   "mimetype": "text/x-python",
   "name": "pyspark",
   "pygments_lexer": "python3"
  }
 },
 "nbformat": 4,
 "nbformat_minor": 4
}
