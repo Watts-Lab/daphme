{
 "cells": [
  {
   "cell_type": "code",
   "execution_count": 1,
   "metadata": {
    "execution": {
     "iopub.execute_input": "2023-12-25T00:32:49.231641Z",
     "iopub.status.busy": "2023-12-25T00:32:49.231330Z",
     "iopub.status.idle": "2023-12-25T00:32:49.244574Z",
     "shell.execute_reply": "2023-12-25T00:32:49.244068Z",
     "shell.execute_reply.started": "2023-12-25T00:32:49.231616Z"
    },
    "tags": []
   },
   "outputs": [
    {
     "data": {
      "text/html": [
       "Current session configs: <tt>{'conf': {'spark.pyspark.python': '/home/hadoop/epidemics-venv/bin/python3', 'spark.pyspark.virtualenv.bin.path': '/home/hadoop/epidemics-venv/bin', 'spark.dynamicAllocation.enabled': 'true', 'spark.executor.memory': '16g', 'spark.driver.memory': '16g', 'spark.executor.cores': '6', 'spark.driver.cores': '6', 'spark.driver.maxResultSize': '20g', 'livy.server.session.timeout-check': 'false'}, 'proxyUser': 'user_thomas-li', 'kind': 'pyspark'}</tt><br>"
      ],
      "text/plain": [
       "<IPython.core.display.HTML object>"
      ]
     },
     "metadata": {},
     "output_type": "display_data"
    },
    {
     "data": {
      "text/html": [
       "No active sessions."
      ],
      "text/plain": [
       "<IPython.core.display.HTML object>"
      ]
     },
     "metadata": {},
     "output_type": "display_data"
    }
   ],
   "source": [
    "%%configure -f\n",
    "\n",
    "{\"conf\":\n",
    "     {\"spark.pyspark.python\":\"/home/hadoop/epidemics-venv/bin/python3\",\n",
    "      \"spark.pyspark.virtualenv.bin.path\":\"/home/hadoop/epidemics-venv/bin\",\n",
    "      \"spark.pyspark.python\":\"/home/hadoop/epidemics-venv/bin/python3\",\n",
    "      \"spark.dynamicAllocation.enabled\":\"true\",\n",
    "      \"spark.executor.memory\":\"16g\",\n",
    "      \"spark.driver.memory\":\"16g\",\n",
    "      \"spark.executor.cores\":\"6\",\n",
    "      \"spark.driver.cores\":\"6\",\n",
    "      \"spark.driver.maxResultSize\":\"20g\",\n",
    "      \"livy.server.session.timeout-check\" :\"false\"}\n",
    "}"
   ]
  },
  {
   "cell_type": "code",
   "execution_count": 2,
   "metadata": {
    "execution": {
     "iopub.execute_input": "2023-12-25T00:32:51.128133Z",
     "iopub.status.busy": "2023-12-25T00:32:51.127922Z",
     "iopub.status.idle": "2023-12-25T00:33:19.940375Z",
     "shell.execute_reply": "2023-12-25T00:33:19.939768Z",
     "shell.execute_reply.started": "2023-12-25T00:32:51.128111Z"
    },
    "tags": []
   },
   "outputs": [
    {
     "data": {
      "application/vnd.jupyter.widget-view+json": {
       "model_id": "3ad480c97b1642b28c1e247b47dab47a",
       "version_major": 2,
       "version_minor": 0
      },
      "text/plain": [
       "VBox()"
      ]
     },
     "metadata": {},
     "output_type": "display_data"
    },
    {
     "name": "stdout",
     "output_type": "stream",
     "text": [
      "Starting Spark application\n"
     ]
    },
    {
     "data": {
      "text/html": [
       "<table>\n<tbody><tr><th>ID</th><th>YARN Application ID</th><th>Kind</th><th>State</th><th>Spark UI</th><th>Driver log</th><th>User</th><th>Current session?</th></tr><tr><td>1</td><td>application_1703459807261_0002</td><td>pyspark</td><td>idle</td><td><a target=\"_blank\" href=\"http://ip-10-0-1-161.us-east-2.compute.internal:20888/proxy/application_1703459807261_0002/\" class=\"emr-proxy-link j-ORM2Y69DMT9S application_1703459807261_0002\" emr-resource=\"j-ORM2Y69DMT9S\n\" application-id=\"application_1703459807261_0002\">Link</a></td><td><a target=\"_blank\" href=\"http://ip-10-0-1-192.us-east-2.compute.internal:8042/node/containerlogs/container_1703459807261_0002_01_000001/livy\">Link</a></td><td>None</td><td>✔</td></tr></tbody></table>"
      ],
      "text/plain": [
       "<IPython.core.display.HTML object>"
      ]
     },
     "metadata": {},
     "output_type": "display_data"
    },
    {
     "data": {
      "application/vnd.jupyter.widget-view+json": {
       "model_id": "",
       "version_major": 2,
       "version_minor": 0
      },
      "text/plain": [
       "FloatProgress(value=0.0, bar_style='info', description='Progress:', layout=Layout(height='25px', width='50%'),…"
      ]
     },
     "metadata": {},
     "output_type": "display_data"
    },
    {
     "name": "stdout",
     "output_type": "stream",
     "text": [
      "SparkSession available as 'spark'.\n"
     ]
    },
    {
     "data": {
      "application/vnd.jupyter.widget-view+json": {
       "model_id": "",
       "version_major": 2,
       "version_minor": 0
      },
      "text/plain": [
       "FloatProgress(value=0.0, bar_style='info', description='Progress:', layout=Layout(height='25px', width='50%'),…"
      ]
     },
     "metadata": {},
     "output_type": "display_data"
    }
   ],
   "source": [
    "import pandas as pd\n",
    "import geopandas as gpd\n",
    "import json\n",
    "import shapely\n",
    "from shapely.geometry import Point, MultiPoint, Polygon, shape, box\n",
    "from shapely.ops import unary_union, transform\n",
    "\n",
    "from pyspark.sql import DataFrame, SparkSession\n",
    "from pyspark.sql import SQLContext\n",
    "from pyspark.sql import functions as F\n",
    "from pyspark.sql.types import DoubleType, ArrayType\n",
    "\n",
    "import daphme as dm\n",
    "from daphme import cleaning\n",
    "\n",
    "from sedona.spark import *"
   ]
  },
  {
   "cell_type": "code",
   "execution_count": 3,
   "metadata": {
    "execution": {
     "iopub.execute_input": "2023-12-25T00:33:19.941583Z",
     "iopub.status.busy": "2023-12-25T00:33:19.941407Z",
     "iopub.status.idle": "2023-12-25T00:33:19.987321Z",
     "shell.execute_reply": "2023-12-25T00:33:19.986786Z",
     "shell.execute_reply.started": "2023-12-25T00:33:19.941561Z"
    },
    "tags": []
   },
   "outputs": [
    {
     "data": {
      "application/vnd.jupyter.widget-view+json": {
       "model_id": "47c56154b0e646478e6ae4df9fccca5b",
       "version_major": 2,
       "version_minor": 0
      },
      "text/plain": [
       "VBox()"
      ]
     },
     "metadata": {},
     "output_type": "display_data"
    },
    {
     "data": {
      "application/vnd.jupyter.widget-view+json": {
       "model_id": "",
       "version_major": 2,
       "version_minor": 0
      },
      "text/plain": [
       "FloatProgress(value=0.0, bar_style='info', description='Progress:', layout=Layout(height='25px', width='50%'),…"
      ]
     },
     "metadata": {},
     "output_type": "display_data"
    }
   ],
   "source": [
    "spark = SparkSession.\\\n",
    "    builder.\\\n",
    "    master(\"local[*]\").\\\n",
    "    appName(\"Example1\").\\\n",
    "    getOrCreate()"
   ]
  },
  {
   "cell_type": "markdown",
   "metadata": {},
   "source": [
    "## Intro to DAPHME\n",
    "\n",
    "In this script, we will demonstrate some of DAPHME's functionalities for analyzing human mobility data. Our analysis will focus on the month of February for the city of Philadelphia. Using a dataset that originally contains [60000] users. \n",
    "\n",
    "In our analysis, we will perform three different kinds of operations, which are common in the analyses in these types of data. \n",
    "* **Importing**, which optionally converts the datetime to a specified timezone and project the coordinates into ESPG:3857 (which has units in meters and might be appropriate for a local analysis not too far from the equator). \n",
    "* **Coarse Filtering**, where we subset to users to make computations for tractable. In particular, we filter out users with very few days/hours with activity, and keep TODO [users with \"sufficient\" pings in the area]. We also filter to users with activity in a given time period.\n",
    "* **Persisting**"
   ]
  },
  {
   "cell_type": "markdown",
   "metadata": {},
   "source": [
    "## Load Pings\n",
    "\n",
    "Daphme can work with a single file in a number of formats (csv, parquet, txt) but its true utility comes when working with partitions of the data, which are often organized in a directory. In this example, we specify the path of the files to be loaded."
   ]
  },
  {
   "cell_type": "code",
   "execution_count": 21,
   "metadata": {
    "execution": {
     "iopub.execute_input": "2023-12-25T00:39:48.295154Z",
     "iopub.status.busy": "2023-12-25T00:39:48.294911Z",
     "iopub.status.idle": "2023-12-25T00:39:50.553671Z",
     "shell.execute_reply": "2023-12-25T00:39:50.553148Z",
     "shell.execute_reply.started": "2023-12-25T00:39:48.295132Z"
    },
    "tags": []
   },
   "outputs": [
    {
     "data": {
      "application/vnd.jupyter.widget-view+json": {
       "model_id": "f8a71b0ba132484cafa1450c23078f2a",
       "version_major": 2,
       "version_minor": 0
      },
      "text/plain": [
       "VBox()"
      ]
     },
     "metadata": {},
     "output_type": "display_data"
    },
    {
     "data": {
      "application/vnd.jupyter.widget-view+json": {
       "model_id": "",
       "version_major": 2,
       "version_minor": 0
      },
      "text/plain": [
       "FloatProgress(value=0.0, bar_style='info', description='Progress:', layout=Layout(height='25px', width='50%'),…"
      ]
     },
     "metadata": {},
     "output_type": "display_data"
    }
   ],
   "source": [
    "gravy_df = spark.read.parquet(\"s3://phl-pings/gravy/\")\n",
    "\n",
    "gravy_df = gravy_df. \\\n",
    "    withColumn(\"latitude\", F.col(\"geohashlatitude\").cast(DoubleType())). \\\n",
    "    withColumn(\"longitude\", F.col(\"geohashlongitude\").cast(DoubleType()))"
   ]
  },
  {
   "cell_type": "code",
   "execution_count": null,
   "metadata": {
    "tags": []
   },
   "outputs": [],
   "source": [
    "#cuebiq_df = spark.read.options(header='True', inferSchema='True', delimiter=',').parquet(\"s3://phl-pings/cuebiq-jan-mar/\")\n",
    "#cuebiq_df.show()"
   ]
  },
  {
   "cell_type": "code",
   "execution_count": 17,
   "metadata": {
    "execution": {
     "iopub.execute_input": "2023-12-25T00:39:25.543945Z",
     "iopub.status.busy": "2023-12-25T00:39:25.543724Z",
     "iopub.status.idle": "2023-12-25T00:39:25.585188Z",
     "shell.execute_reply": "2023-12-25T00:39:25.584682Z",
     "shell.execute_reply.started": "2023-12-25T00:39:25.543921Z"
    },
    "tags": []
   },
   "outputs": [
    {
     "data": {
      "application/vnd.jupyter.widget-view+json": {
       "model_id": "4b7db92ee8e9414581775b0b49901ffe",
       "version_major": 2,
       "version_minor": 0
      },
      "text/plain": [
       "VBox()"
      ]
     },
     "metadata": {},
     "output_type": "display_data"
    },
    {
     "data": {
      "application/vnd.jupyter.widget-view+json": {
       "model_id": "",
       "version_major": 2,
       "version_minor": 0
      },
      "text/plain": [
       "FloatProgress(value=0.0, bar_style='info', description='Progress:', layout=Layout(height='25px', width='50%'),…"
      ]
     },
     "metadata": {},
     "output_type": "display_data"
    }
   ],
   "source": [
    "def to_local_time(df: DataFrame, \n",
    "                  timezone_to: str,\n",
    "                  timestamp_col: str = \"timestamp\") -> DataFrame:\n",
    "    \"\"\"\n",
    "    Parameters\n",
    "    ----------\n",
    "    df: Spark dataframe with a column named timestamp_col, which contains timestamps\n",
    "            \n",
    "    timezone: a valid timezone identifier for the local timezone of the data. E.g.,\"America/New_York\", \"UTC\" \n",
    "    \n",
    "    timestamp_col: (optional) name of the column containing timestamps\n",
    "    \n",
    "    Returns\n",
    "    ----------\n",
    "    Spark dataframe with additional columns\n",
    "        'local_timestamp'\n",
    "        'date'\n",
    "        'date_hour'\n",
    "        'day_of_week' (1 for Sunday, 2 for Monday, ..., 7 for Saturday)\n",
    "    \"\"\"\n",
    "    \n",
    "    # Convert timestamp to local timestamp\n",
    "    df = df.withColumn(\n",
    "        \"local_timestamp\",\n",
    "        F.from_utc_timestamp(\n",
    "            F.to_timestamp(F.col(timestamp_col) / 1000),  # divide by 1000 for milliseconds\n",
    "            timezone_to  # convert from UTC to timezone specified by timezone_to\n",
    "        ))\n",
    "\n",
    "    # Add date, date_hour, and day_of_week columns\n",
    "    df = df.withColumn(\n",
    "        \"date\",\n",
    "        F.to_date(F.col(\"local_timestamp\"))\n",
    "    ).withColumn(\n",
    "        \"date_hour\",\n",
    "        F.date_format(F.col(\"local_timestamp\"), \"yyyy-MM-dd HH\")\n",
    "    ).withColumn(\n",
    "        \"day_of_week\",\n",
    "        F.dayofweek(F.col(\"local_timestamp\"))\n",
    "    )\n",
    "\n",
    "    return df"
   ]
  },
  {
   "cell_type": "code",
   "execution_count": 22,
   "metadata": {
    "execution": {
     "iopub.execute_input": "2023-12-25T00:39:53.199307Z",
     "iopub.status.busy": "2023-12-25T00:39:53.199091Z",
     "iopub.status.idle": "2023-12-25T00:39:53.444180Z",
     "shell.execute_reply": "2023-12-25T00:39:53.443668Z",
     "shell.execute_reply.started": "2023-12-25T00:39:53.199285Z"
    },
    "tags": []
   },
   "outputs": [
    {
     "data": {
      "application/vnd.jupyter.widget-view+json": {
       "model_id": "66b8bcaab11b45d796da9d7ea4364d1f",
       "version_major": 2,
       "version_minor": 0
      },
      "text/plain": [
       "VBox()"
      ]
     },
     "metadata": {},
     "output_type": "display_data"
    },
    {
     "data": {
      "application/vnd.jupyter.widget-view+json": {
       "model_id": "",
       "version_major": 2,
       "version_minor": 0
      },
      "text/plain": [
       "FloatProgress(value=0.0, bar_style='info', description='Progress:', layout=Layout(height='25px', width='50%'),…"
      ]
     },
     "metadata": {},
     "output_type": "display_data"
    }
   ],
   "source": [
    "gravy_df = to_local_time(gravy_df, 'America/New_York')\n",
    "gravy_df = cleaning.clean_coords(gravy_df, spark)"
   ]
  },
  {
   "cell_type": "code",
   "execution_count": null,
   "metadata": {
    "tags": []
   },
   "outputs": [],
   "source": [
    "#gravy_df.select(\"grid\").distinct().count()\n",
    "#gravy_df.printSchema()"
   ]
  },
  {
   "cell_type": "code",
   "execution_count": 11,
   "metadata": {
    "execution": {
     "iopub.execute_input": "2023-12-25T00:34:32.330307Z",
     "iopub.status.busy": "2023-12-25T00:34:32.330090Z",
     "iopub.status.idle": "2023-12-25T00:34:45.627570Z",
     "shell.execute_reply": "2023-12-25T00:34:45.626787Z",
     "shell.execute_reply.started": "2023-12-25T00:34:32.330284Z"
    },
    "tags": []
   },
   "outputs": [
    {
     "data": {
      "application/vnd.jupyter.widget-view+json": {
       "model_id": "ff6576dbd8f64b8b82e408d2cf3ed58e",
       "version_major": 2,
       "version_minor": 0
      },
      "text/plain": [
       "VBox()"
      ]
     },
     "metadata": {},
     "output_type": "display_data"
    },
    {
     "data": {
      "application/vnd.jupyter.widget-view+json": {
       "model_id": "",
       "version_major": 2,
       "version_minor": 0
      },
      "text/plain": [
       "FloatProgress(value=0.0, bar_style='info', description='Progress:', layout=Layout(height='25px', width='50%'),…"
      ]
     },
     "metadata": {},
     "output_type": "display_data"
    },
    {
     "name": "stdout",
     "output_type": "stream",
     "text": [
      "+--------------------+---------------+----------------+-----------+-------------+----------------+--------------+------------+----------+-----------+---------+----------+-------------------+----------+-------------+-----------+--------------------+\n",
      "|                grid|geohashlatitude|geohashlongitude|geohashnine|    timestamp|        timezone|     ipaddress|forensicflag|devicetype|recordcount| latitude| longitude|    local_timestamp|      date|    date_hour|day_of_week|      mercator_coord|\n",
      "+--------------------+---------------+----------------+-----------+-------------+----------------+--------------+------------+----------+-----------+---------+----------+-------------------+----------+-------------+-----------+--------------------+\n",
      "|00000006-23aa-3e4...|      39.947813|      -74.911673|  dr4er26bz|1583099437000|America/New_York| 73.76.110.202|       33536|      AAID|          1|39.947813|-74.911673|2471-08-30 22:26:10|2471-08-30|2471-08-30 22|          1|POINT (4858361.50...|\n",
      "|00000013-ec62-3ef...|      40.013387|      -75.144017|  dr4edh1yc|1571218566000|America/New_York|  172.56.28.49|      525056|      IDFA|          1|40.013387|-75.144017|2467-11-24 19:01:00|2467-11-24|2467-11-24 19|          5|POINT (4867887.83...|\n",
      "|00000013-ec62-3ef...|      40.013387|      -75.144017|  dr4edh1yc|1571225799000|America/New_York|  172.56.28.49|      525056|      IDFA|          1|40.013387|-75.144017|2467-11-25 15:06:30|2467-11-25|2467-11-25 15|          6|POINT (4867887.83...|\n",
      "|00000013-ec62-3ef...|      40.031884|      -75.174015|  dr4e9refw|1571236576000|America/New_York|  172.56.29.98|      525056|      IDFA|          1|40.031884|-75.174015|2467-11-26 21:02:40|2467-11-26|2467-11-26 21|          7|POINT (4870576.65...|\n",
      "|00000013-ec62-3ef...|      40.013087|      -75.094707|  dr4eehjtn|1572230042000|America/New_York|172.58.203.219|      525056|      IDFA|          1|40.013087|-75.094707|2468-03-20 21:40:20|2468-03-20|2468-03-20 21|          3|POINT (4867844.22...|\n",
      "|00000013-ec62-3ef...|      40.013087|      -75.094707|  dr4eehjtn|1572233767000|America/New_York| 172.58.203.41|      525056|      IDFA|          1|40.013087|-75.094707|2468-03-21 08:01:10|2468-03-21|2468-03-21 08|          4|POINT (4867844.22...|\n",
      "|00000013-ec62-3ef...|      40.013087|      -75.094707|  dr4eehjtn|1572244569000|America/New_York|172.58.203.130|      525056|      IDFA|          1|40.013087|-75.094707|2468-03-22 14:01:30|2468-03-22|2468-03-22 14|          5|POINT (4867844.22...|\n",
      "|00000013-ec62-3ef...|      40.013087|      -75.094707|  dr4eehjtn|1572248169000|America/New_York|172.58.203.198|      525056|      IDFA|          1|40.013087|-75.094707|2468-03-23 00:01:30|2468-03-23|2468-03-23 00|          6|POINT (4867844.22...|\n",
      "|00000013-ec62-3ef...|      40.013087|      -75.094707|  dr4eehjtn|1572255366000|America/New_York| 172.58.203.17|      525056|      IDFA|          1|40.013087|-75.094707|2468-03-23 20:01:00|2468-03-23|2468-03-23 20|          6|POINT (4867844.22...|\n",
      "|00000013-ec62-3ef...|      40.013087|      -75.094707|  dr4eehjtn|1572258968000|America/New_York|172.58.203.184|      525056|      IDFA|          1|40.013087|-75.094707|2468-03-24 06:01:20|2468-03-24|2468-03-24 06|          7|POINT (4867844.22...|\n",
      "|00000013-ec62-3ef...|      39.980814|      -75.172212|  dr4e3qm30|1572262567000|America/New_York|172.58.206.240|      524928|      IDFA|          1|39.980814|-75.172212|2468-03-24 16:01:10|2468-03-24|2468-03-24 16|          7|POINT (4863154.61...|\n",
      "|00000013-ec62-3ef...|      39.980814|      -75.172212|  dr4e3qm30|1572266173000|America/New_York|172.58.206.154|      524928|      IDFA|          1|39.980814|-75.172212|2468-03-25 02:02:10|2468-03-25|2468-03-25 02|          1|POINT (4863154.61...|\n",
      "|00000013-ec62-3ef...|      40.013087|      -75.094707|  dr4eehjtn|1572284181000|America/New_York|172.58.203.141|      525056|      IDFA|          1|40.013087|-75.094707|2468-03-27 04:03:30|2468-03-27|2468-03-27 04|          3|POINT (4867844.22...|\n",
      "|00000013-ec62-3ef...|      39.980814|      -75.172212|  dr4e3qm30|1572287781000|America/New_York|172.58.206.244|      524928|      IDFA|          1|39.980814|-75.172212|2468-03-27 14:03:30|2468-03-27|2468-03-27 14|          3|POINT (4863154.61...|\n",
      "|00000013-ec62-3ef...|      40.013087|      -75.094707|  dr4eehjtn|1572291387000|America/New_York|172.58.203.140|      525056|      IDFA|          1|40.013087|-75.094707|2468-03-28 00:04:30|2468-03-28|2468-03-28 00|          4|POINT (4867844.22...|\n",
      "|00000013-ec62-3ef...|      40.013087|      -75.094707|  dr4eehjtn|1572302166000|America/New_York|172.58.203.200|      525056|      IDFA|          1|40.013087|-75.094707|2468-03-29 06:01:00|2468-03-29|2468-03-29 06|          5|POINT (4867844.22...|\n",
      "|00000013-ec62-3ef...|      39.980814|      -75.172212|  dr4e3qm30|1572309372000|America/New_York|172.58.206.157|      524928|      IDFA|          1|39.980814|-75.172212|2468-03-30 02:02:00|2468-03-30|2468-03-30 02|          6|POINT (4863154.61...|\n",
      "|00000013-ec62-3ef...|      39.924209|      -75.186803|  dr4e15fxk|1573079778000|America/New_York|  172.58.207.3|      525056|      IDFA|          1|39.924209|-75.186803|2468-06-27 06:03:00|2468-06-27|2468-06-27 06|          4|POINT (4854934.64...|\n",
      "|00000013-ec62-3ef...|       40.05789|      -75.082004|  dr4egkqfn|1573086964000|America/New_York|172.58.204.119|      525056|      IDFA|          1| 40.05789|-75.082004|2468-06-28 02:00:40|2468-06-28|2468-06-28 02|          5|POINT (4874358.26...|\n",
      "|00000013-ec62-3ef...|       39.96382|      -75.198219|  dr4e2g4q4|1575786965000|America/New_York|172.58.204.130|      524928|      AAID|          1| 39.96382|-75.198219|2469-05-06 14:00:50|2469-05-06|2469-05-06 14|          2|POINT (4860686.09...|\n",
      "+--------------------+---------------+----------------+-----------+-------------+----------------+--------------+------------+----------+-----------+---------+----------+-------------------+----------+-------------+-----------+--------------------+\n",
      "only showing top 20 rows"
     ]
    }
   ],
   "source": [
    "gravy_df.show()"
   ]
  },
  {
   "cell_type": "markdown",
   "metadata": {},
   "source": [
    "## Coarse Filtering\n",
    "\n",
    "Takes in a geometry and filters to pings within the given geometry"
   ]
  },
  {
   "cell_type": "markdown",
   "metadata": {},
   "source": [
    "Load in a bounding box for Philadelphia"
   ]
  },
  {
   "cell_type": "code",
   "execution_count": 12,
   "metadata": {
    "execution": {
     "iopub.execute_input": "2023-12-25T00:34:50.559240Z",
     "iopub.status.busy": "2023-12-25T00:34:50.559022Z",
     "iopub.status.idle": "2023-12-25T00:34:51.312108Z",
     "shell.execute_reply": "2023-12-25T00:34:51.311436Z",
     "shell.execute_reply.started": "2023-12-25T00:34:50.559216Z"
    },
    "tags": []
   },
   "outputs": [
    {
     "data": {
      "application/vnd.jupyter.widget-view+json": {
       "model_id": "c5bff490ffef41bcb9f48dfcade6d3d0",
       "version_major": 2,
       "version_minor": 0
      },
      "text/plain": [
       "VBox()"
      ]
     },
     "metadata": {},
     "output_type": "display_data"
    },
    {
     "data": {
      "application/vnd.jupyter.widget-view+json": {
       "model_id": "",
       "version_major": 2,
       "version_minor": 0
      },
      "text/plain": [
       "FloatProgress(value=0.0, bar_style='info', description='Progress:', layout=Layout(height='25px', width='50%'),…"
      ]
     },
     "metadata": {},
     "output_type": "display_data"
    }
   ],
   "source": [
    "import boto3\n",
    "from io import BytesIO\n",
    "\n",
    "s3 = boto3.client('s3')\n",
    "bucket_name = 'upenn-seas-wattscovid19lab'\n",
    "object_key = 'paco/geometry/Census_Tracts_2010.geojson'\n",
    "\n",
    "obj = s3.get_object(Bucket=bucket_name, Key=object_key)\n",
    "geojson_data = json.load(BytesIO(obj['Body'].read()))\n",
    "\n",
    "features = geojson_data['features']\n",
    "\n",
    "polygons = [shape(feature[\"geometry\"]).buffer(0) for feature in features if feature[\"properties\"][\"GEOID10\"][:5] == \"42101\"]\n",
    "phila_poly = unary_union(polygons).buffer(0.0015).simplify(0.0015)\n",
    "phila_box = box(*phila_poly.bounds)"
   ]
  },
  {
   "cell_type": "code",
   "execution_count": 32,
   "metadata": {
    "execution": {
     "iopub.execute_input": "2023-12-25T00:55:30.150853Z",
     "iopub.status.busy": "2023-12-25T00:55:30.150633Z",
     "iopub.status.idle": "2023-12-25T00:55:30.390575Z",
     "shell.execute_reply": "2023-12-25T00:55:30.390058Z",
     "shell.execute_reply.started": "2023-12-25T00:55:30.150829Z"
    },
    "tags": []
   },
   "outputs": [
    {
     "data": {
      "application/vnd.jupyter.widget-view+json": {
       "model_id": "d49bb027b8f0412499bc74e83551a142",
       "version_major": 2,
       "version_minor": 0
      },
      "text/plain": [
       "VBox()"
      ]
     },
     "metadata": {},
     "output_type": "display_data"
    },
    {
     "data": {
      "application/vnd.jupyter.widget-view+json": {
       "model_id": "",
       "version_major": 2,
       "version_minor": 0
      },
      "text/plain": [
       "FloatProgress(value=0.0, bar_style='info', description='Progress:', layout=Layout(height='25px', width='50%'),…"
      ]
     },
     "metadata": {},
     "output_type": "display_data"
    }
   ],
   "source": [
    "gravy_df = gravy_df.withColumn(\n",
    "        \"coordinate\",\n",
    "        F.expr(\"ST_MakePoint(longitude, latitude)\"))"
   ]
  },
  {
   "cell_type": "code",
   "execution_count": 41,
   "metadata": {
    "execution": {
     "iopub.execute_input": "2023-12-25T01:14:53.737677Z",
     "iopub.status.busy": "2023-12-25T01:14:53.737455Z",
     "iopub.status.idle": "2023-12-25T01:15:11.033794Z",
     "shell.execute_reply": "2023-12-25T01:15:11.033260Z",
     "shell.execute_reply.started": "2023-12-25T01:14:53.737653Z"
    },
    "tags": []
   },
   "outputs": [
    {
     "data": {
      "application/vnd.jupyter.widget-view+json": {
       "model_id": "3d3f78d095674ca2aaab2481d9fc7392",
       "version_major": 2,
       "version_minor": 0
      },
      "text/plain": [
       "VBox()"
      ]
     },
     "metadata": {},
     "output_type": "display_data"
    },
    {
     "data": {
      "application/vnd.jupyter.widget-view+json": {
       "model_id": "",
       "version_major": 2,
       "version_minor": 0
      },
      "text/plain": [
       "FloatProgress(value=0.0, bar_style='info', description='Progress:', layout=Layout(height='25px', width='50%'),…"
      ]
     },
     "metadata": {},
     "output_type": "display_data"
    },
    {
     "name": "stdout",
     "output_type": "stream",
     "text": [
      "+--------------------+-------------------+--------------------+--------------------+\n",
      "|                grid|    local_timestamp|          coordinate|      mercator_coord|\n",
      "+--------------------+-------------------+--------------------+--------------------+\n",
      "|00000006-23aa-3e4...|2020-03-01 16:50:37|POINT (-74.911673...|POINT (4858361.50...|\n",
      "|00000013-ec62-3ef...|2019-10-16 05:36:06|POINT (-75.144017...|POINT (4867887.83...|\n",
      "|00000013-ec62-3ef...|2019-10-16 07:36:39|POINT (-75.144017...|POINT (4867887.83...|\n",
      "|00000013-ec62-3ef...|2019-10-16 10:36:16|POINT (-75.174015...|POINT (4870576.65...|\n",
      "|00000013-ec62-3ef...|2019-10-27 22:34:02|POINT (-75.094707...|POINT (4867844.22...|\n",
      "|00000013-ec62-3ef...|2019-10-27 23:36:07|POINT (-75.094707...|POINT (4867844.22...|\n",
      "|00000013-ec62-3ef...|2019-10-28 02:36:09|POINT (-75.094707...|POINT (4867844.22...|\n",
      "|00000013-ec62-3ef...|2019-10-28 03:36:09|POINT (-75.094707...|POINT (4867844.22...|\n",
      "|00000013-ec62-3ef...|2019-10-28 05:36:06|POINT (-75.094707...|POINT (4867844.22...|\n",
      "|00000013-ec62-3ef...|2019-10-28 06:36:08|POINT (-75.094707...|POINT (4867844.22...|\n",
      "|00000013-ec62-3ef...|2019-10-28 07:36:07|POINT (-75.172212...|POINT (4863154.61...|\n",
      "|00000013-ec62-3ef...|2019-10-28 08:36:13|POINT (-75.172212...|POINT (4863154.61...|\n",
      "|00000013-ec62-3ef...|2019-10-28 13:36:21|POINT (-75.094707...|POINT (4867844.22...|\n",
      "|00000013-ec62-3ef...|2019-10-28 14:36:21|POINT (-75.172212...|POINT (4863154.61...|\n",
      "|00000013-ec62-3ef...|2019-10-28 15:36:27|POINT (-75.094707...|POINT (4867844.22...|\n",
      "|00000013-ec62-3ef...|2019-10-28 18:36:06|POINT (-75.094707...|POINT (4867844.22...|\n",
      "|00000013-ec62-3ef...|2019-10-28 20:36:12|POINT (-75.172212...|POINT (4863154.61...|\n",
      "|00000013-ec62-3ef...|2019-11-06 17:36:18|POINT (-75.186803...|POINT (4854934.64...|\n",
      "|00000013-ec62-3ef...|2019-11-06 19:36:04|POINT (-75.082004...|POINT (4874358.26...|\n",
      "|00000013-ec62-3ef...|2019-12-08 01:36:05|POINT (-75.198219...|POINT (4860686.09...|\n",
      "+--------------------+-------------------+--------------------+--------------------+\n",
      "only showing top 20 rows"
     ]
    }
   ],
   "source": [
    "testDF = gravy_df.limit(100)\n",
    "testDF = testDF.select(\"grid\", \"local_timestamp\", \"coordinate\", \"mercator_coord\")\n",
    "testDF.show()"
   ]
  },
  {
   "cell_type": "code",
   "execution_count": 39,
   "metadata": {
    "execution": {
     "iopub.execute_input": "2023-12-25T01:05:23.137370Z",
     "iopub.status.busy": "2023-12-25T01:05:23.137148Z",
     "iopub.status.idle": "2023-12-25T01:05:23.380402Z",
     "shell.execute_reply": "2023-12-25T01:05:23.379833Z",
     "shell.execute_reply.started": "2023-12-25T01:05:23.137347Z"
    },
    "tags": []
   },
   "outputs": [
    {
     "data": {
      "application/vnd.jupyter.widget-view+json": {
       "model_id": "675a1867d071436eb52ae415cd12f2c8",
       "version_major": 2,
       "version_minor": 0
      },
      "text/plain": [
       "VBox()"
      ]
     },
     "metadata": {},
     "output_type": "display_data"
    },
    {
     "data": {
      "application/vnd.jupyter.widget-view+json": {
       "model_id": "",
       "version_major": 2,
       "version_minor": 0
      },
      "text/plain": [
       "FloatProgress(value=0.0, bar_style='info', description='Progress:', layout=Layout(height='25px', width='50%'),…"
      ]
     },
     "metadata": {},
     "output_type": "display_data"
    }
   ],
   "source": [
    "# Obtain unique users with at least 1 ping in sample window\n",
    "phila_box_wkt = phila_box.wkt\n",
    "\n",
    "testDF.createOrReplaceTempView(\"gravy_df\")\n",
    "\n",
    "query = f\"\"\"\n",
    "WITH UniqueIDs AS (\n",
    "    SELECT DISTINCT grid\n",
    "    FROM gravy_df\n",
    "    WHERE ST_Contains(ST_GeomFromWKT('{phila_box_wkt}'), coordinate)\n",
    ")\n",
    "\n",
    "SELECT g.*\n",
    "FROM gravy_df g\n",
    "INNER JOIN UniqueIDs u ON g.grid = u.grid\n",
    "\"\"\"\n",
    "\n",
    "gravy_df_filtered = spark.sql(query)"
   ]
  },
  {
   "cell_type": "code",
   "execution_count": 31,
   "metadata": {
    "execution": {
     "iopub.execute_input": "2023-12-25T00:55:16.030945Z",
     "iopub.status.busy": "2023-12-25T00:55:16.030725Z",
     "iopub.status.idle": "2023-12-25T00:55:16.071408Z",
     "shell.execute_reply": "2023-12-25T00:55:16.070862Z",
     "shell.execute_reply.started": "2023-12-25T00:55:16.030921Z"
    }
   },
   "outputs": [
    {
     "data": {
      "application/vnd.jupyter.widget-view+json": {
       "model_id": "37fba26b677a47e78d5bdd5c89659a2b",
       "version_major": 2,
       "version_minor": 0
      },
      "text/plain": [
       "VBox()"
      ]
     },
     "metadata": {},
     "output_type": "display_data"
    },
    {
     "data": {
      "application/vnd.jupyter.widget-view+json": {
       "model_id": "",
       "version_major": 2,
       "version_minor": 0
      },
      "text/plain": [
       "FloatProgress(value=0.0, bar_style='info', description='Progress:', layout=Layout(height='25px', width='50%'),…"
      ]
     },
     "metadata": {},
     "output_type": "display_data"
    },
    {
     "name": "stdout",
     "output_type": "stream",
     "text": [
      "'POLYGON ((-74.95426957576791 39.865972786981764, -74.95426957576791 40.13930486772445, -75.28146629180951 40.13930486772445, -75.28146629180951 39.865972786981764, -74.95426957576791 39.865972786981764))'"
     ]
    }
   ],
   "source": [
    "phila_box_wkt"
   ]
  },
  {
   "cell_type": "code",
   "execution_count": 40,
   "metadata": {
    "execution": {
     "iopub.execute_input": "2023-12-25T01:05:25.431116Z",
     "iopub.status.busy": "2023-12-25T01:05:25.430852Z",
     "iopub.status.idle": "2023-12-25T01:10:37.526023Z",
     "shell.execute_reply": "2023-12-25T01:10:37.525496Z",
     "shell.execute_reply.started": "2023-12-25T01:05:25.431090Z"
    },
    "tags": []
   },
   "outputs": [
    {
     "data": {
      "application/vnd.jupyter.widget-view+json": {
       "model_id": "b24a6932d9c5457a9dcd8a9cdc4591f4",
       "version_major": 2,
       "version_minor": 0
      },
      "text/plain": [
       "VBox()"
      ]
     },
     "metadata": {},
     "output_type": "display_data"
    },
    {
     "data": {
      "application/vnd.jupyter.widget-view+json": {
       "model_id": "",
       "version_major": 2,
       "version_minor": 0
      },
      "text/plain": [
       "FloatProgress(value=0.0, bar_style='info', description='Progress:', layout=Layout(height='25px', width='50%'),…"
      ]
     },
     "metadata": {},
     "output_type": "display_data"
    },
    {
     "name": "stdout",
     "output_type": "stream",
     "text": [
      "+----+---------------+----------+--------------+\n",
      "|grid|local_timestamp|coordinate|mercator_coord|\n",
      "+----+---------------+----------+--------------+\n",
      "+----+---------------+----------+--------------+"
     ]
    }
   ],
   "source": [
    "gravy_df_filtered.show()"
   ]
  },
  {
   "cell_type": "code",
   "execution_count": null,
   "metadata": {},
   "outputs": [],
   "source": []
  }
 ],
 "metadata": {
  "kernelspec": {
   "display_name": "PySpark",
   "language": "python",
   "name": "pysparkkernel"
  },
  "language_info": {
   "codemirror_mode": {
    "name": "python",
    "version": 3
   },
   "file_extension": ".py",
   "mimetype": "text/x-python",
   "name": "pyspark",
   "pygments_lexer": "python3"
  }
 },
 "nbformat": 4,
 "nbformat_minor": 4
}
