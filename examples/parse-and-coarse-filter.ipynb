{
 "cells": [
  {
   "cell_type": "code",
   "execution_count": 1,
   "metadata": {
    "execution": {
     "iopub.execute_input": "2023-12-15T23:19:29.299135Z",
     "iopub.status.busy": "2023-12-15T23:19:29.298888Z",
     "iopub.status.idle": "2023-12-15T23:19:29.791517Z",
     "shell.execute_reply": "2023-12-15T23:19:29.790773Z",
     "shell.execute_reply.started": "2023-12-15T23:19:29.299104Z"
    },
    "tags": []
   },
   "outputs": [
    {
     "data": {
      "text/html": [
       "Current session configs: <tt>{'conf': {'spark.pyspark.python': '/home/hadoop/epidemics-venv/bin/python3', 'spark.pyspark.virtualenv.bin.path': '/home/hadoop/epidemics-venv/bin', 'spark.dynamicAllocation.enabled': 'true', 'spark.executor.memory': '16g', 'spark.driver.memory': '16g', 'spark.executor.cores': '6', 'spark.driver.cores': '6', 'spark.driver.maxResultSize': '20g', 'livy.server.session.timeout-check': 'false'}, 'proxyUser': 'user_thomas-li', 'kind': 'pyspark'}</tt><br>"
      ],
      "text/plain": [
       "<IPython.core.display.HTML object>"
      ]
     },
     "metadata": {},
     "output_type": "display_data"
    },
    {
     "data": {
      "text/html": [
       "No active sessions."
      ],
      "text/plain": [
       "<IPython.core.display.HTML object>"
      ]
     },
     "metadata": {},
     "output_type": "display_data"
    }
   ],
   "source": [
    "%%configure -f\n",
    "\n",
    "{\"conf\":\n",
    "     {\"spark.pyspark.python\":\"/home/hadoop/epidemics-venv/bin/python3\",\n",
    "      \"spark.pyspark.virtualenv.bin.path\":\"/home/hadoop/epidemics-venv/bin\",\n",
    "      \"spark.pyspark.python\":\"/home/hadoop/epidemics-venv/bin/python3\",\n",
    "      \"spark.dynamicAllocation.enabled\":\"true\",\n",
    "      \"spark.executor.memory\":\"16g\",\n",
    "      \"spark.driver.memory\":\"16g\",\n",
    "      \"spark.executor.cores\":\"6\",\n",
    "      \"spark.driver.cores\":\"6\",\n",
    "      \"spark.driver.maxResultSize\":\"20g\",\n",
    "      \"livy.server.session.timeout-check\" :\"false\"}\n",
    "}"
   ]
  },
  {
   "cell_type": "code",
   "execution_count": 2,
   "metadata": {
    "execution": {
     "iopub.execute_input": "2023-12-15T23:19:32.132740Z",
     "iopub.status.busy": "2023-12-15T23:19:32.132484Z",
     "iopub.status.idle": "2023-12-15T23:20:21.705655Z",
     "shell.execute_reply": "2023-12-15T23:20:21.705096Z",
     "shell.execute_reply.started": "2023-12-15T23:19:32.132715Z"
    },
    "tags": []
   },
   "outputs": [
    {
     "data": {
      "application/vnd.jupyter.widget-view+json": {
       "model_id": "e33950a1586348d7bee705c25269106a",
       "version_major": 2,
       "version_minor": 0
      },
      "text/plain": [
       "VBox()"
      ]
     },
     "metadata": {},
     "output_type": "display_data"
    },
    {
     "name": "stdout",
     "output_type": "stream",
     "text": [
      "Starting Spark application\n"
     ]
    },
    {
     "data": {
      "text/html": [
       "<table>\n<tbody><tr><th>ID</th><th>YARN Application ID</th><th>Kind</th><th>State</th><th>Spark UI</th><th>Driver log</th><th>User</th><th>Current session?</th></tr><tr><td>0</td><td>application_1702682215465_0001</td><td>pyspark</td><td>idle</td><td><a target=\"_blank\" href=\"http://ip-10-0-1-188.us-east-2.compute.internal:20888/proxy/application_1702682215465_0001/\" class=\"emr-proxy-link j-1MQN47969FIED application_1702682215465_0001\" emr-resource=\"j-1MQN47969FIED\n\" application-id=\"application_1702682215465_0001\">Link</a></td><td><a target=\"_blank\" href=\"http://ip-10-0-1-228.us-east-2.compute.internal:8042/node/containerlogs/container_1702682215465_0001_01_000001/livy\">Link</a></td><td>None</td><td>✔</td></tr></tbody></table>"
      ],
      "text/plain": [
       "<IPython.core.display.HTML object>"
      ]
     },
     "metadata": {},
     "output_type": "display_data"
    },
    {
     "data": {
      "application/vnd.jupyter.widget-view+json": {
       "model_id": "",
       "version_major": 2,
       "version_minor": 0
      },
      "text/plain": [
       "FloatProgress(value=0.0, bar_style='info', description='Progress:', layout=Layout(height='25px', width='50%'),…"
      ]
     },
     "metadata": {},
     "output_type": "display_data"
    },
    {
     "name": "stdout",
     "output_type": "stream",
     "text": [
      "SparkSession available as 'spark'.\n"
     ]
    },
    {
     "data": {
      "application/vnd.jupyter.widget-view+json": {
       "model_id": "",
       "version_major": 2,
       "version_minor": 0
      },
      "text/plain": [
       "FloatProgress(value=0.0, bar_style='info', description='Progress:', layout=Layout(height='25px', width='50%'),…"
      ]
     },
     "metadata": {},
     "output_type": "display_data"
    }
   ],
   "source": [
    "import daphme as dm\n",
    "import pandas as pd\n",
    "from pyproj import Transformer\n",
    "\n",
    "from pyspark.sql import SparkSession\n",
    "from pyspark.sql import functions as F\n",
    "from pyspark.sql.types import DoubleType\n",
    "\n",
    "from sedona.spark import *"
   ]
  },
  {
   "cell_type": "code",
   "execution_count": 3,
   "metadata": {
    "execution": {
     "iopub.execute_input": "2023-12-15T23:20:21.706880Z",
     "iopub.status.busy": "2023-12-15T23:20:21.706719Z",
     "iopub.status.idle": "2023-12-15T23:20:21.772410Z",
     "shell.execute_reply": "2023-12-15T23:20:21.771755Z",
     "shell.execute_reply.started": "2023-12-15T23:20:21.706860Z"
    },
    "tags": []
   },
   "outputs": [
    {
     "data": {
      "application/vnd.jupyter.widget-view+json": {
       "model_id": "832fe5dae7cf46d9a73a3e1c8d46f87f",
       "version_major": 2,
       "version_minor": 0
      },
      "text/plain": [
       "VBox()"
      ]
     },
     "metadata": {},
     "output_type": "display_data"
    },
    {
     "data": {
      "application/vnd.jupyter.widget-view+json": {
       "model_id": "",
       "version_major": 2,
       "version_minor": 0
      },
      "text/plain": [
       "FloatProgress(value=0.0, bar_style='info', description='Progress:', layout=Layout(height='25px', width='50%'),…"
      ]
     },
     "metadata": {},
     "output_type": "display_data"
    }
   ],
   "source": [
    "spark = SparkSession.\\\n",
    "    builder.\\\n",
    "    master(\"local[*]\").\\\n",
    "    appName(\"Example1\").\\\n",
    "    getOrCreate()"
   ]
  },
  {
   "cell_type": "markdown",
   "metadata": {},
   "source": [
    "## Intro to DAPHME\n",
    "\n",
    "In this script, we will demonstrate some of DAPHME's functionalities for analyzing human mobility data. Our analysis will focus on the month of February for the city of Philadelphia. Using a dataset that originally contains [60000] users. \n",
    "\n",
    "In our analysis, we will perform three different kinds of operations, which are common in the analyses in these types of data. \n",
    "* **Importing**, which optionally converts the datetime to a specified timezone and project the coordinates into ESPG:3857 (which has units in meters and might be appropriate for a local analysis not too far from the equator). \n",
    "* **Coarse Filtering**, where we subset to users to make computations for tractable. In particular, we filter out users with very few days/hours with activity, and keep TODO [users with \"sufficient\" pings in the area]. We also filter to users with activity in a given time period.\n",
    "* **Persisting**"
   ]
  },
  {
   "cell_type": "markdown",
   "metadata": {},
   "source": [
    "## Load Pings\n",
    "\n",
    "Daphme can work with a single file in a number of formats (csv, parquet, txt) but its true utility comes when working with partitions of the data, which are often organized in a directory. In this example, we specify the path of the files to be loaded."
   ]
  },
  {
   "cell_type": "code",
   "execution_count": null,
   "metadata": {
    "tags": []
   },
   "outputs": [],
   "source": [
    "gravy_df = spark.read.parquet(\"s3://phl-pings/gravy/\")\n",
    "\n",
    "gravy_df = gravy_df. \\\n",
    "    withColumn(\"latitude\", F.col(\"geohashlatitude\").cast(DoubleType())). \\\n",
    "    withColumn(\"longitude\", F.col(\"geohashlongitude\").cast(DoubleType()))"
   ]
  },
  {
   "cell_type": "code",
   "execution_count": null,
   "metadata": {},
   "outputs": [],
   "source": [
    "cuebiq_df = spark.read.options(header='True', inferSchema='True', delimiter=',').parquet(\"s3://phl-pings/cuebiq-jan-mar/\")"
   ]
  },
  {
   "cell_type": "code",
   "execution_count": null,
   "metadata": {},
   "outputs": [],
   "source": [
    "cuebiq_df.show()"
   ]
  },
  {
   "cell_type": "code",
   "execution_count": 20,
   "metadata": {
    "execution": {
     "iopub.execute_input": "2023-12-15T23:45:37.102624Z",
     "iopub.status.busy": "2023-12-15T23:45:37.102399Z",
     "iopub.status.idle": "2023-12-15T23:45:37.353040Z",
     "shell.execute_reply": "2023-12-15T23:45:37.352470Z",
     "shell.execute_reply.started": "2023-12-15T23:45:37.102600Z"
    },
    "tags": []
   },
   "outputs": [
    {
     "data": {
      "application/vnd.jupyter.widget-view+json": {
       "model_id": "23bbb850dd1d48cf91e083252fbc3b01",
       "version_major": 2,
       "version_minor": 0
      },
      "text/plain": [
       "VBox()"
      ]
     },
     "metadata": {},
     "output_type": "display_data"
    },
    {
     "data": {
      "application/vnd.jupyter.widget-view+json": {
       "model_id": "",
       "version_major": 2,
       "version_minor": 0
      },
      "text/plain": [
       "FloatProgress(value=0.0, bar_style='info', description='Progress:', layout=Layout(height='25px', width='50%'),…"
      ]
     },
     "metadata": {},
     "output_type": "display_data"
    }
   ],
   "source": [
    "gravy_df = gravy_df.withColumn(\n",
    "    \"timestamp1\",\n",
    "    F.from_utc_timestamp(\n",
    "        F.to_timestamp(F.col(\"timestamp\") / 1000), # divide by 1000 because given in milliseconds\n",
    "    F.col(\"timezone\") # converts timestamp from UTC to local timezone\n",
    "))\n",
    "\n",
    "# gravy_df = gravy_df.withColumn(\n",
    "#    \"timestamp\",\n",
    "#    F.from_utc_timestamp(\n",
    "#        F.to_utc_timestamp(gravy_df.timestamp1, F.col(\"timezone\")), # converts ts from tz to UTC\n",
    "#    F.col(\"timezone\")) # converts ts from UTC to tz"
   ]
  },
  {
   "cell_type": "code",
   "execution_count": 22,
   "metadata": {
    "execution": {
     "iopub.execute_input": "2023-12-15T23:46:38.141369Z",
     "iopub.status.busy": "2023-12-15T23:46:38.141137Z",
     "iopub.status.idle": "2023-12-15T23:46:38.394748Z",
     "shell.execute_reply": "2023-12-15T23:46:38.394042Z",
     "shell.execute_reply.started": "2023-12-15T23:46:38.141344Z"
    }
   },
   "outputs": [
    {
     "data": {
      "application/vnd.jupyter.widget-view+json": {
       "model_id": "148ed6ddc7d94430b8f99fc947b2975b",
       "version_major": 2,
       "version_minor": 0
      },
      "text/plain": [
       "VBox()"
      ]
     },
     "metadata": {},
     "output_type": "display_data"
    },
    {
     "data": {
      "application/vnd.jupyter.widget-view+json": {
       "model_id": "",
       "version_major": 2,
       "version_minor": 0
      },
      "text/plain": [
       "FloatProgress(value=0.0, bar_style='info', description='Progress:', layout=Layout(height='25px', width='50%'),…"
      ]
     },
     "metadata": {},
     "output_type": "display_data"
    }
   ],
   "source": [
    "gravy_df.createOrReplaceTempView(\"gravy_df\")\n",
    "\n",
    "gravy_df = spark.sql(\n",
    "    \"SELECT *, ST_MakePoint(latitude, longitude) as coordinate from gravy_df\"\n",
    ")"
   ]
  },
  {
   "cell_type": "code",
   "execution_count": 25,
   "metadata": {
    "execution": {
     "iopub.execute_input": "2023-12-15T23:48:07.292738Z",
     "iopub.status.busy": "2023-12-15T23:48:07.292477Z",
     "iopub.status.idle": "2023-12-15T23:48:07.541628Z",
     "shell.execute_reply": "2023-12-15T23:48:07.541063Z",
     "shell.execute_reply.started": "2023-12-15T23:48:07.292714Z"
    },
    "tags": []
   },
   "outputs": [
    {
     "data": {
      "application/vnd.jupyter.widget-view+json": {
       "model_id": "3c76d8f304c44c7a80ed8e2ab9ea6cf9",
       "version_major": 2,
       "version_minor": 0
      },
      "text/plain": [
       "VBox()"
      ]
     },
     "metadata": {},
     "output_type": "display_data"
    },
    {
     "data": {
      "application/vnd.jupyter.widget-view+json": {
       "model_id": "",
       "version_major": 2,
       "version_minor": 0
      },
      "text/plain": [
       "FloatProgress(value=0.0, bar_style='info', description='Progress:', layout=Layout(height='25px', width='50%'),…"
      ]
     },
     "metadata": {},
     "output_type": "display_data"
    }
   ],
   "source": [
    "gravy_df.createOrReplaceTempView(\"gravy_df\")\n",
    "\n",
    "# ST_Tranform uses lon/lat as its input and output\n",
    "gravy_df= spark.sql(\n",
    "    \"SELECT *, ST_FlipCoordinates(ST_Transform(ST_FlipCoordinates(coordinate), 'EPSG:4326','EPSG:3857')) as mercator_coord from gravy_df\"\n",
    ")"
   ]
  },
  {
   "cell_type": "code",
   "execution_count": 26,
   "metadata": {
    "execution": {
     "iopub.execute_input": "2023-12-15T23:48:09.956670Z",
     "iopub.status.busy": "2023-12-15T23:48:09.956413Z",
     "iopub.status.idle": "2023-12-15T23:48:31.292931Z",
     "shell.execute_reply": "2023-12-15T23:48:31.292347Z",
     "shell.execute_reply.started": "2023-12-15T23:48:09.956642Z"
    },
    "tags": []
   },
   "outputs": [
    {
     "data": {
      "application/vnd.jupyter.widget-view+json": {
       "model_id": "c6f3b12fb4fd4e6da2cd7a3f7f4fd242",
       "version_major": 2,
       "version_minor": 0
      },
      "text/plain": [
       "VBox()"
      ]
     },
     "metadata": {},
     "output_type": "display_data"
    },
    {
     "data": {
      "application/vnd.jupyter.widget-view+json": {
       "model_id": "",
       "version_major": 2,
       "version_minor": 0
      },
      "text/plain": [
       "FloatProgress(value=0.0, bar_style='info', description='Progress:', layout=Layout(height='25px', width='50%'),…"
      ]
     },
     "metadata": {},
     "output_type": "display_data"
    },
    {
     "name": "stdout",
     "output_type": "stream",
     "text": [
      "+--------------------+---------------+----------------+-----------+-------------------+----------------+--------------+------------+----------+-----------+---------+----------+--------------------+--------------------+\n",
      "|                grid|geohashlatitude|geohashlongitude|geohashnine|          timestamp|        timezone|     ipaddress|forensicflag|devicetype|recordcount| latitude| longitude|          coordinate|      mercator_coord|\n",
      "+--------------------+---------------+----------------+-----------+-------------------+----------------+--------------+------------+----------+-----------+---------+----------+--------------------+--------------------+\n",
      "|00000006-23aa-3e4...|      39.947813|      -74.911673|  dr4er26bz|2020-03-01 16:50:37|America/New_York| 73.76.110.202|       33536|      AAID|          1|39.947813|-74.911673|POINT (39.947813 ...|POINT (4858361.50...|\n",
      "|00000013-ec62-3ef...|      40.013387|      -75.144017|  dr4edh1yc|2019-10-16 05:36:06|America/New_York|  172.56.28.49|      525056|      IDFA|          1|40.013387|-75.144017|POINT (40.013387 ...|POINT (4867887.83...|\n",
      "|00000013-ec62-3ef...|      40.013387|      -75.144017|  dr4edh1yc|2019-10-16 07:36:39|America/New_York|  172.56.28.49|      525056|      IDFA|          1|40.013387|-75.144017|POINT (40.013387 ...|POINT (4867887.83...|\n",
      "|00000013-ec62-3ef...|      40.031884|      -75.174015|  dr4e9refw|2019-10-16 10:36:16|America/New_York|  172.56.29.98|      525056|      IDFA|          1|40.031884|-75.174015|POINT (40.031884 ...|POINT (4870576.65...|\n",
      "|00000013-ec62-3ef...|      40.013087|      -75.094707|  dr4eehjtn|2019-10-27 22:34:02|America/New_York|172.58.203.219|      525056|      IDFA|          1|40.013087|-75.094707|POINT (40.013087 ...|POINT (4867844.22...|\n",
      "|00000013-ec62-3ef...|      40.013087|      -75.094707|  dr4eehjtn|2019-10-27 23:36:07|America/New_York| 172.58.203.41|      525056|      IDFA|          1|40.013087|-75.094707|POINT (40.013087 ...|POINT (4867844.22...|\n",
      "|00000013-ec62-3ef...|      40.013087|      -75.094707|  dr4eehjtn|2019-10-28 02:36:09|America/New_York|172.58.203.130|      525056|      IDFA|          1|40.013087|-75.094707|POINT (40.013087 ...|POINT (4867844.22...|\n",
      "|00000013-ec62-3ef...|      40.013087|      -75.094707|  dr4eehjtn|2019-10-28 03:36:09|America/New_York|172.58.203.198|      525056|      IDFA|          1|40.013087|-75.094707|POINT (40.013087 ...|POINT (4867844.22...|\n",
      "|00000013-ec62-3ef...|      40.013087|      -75.094707|  dr4eehjtn|2019-10-28 05:36:06|America/New_York| 172.58.203.17|      525056|      IDFA|          1|40.013087|-75.094707|POINT (40.013087 ...|POINT (4867844.22...|\n",
      "|00000013-ec62-3ef...|      40.013087|      -75.094707|  dr4eehjtn|2019-10-28 06:36:08|America/New_York|172.58.203.184|      525056|      IDFA|          1|40.013087|-75.094707|POINT (40.013087 ...|POINT (4867844.22...|\n",
      "|00000013-ec62-3ef...|      39.980814|      -75.172212|  dr4e3qm30|2019-10-28 07:36:07|America/New_York|172.58.206.240|      524928|      IDFA|          1|39.980814|-75.172212|POINT (39.980814 ...|POINT (4863154.61...|\n",
      "|00000013-ec62-3ef...|      39.980814|      -75.172212|  dr4e3qm30|2019-10-28 08:36:13|America/New_York|172.58.206.154|      524928|      IDFA|          1|39.980814|-75.172212|POINT (39.980814 ...|POINT (4863154.61...|\n",
      "|00000013-ec62-3ef...|      40.013087|      -75.094707|  dr4eehjtn|2019-10-28 13:36:21|America/New_York|172.58.203.141|      525056|      IDFA|          1|40.013087|-75.094707|POINT (40.013087 ...|POINT (4867844.22...|\n",
      "|00000013-ec62-3ef...|      39.980814|      -75.172212|  dr4e3qm30|2019-10-28 14:36:21|America/New_York|172.58.206.244|      524928|      IDFA|          1|39.980814|-75.172212|POINT (39.980814 ...|POINT (4863154.61...|\n",
      "|00000013-ec62-3ef...|      40.013087|      -75.094707|  dr4eehjtn|2019-10-28 15:36:27|America/New_York|172.58.203.140|      525056|      IDFA|          1|40.013087|-75.094707|POINT (40.013087 ...|POINT (4867844.22...|\n",
      "|00000013-ec62-3ef...|      40.013087|      -75.094707|  dr4eehjtn|2019-10-28 18:36:06|America/New_York|172.58.203.200|      525056|      IDFA|          1|40.013087|-75.094707|POINT (40.013087 ...|POINT (4867844.22...|\n",
      "|00000013-ec62-3ef...|      39.980814|      -75.172212|  dr4e3qm30|2019-10-28 20:36:12|America/New_York|172.58.206.157|      524928|      IDFA|          1|39.980814|-75.172212|POINT (39.980814 ...|POINT (4863154.61...|\n",
      "|00000013-ec62-3ef...|      39.924209|      -75.186803|  dr4e15fxk|2019-11-06 17:36:18|America/New_York|  172.58.207.3|      525056|      IDFA|          1|39.924209|-75.186803|POINT (39.924209 ...|POINT (4854934.64...|\n",
      "|00000013-ec62-3ef...|       40.05789|      -75.082004|  dr4egkqfn|2019-11-06 19:36:04|America/New_York|172.58.204.119|      525056|      IDFA|          1| 40.05789|-75.082004|POINT (40.05789 -...|POINT (4874358.26...|\n",
      "|00000013-ec62-3ef...|       39.96382|      -75.198219|  dr4e2g4q4|2019-12-08 01:36:05|America/New_York|172.58.204.130|      524928|      AAID|          1| 39.96382|-75.198219|POINT (39.96382 -...|POINT (4860686.09...|\n",
      "+--------------------+---------------+----------------+-----------+-------------------+----------------+--------------+------------+----------+-----------+---------+----------+--------------------+--------------------+\n",
      "only showing top 20 rows"
     ]
    }
   ],
   "source": [
    "gravy_df.show()"
   ]
  },
  {
   "cell_type": "code",
   "execution_count": 27,
   "metadata": {
    "execution": {
     "iopub.execute_input": "2023-12-15T23:50:34.609982Z",
     "iopub.status.busy": "2023-12-15T23:50:34.609756Z",
     "iopub.status.idle": "2023-12-15T23:50:34.659826Z",
     "shell.execute_reply": "2023-12-15T23:50:34.659129Z",
     "shell.execute_reply.started": "2023-12-15T23:50:34.609956Z"
    },
    "tags": []
   },
   "outputs": [
    {
     "data": {
      "application/vnd.jupyter.widget-view+json": {
       "model_id": "6875e7340999435bb91bc398067af973",
       "version_major": 2,
       "version_minor": 0
      },
      "text/plain": [
       "VBox()"
      ]
     },
     "metadata": {},
     "output_type": "display_data"
    },
    {
     "data": {
      "application/vnd.jupyter.widget-view+json": {
       "model_id": "",
       "version_major": 2,
       "version_minor": 0
      },
      "text/plain": [
       "FloatProgress(value=0.0, bar_style='info', description='Progress:', layout=Layout(height='25px', width='50%'),…"
      ]
     },
     "metadata": {},
     "output_type": "display_data"
    },
    {
     "name": "stdout",
     "output_type": "stream",
     "text": [
      "root\n",
      " |-- grid: string (nullable = true)\n",
      " |-- geohashlatitude: string (nullable = true)\n",
      " |-- geohashlongitude: string (nullable = true)\n",
      " |-- geohashnine: string (nullable = true)\n",
      " |-- timestamp: timestamp (nullable = true)\n",
      " |-- timezone: string (nullable = true)\n",
      " |-- ipaddress: string (nullable = true)\n",
      " |-- forensicflag: long (nullable = true)\n",
      " |-- devicetype: string (nullable = true)\n",
      " |-- recordcount: integer (nullable = true)\n",
      " |-- latitude: double (nullable = true)\n",
      " |-- longitude: double (nullable = true)\n",
      " |-- coordinate: geometry (nullable = true)\n",
      " |-- mercator_coord: geometry (nullable = true)"
     ]
    }
   ],
   "source": [
    "gravy_df.printSchema()"
   ]
  },
  {
   "cell_type": "code",
   "execution_count": 7,
   "metadata": {
    "execution": {
     "iopub.execute_input": "2023-12-15T17:05:14.644023Z",
     "iopub.status.busy": "2023-12-15T17:05:14.643783Z",
     "iopub.status.idle": "2023-12-15T17:05:14.696663Z",
     "shell.execute_reply": "2023-12-15T17:05:14.696031Z",
     "shell.execute_reply.started": "2023-12-15T17:05:14.643992Z"
    },
    "tags": []
   },
   "outputs": [
    {
     "data": {
      "application/vnd.jupyter.widget-view+json": {
       "model_id": "f7175b6a09ac449b83dba3d9ffb88d35",
       "version_major": 2,
       "version_minor": 0
      },
      "text/plain": [
       "VBox()"
      ]
     },
     "metadata": {},
     "output_type": "display_data"
    },
    {
     "data": {
      "application/vnd.jupyter.widget-view+json": {
       "model_id": "",
       "version_major": 2,
       "version_minor": 0
      },
      "text/plain": [
       "FloatProgress(value=0.0, bar_style='info', description='Progress:', layout=Layout(height='25px', width='50%'),…"
      ]
     },
     "metadata": {},
     "output_type": "display_data"
    }
   ],
   "source": [
    "testDF = gravy_df.limit(100)"
   ]
  },
  {
   "cell_type": "markdown",
   "metadata": {},
   "source": [
    "## Coarse Filtering\n",
    "\n",
    "Takes in a geometry and filters to pings within the given geometry"
   ]
  },
  {
   "cell_type": "code",
   "execution_count": null,
   "metadata": {},
   "outputs": [],
   "source": []
  }
 ],
 "metadata": {
  "kernelspec": {
   "display_name": "PySpark",
   "language": "python",
   "name": "pysparkkernel"
  },
  "language_info": {
   "codemirror_mode": {
    "name": "python",
    "version": 3
   },
   "file_extension": ".py",
   "mimetype": "text/x-python",
   "name": "pyspark",
   "pygments_lexer": "python3"
  }
 },
 "nbformat": 4,
 "nbformat_minor": 4
}
