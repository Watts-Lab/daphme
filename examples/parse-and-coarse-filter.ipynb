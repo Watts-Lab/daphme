{
 "cells": [
  {
   "cell_type": "code",
   "execution_count": 1,
   "metadata": {
    "execution": {
     "iopub.execute_input": "2023-12-17T04:03:33.795353Z",
     "iopub.status.busy": "2023-12-17T04:03:33.795050Z",
     "iopub.status.idle": "2023-12-17T04:03:33.807471Z",
     "shell.execute_reply": "2023-12-17T04:03:33.806985Z",
     "shell.execute_reply.started": "2023-12-17T04:03:33.795324Z"
    },
    "tags": []
   },
   "outputs": [
    {
     "data": {
      "text/html": [
       "Current session configs: <tt>{'conf': {'spark.pyspark.python': '/home/hadoop/epidemics-venv/bin/python3', 'spark.pyspark.virtualenv.bin.path': '/home/hadoop/epidemics-venv/bin', 'spark.dynamicAllocation.enabled': 'true', 'spark.executor.memory': '16g', 'spark.driver.memory': '16g', 'spark.executor.cores': '6', 'spark.driver.cores': '6', 'spark.driver.maxResultSize': '20g', 'livy.server.session.timeout-check': 'false'}, 'proxyUser': 'user_thomas-li', 'kind': 'pyspark'}</tt><br>"
      ],
      "text/plain": [
       "<IPython.core.display.HTML object>"
      ]
     },
     "metadata": {},
     "output_type": "display_data"
    },
    {
     "data": {
      "text/html": [
       "No active sessions."
      ],
      "text/plain": [
       "<IPython.core.display.HTML object>"
      ]
     },
     "metadata": {},
     "output_type": "display_data"
    }
   ],
   "source": [
    "%%configure -f\n",
    "\n",
    "{\"conf\":\n",
    "     {\"spark.pyspark.python\":\"/home/hadoop/epidemics-venv/bin/python3\",\n",
    "      \"spark.pyspark.virtualenv.bin.path\":\"/home/hadoop/epidemics-venv/bin\",\n",
    "      \"spark.pyspark.python\":\"/home/hadoop/epidemics-venv/bin/python3\",\n",
    "      \"spark.dynamicAllocation.enabled\":\"true\",\n",
    "      \"spark.executor.memory\":\"16g\",\n",
    "      \"spark.driver.memory\":\"16g\",\n",
    "      \"spark.executor.cores\":\"6\",\n",
    "      \"spark.driver.cores\":\"6\",\n",
    "      \"spark.driver.maxResultSize\":\"20g\",\n",
    "      \"livy.server.session.timeout-check\" :\"false\"}\n",
    "}"
   ]
  },
  {
   "cell_type": "code",
   "execution_count": 2,
   "metadata": {
    "execution": {
     "iopub.execute_input": "2023-12-17T04:03:35.724247Z",
     "iopub.status.busy": "2023-12-17T04:03:35.724026Z",
     "iopub.status.idle": "2023-12-17T04:04:04.508381Z",
     "shell.execute_reply": "2023-12-17T04:04:04.507806Z",
     "shell.execute_reply.started": "2023-12-17T04:03:35.724224Z"
    },
    "tags": []
   },
   "outputs": [
    {
     "data": {
      "application/vnd.jupyter.widget-view+json": {
       "model_id": "dc3e36ec51f741c2950c28f2239f717d",
       "version_major": 2,
       "version_minor": 0
      },
      "text/plain": [
       "VBox()"
      ]
     },
     "metadata": {},
     "output_type": "display_data"
    },
    {
     "name": "stdout",
     "output_type": "stream",
     "text": [
      "Starting Spark application\n"
     ]
    },
    {
     "data": {
      "text/html": [
       "<table>\n<tbody><tr><th>ID</th><th>YARN Application ID</th><th>Kind</th><th>State</th><th>Spark UI</th><th>Driver log</th><th>User</th><th>Current session?</th></tr><tr><td>3</td><td>application_1702779639082_0004</td><td>pyspark</td><td>idle</td><td><a target=\"_blank\" href=\"http://ip-10-0-1-158.us-east-2.compute.internal:20888/proxy/application_1702779639082_0004/\" class=\"emr-proxy-link j-2WMWNF9J5TLHQ application_1702779639082_0004\" emr-resource=\"j-2WMWNF9J5TLHQ\n\" application-id=\"application_1702779639082_0004\">Link</a></td><td><a target=\"_blank\" href=\"http://ip-10-0-1-79.us-east-2.compute.internal:8042/node/containerlogs/container_1702779639082_0004_01_000001/livy\">Link</a></td><td>None</td><td>✔</td></tr></tbody></table>"
      ],
      "text/plain": [
       "<IPython.core.display.HTML object>"
      ]
     },
     "metadata": {},
     "output_type": "display_data"
    },
    {
     "data": {
      "application/vnd.jupyter.widget-view+json": {
       "model_id": "",
       "version_major": 2,
       "version_minor": 0
      },
      "text/plain": [
       "FloatProgress(value=0.0, bar_style='info', description='Progress:', layout=Layout(height='25px', width='50%'),…"
      ]
     },
     "metadata": {},
     "output_type": "display_data"
    },
    {
     "name": "stdout",
     "output_type": "stream",
     "text": [
      "SparkSession available as 'spark'.\n"
     ]
    },
    {
     "data": {
      "application/vnd.jupyter.widget-view+json": {
       "model_id": "",
       "version_major": 2,
       "version_minor": 0
      },
      "text/plain": [
       "FloatProgress(value=0.0, bar_style='info', description='Progress:', layout=Layout(height='25px', width='50%'),…"
      ]
     },
     "metadata": {},
     "output_type": "display_data"
    }
   ],
   "source": [
    "import daphme as dm\n",
    "import pandas as pd\n",
    "import geopandas as gpd\n",
    "import json\n",
    "import shapely\n",
    "from shapely.geometry import Point, MultiPoint, Polygon, shape, box\n",
    "from shapely.ops import unary_union, transform\n",
    "\n",
    "from pyspark.sql import SparkSession\n",
    "from pyspark.sql import SQLContext\n",
    "from pyspark.sql import functions as F\n",
    "from pyspark.sql.types import DoubleType, ArrayType\n",
    "\n",
    "from sedona.spark import *"
   ]
  },
  {
   "cell_type": "code",
   "execution_count": 3,
   "metadata": {
    "execution": {
     "iopub.execute_input": "2023-12-17T04:04:04.509936Z",
     "iopub.status.busy": "2023-12-17T04:04:04.509662Z",
     "iopub.status.idle": "2023-12-17T04:04:04.555089Z",
     "shell.execute_reply": "2023-12-17T04:04:04.554517Z",
     "shell.execute_reply.started": "2023-12-17T04:04:04.509902Z"
    },
    "tags": []
   },
   "outputs": [
    {
     "data": {
      "application/vnd.jupyter.widget-view+json": {
       "model_id": "248972c0236f48ee8106500131c34b7e",
       "version_major": 2,
       "version_minor": 0
      },
      "text/plain": [
       "VBox()"
      ]
     },
     "metadata": {},
     "output_type": "display_data"
    },
    {
     "data": {
      "application/vnd.jupyter.widget-view+json": {
       "model_id": "",
       "version_major": 2,
       "version_minor": 0
      },
      "text/plain": [
       "FloatProgress(value=0.0, bar_style='info', description='Progress:', layout=Layout(height='25px', width='50%'),…"
      ]
     },
     "metadata": {},
     "output_type": "display_data"
    }
   ],
   "source": [
    "spark = SparkSession.\\\n",
    "    builder.\\\n",
    "    master(\"local[*]\").\\\n",
    "    appName(\"Example1\").\\\n",
    "    getOrCreate()"
   ]
  },
  {
   "cell_type": "code",
   "execution_count": 4,
   "metadata": {
    "execution": {
     "iopub.execute_input": "2023-12-17T04:04:04.557230Z",
     "iopub.status.busy": "2023-12-17T04:04:04.556902Z",
     "iopub.status.idle": "2023-12-17T04:04:04.803715Z",
     "shell.execute_reply": "2023-12-17T04:04:04.803166Z",
     "shell.execute_reply.started": "2023-12-17T04:04:04.557195Z"
    },
    "tags": []
   },
   "outputs": [
    {
     "data": {
      "application/vnd.jupyter.widget-view+json": {
       "model_id": "2c87c33bca0046fb80d7b32a1adde67f",
       "version_major": 2,
       "version_minor": 0
      },
      "text/plain": [
       "VBox()"
      ]
     },
     "metadata": {},
     "output_type": "display_data"
    },
    {
     "data": {
      "application/vnd.jupyter.widget-view+json": {
       "model_id": "",
       "version_major": 2,
       "version_minor": 0
      },
      "text/plain": [
       "FloatProgress(value=0.0, bar_style='info', description='Progress:', layout=Layout(height='25px', width='50%'),…"
      ]
     },
     "metadata": {},
     "output_type": "display_data"
    }
   ],
   "source": [
    "with open(\"/tmp/Census_Tracts_2010.geojson\") as f:\n",
    "  features = json.load(f)[\"features\"]\n",
    "\n",
    "polygons = [shape(feature[\"geometry\"]).buffer(0) for feature in features if feature[\"properties\"][\"GEOID10\"][:5] == \"42101\"]\n",
    "phila_poly = unary_union(polygons).buffer(0.0015).simplify(0.0015)\n",
    "phila_box = box(*phila_poly.bounds)"
   ]
  },
  {
   "cell_type": "markdown",
   "metadata": {},
   "source": [
    "## Intro to DAPHME\n",
    "\n",
    "In this script, we will demonstrate some of DAPHME's functionalities for analyzing human mobility data. Our analysis will focus on the month of February for the city of Philadelphia. Using a dataset that originally contains [60000] users. \n",
    "\n",
    "In our analysis, we will perform three different kinds of operations, which are common in the analyses in these types of data. \n",
    "* **Importing**, which optionally converts the datetime to a specified timezone and project the coordinates into ESPG:3857 (which has units in meters and might be appropriate for a local analysis not too far from the equator). \n",
    "* **Coarse Filtering**, where we subset to users to make computations for tractable. In particular, we filter out users with very few days/hours with activity, and keep TODO [users with \"sufficient\" pings in the area]. We also filter to users with activity in a given time period.\n",
    "* **Persisting**"
   ]
  },
  {
   "cell_type": "markdown",
   "metadata": {},
   "source": [
    "## Load Pings\n",
    "\n",
    "Daphme can work with a single file in a number of formats (csv, parquet, txt) but its true utility comes when working with partitions of the data, which are often organized in a directory. In this example, we specify the path of the files to be loaded."
   ]
  },
  {
   "cell_type": "code",
   "execution_count": 27,
   "metadata": {
    "execution": {
     "iopub.execute_input": "2023-12-17T05:36:47.073879Z",
     "iopub.status.busy": "2023-12-17T05:36:47.073625Z",
     "iopub.status.idle": "2023-12-17T05:36:56.343030Z",
     "shell.execute_reply": "2023-12-17T05:36:56.342514Z",
     "shell.execute_reply.started": "2023-12-17T05:36:47.073825Z"
    },
    "tags": []
   },
   "outputs": [
    {
     "data": {
      "application/vnd.jupyter.widget-view+json": {
       "model_id": "4a57a5ee374e4a3889b4ad1de0d19b3b",
       "version_major": 2,
       "version_minor": 0
      },
      "text/plain": [
       "VBox()"
      ]
     },
     "metadata": {},
     "output_type": "display_data"
    },
    {
     "data": {
      "application/vnd.jupyter.widget-view+json": {
       "model_id": "",
       "version_major": 2,
       "version_minor": 0
      },
      "text/plain": [
       "FloatProgress(value=0.0, bar_style='info', description='Progress:', layout=Layout(height='25px', width='50%'),…"
      ]
     },
     "metadata": {},
     "output_type": "display_data"
    }
   ],
   "source": [
    "gravy_df = spark.read.parquet(\"s3://phl-pings/gravy/\")\n",
    "\n",
    "gravy_df = gravy_df. \\\n",
    "    withColumn(\"latitude\", F.col(\"geohashlatitude\").cast(DoubleType())). \\\n",
    "    withColumn(\"longitude\", F.col(\"geohashlongitude\").cast(DoubleType()))"
   ]
  },
  {
   "cell_type": "code",
   "execution_count": 5,
   "metadata": {
    "execution": {
     "iopub.execute_input": "2023-12-16T20:35:10.963817Z",
     "iopub.status.busy": "2023-12-16T20:35:10.963648Z",
     "iopub.status.idle": "2023-12-16T20:35:11.012775Z",
     "shell.execute_reply": "2023-12-16T20:35:11.012195Z",
     "shell.execute_reply.started": "2023-12-16T20:35:10.963795Z"
    }
   },
   "outputs": [
    {
     "data": {
      "application/vnd.jupyter.widget-view+json": {
       "model_id": "8e5c8d1075994bf1a2d71ac58eaf5e30",
       "version_major": 2,
       "version_minor": 0
      },
      "text/plain": [
       "VBox()"
      ]
     },
     "metadata": {},
     "output_type": "display_data"
    },
    {
     "data": {
      "application/vnd.jupyter.widget-view+json": {
       "model_id": "",
       "version_major": 2,
       "version_minor": 0
      },
      "text/plain": [
       "FloatProgress(value=0.0, bar_style='info', description='Progress:', layout=Layout(height='25px', width='50%'),…"
      ]
     },
     "metadata": {},
     "output_type": "display_data"
    }
   ],
   "source": [
    "#cuebiq_df = spark.read.options(header='True', inferSchema='True', delimiter=',').parquet(\"s3://phl-pings/cuebiq-jan-mar/\")\n",
    "#cuebiq_df.show()"
   ]
  },
  {
   "cell_type": "code",
   "execution_count": 28,
   "metadata": {
    "execution": {
     "iopub.execute_input": "2023-12-17T05:36:56.986216Z",
     "iopub.status.busy": "2023-12-17T05:36:56.985992Z",
     "iopub.status.idle": "2023-12-17T05:36:57.229886Z",
     "shell.execute_reply": "2023-12-17T05:36:57.229352Z",
     "shell.execute_reply.started": "2023-12-17T05:36:56.986193Z"
    },
    "tags": []
   },
   "outputs": [
    {
     "data": {
      "application/vnd.jupyter.widget-view+json": {
       "model_id": "493841a4d076423b8be31d4d0bbc6230",
       "version_major": 2,
       "version_minor": 0
      },
      "text/plain": [
       "VBox()"
      ]
     },
     "metadata": {},
     "output_type": "display_data"
    },
    {
     "data": {
      "application/vnd.jupyter.widget-view+json": {
       "model_id": "",
       "version_major": 2,
       "version_minor": 0
      },
      "text/plain": [
       "FloatProgress(value=0.0, bar_style='info', description='Progress:', layout=Layout(height='25px', width='50%'),…"
      ]
     },
     "metadata": {},
     "output_type": "display_data"
    }
   ],
   "source": [
    "gravy_df = gravy_df.withColumn(\n",
    "    \"local_timestamp\",\n",
    "    F.from_utc_timestamp(\n",
    "        F.to_timestamp(F.col(\"timestamp\") /\n",
    "                       1000),  # divide by 1000 because given in milliseconds\n",
    "        F.col(\"timezone\")  # converts timestamp from UTC to local timezone\n",
    "    ))\n",
    "\n",
    "# gravy_df = gravy_df.withColumn(\n",
    "#    \"timestamp\",\n",
    "#    F.from_utc_timestamp(\n",
    "#        F.to_utc_timestamp(gravy_df.timestamp1, F.col(\"timezone\")), # converts ts from tz to UTC\n",
    "#    F.col(\"timezone\")) # converts ts from UTC to tz"
   ]
  },
  {
   "cell_type": "code",
   "execution_count": 29,
   "metadata": {
    "execution": {
     "iopub.execute_input": "2023-12-17T05:37:01.562048Z",
     "iopub.status.busy": "2023-12-17T05:37:01.561801Z",
     "iopub.status.idle": "2023-12-17T05:37:01.805960Z",
     "shell.execute_reply": "2023-12-17T05:37:01.805418Z",
     "shell.execute_reply.started": "2023-12-17T05:37:01.562024Z"
    },
    "tags": []
   },
   "outputs": [
    {
     "data": {
      "application/vnd.jupyter.widget-view+json": {
       "model_id": "ae2f9dcfb35c4073989f6ce1e0eb484c",
       "version_major": 2,
       "version_minor": 0
      },
      "text/plain": [
       "VBox()"
      ]
     },
     "metadata": {},
     "output_type": "display_data"
    },
    {
     "data": {
      "application/vnd.jupyter.widget-view+json": {
       "model_id": "",
       "version_major": 2,
       "version_minor": 0
      },
      "text/plain": [
       "FloatProgress(value=0.0, bar_style='info', description='Progress:', layout=Layout(height='25px', width='50%'),…"
      ]
     },
     "metadata": {},
     "output_type": "display_data"
    }
   ],
   "source": [
    "gravy_df.createOrReplaceTempView(\"gravy_df\")\n",
    "\n",
    "gravy_df = spark.sql(\n",
    "    \"SELECT *, ST_MakePoint(latitude, longitude) as coordinate from gravy_df\")"
   ]
  },
  {
   "cell_type": "code",
   "execution_count": 30,
   "metadata": {
    "execution": {
     "iopub.execute_input": "2023-12-17T05:37:03.573370Z",
     "iopub.status.busy": "2023-12-17T05:37:03.573149Z",
     "iopub.status.idle": "2023-12-17T05:37:03.818498Z",
     "shell.execute_reply": "2023-12-17T05:37:03.817901Z",
     "shell.execute_reply.started": "2023-12-17T05:37:03.573347Z"
    },
    "tags": []
   },
   "outputs": [
    {
     "data": {
      "application/vnd.jupyter.widget-view+json": {
       "model_id": "79a6035d14484339b2589348f084f5ba",
       "version_major": 2,
       "version_minor": 0
      },
      "text/plain": [
       "VBox()"
      ]
     },
     "metadata": {},
     "output_type": "display_data"
    },
    {
     "data": {
      "application/vnd.jupyter.widget-view+json": {
       "model_id": "",
       "version_major": 2,
       "version_minor": 0
      },
      "text/plain": [
       "FloatProgress(value=0.0, bar_style='info', description='Progress:', layout=Layout(height='25px', width='50%'),…"
      ]
     },
     "metadata": {},
     "output_type": "display_data"
    }
   ],
   "source": [
    "gravy_df.createOrReplaceTempView(\"gravy_df\")\n",
    "\n",
    "# ST_Tranform uses lon/lat as its input and output\n",
    "gravy_df = spark.sql(\n",
    "    \"SELECT *, ST_FlipCoordinates(ST_Transform(ST_FlipCoordinates(coordinate), 'EPSG:4326','EPSG:3857')) AS mercator_coord FROM gravy_df\"\n",
    ")"
   ]
  },
  {
   "cell_type": "code",
   "execution_count": 31,
   "metadata": {
    "execution": {
     "iopub.execute_input": "2023-12-17T05:37:12.845633Z",
     "iopub.status.busy": "2023-12-17T05:37:12.845410Z",
     "iopub.status.idle": "2023-12-17T05:37:56.193215Z",
     "shell.execute_reply": "2023-12-17T05:37:56.192684Z",
     "shell.execute_reply.started": "2023-12-17T05:37:12.845610Z"
    },
    "tags": []
   },
   "outputs": [
    {
     "data": {
      "application/vnd.jupyter.widget-view+json": {
       "model_id": "8476908a6aa44fd989228e65029ea172",
       "version_major": 2,
       "version_minor": 0
      },
      "text/plain": [
       "VBox()"
      ]
     },
     "metadata": {},
     "output_type": "display_data"
    },
    {
     "data": {
      "application/vnd.jupyter.widget-view+json": {
       "model_id": "",
       "version_major": 2,
       "version_minor": 0
      },
      "text/plain": [
       "FloatProgress(value=0.0, bar_style='info', description='Progress:', layout=Layout(height='25px', width='50%'),…"
      ]
     },
     "metadata": {},
     "output_type": "display_data"
    },
    {
     "name": "stdout",
     "output_type": "stream",
     "text": [
      "18440128718"
     ]
    }
   ],
   "source": [
    "gravy_df.count()"
   ]
  },
  {
   "cell_type": "code",
   "execution_count": 10,
   "metadata": {
    "execution": {
     "iopub.execute_input": "2023-12-17T04:04:37.142709Z",
     "iopub.status.busy": "2023-12-17T04:04:37.142535Z",
     "iopub.status.idle": "2023-12-17T04:04:37.183722Z",
     "shell.execute_reply": "2023-12-17T04:04:37.183244Z",
     "shell.execute_reply.started": "2023-12-17T04:04:37.142689Z"
    },
    "tags": []
   },
   "outputs": [
    {
     "data": {
      "application/vnd.jupyter.widget-view+json": {
       "model_id": "391e6dc825ff44fcb017c68e1bdef053",
       "version_major": 2,
       "version_minor": 0
      },
      "text/plain": [
       "VBox()"
      ]
     },
     "metadata": {},
     "output_type": "display_data"
    },
    {
     "data": {
      "application/vnd.jupyter.widget-view+json": {
       "model_id": "",
       "version_major": 2,
       "version_minor": 0
      },
      "text/plain": [
       "FloatProgress(value=0.0, bar_style='info', description='Progress:', layout=Layout(height='25px', width='50%'),…"
      ]
     },
     "metadata": {},
     "output_type": "display_data"
    },
    {
     "name": "stdout",
     "output_type": "stream",
     "text": [
      "root\n",
      " |-- grid: string (nullable = true)\n",
      " |-- geohashlatitude: string (nullable = true)\n",
      " |-- geohashlongitude: string (nullable = true)\n",
      " |-- geohashnine: string (nullable = true)\n",
      " |-- timestamp: long (nullable = true)\n",
      " |-- timezone: string (nullable = true)\n",
      " |-- ipaddress: string (nullable = true)\n",
      " |-- forensicflag: long (nullable = true)\n",
      " |-- devicetype: string (nullable = true)\n",
      " |-- recordcount: integer (nullable = true)\n",
      " |-- latitude: double (nullable = true)\n",
      " |-- longitude: double (nullable = true)\n",
      " |-- local_timestamp: timestamp (nullable = true)\n",
      " |-- coordinate: geometry (nullable = true)\n",
      " |-- mercator_coord: geometry (nullable = true)"
     ]
    }
   ],
   "source": [
    "gravy_df.printSchema()"
   ]
  },
  {
   "cell_type": "markdown",
   "metadata": {},
   "source": [
    "## Coarse Filtering\n",
    "\n",
    "Takes in a geometry and filters to pings within the given geometry"
   ]
  },
  {
   "cell_type": "code",
   "execution_count": 20,
   "metadata": {
    "execution": {
     "iopub.execute_input": "2023-12-17T04:18:57.072155Z",
     "iopub.status.busy": "2023-12-17T04:18:57.071921Z",
     "iopub.status.idle": "2023-12-17T04:19:06.346962Z",
     "shell.execute_reply": "2023-12-17T04:19:06.346338Z",
     "shell.execute_reply.started": "2023-12-17T04:18:57.072131Z"
    },
    "tags": []
   },
   "outputs": [
    {
     "data": {
      "application/vnd.jupyter.widget-view+json": {
       "model_id": "b8cf6c832e13480da31da3d743510d81",
       "version_major": 2,
       "version_minor": 0
      },
      "text/plain": [
       "VBox()"
      ]
     },
     "metadata": {},
     "output_type": "display_data"
    },
    {
     "data": {
      "application/vnd.jupyter.widget-view+json": {
       "model_id": "",
       "version_major": 2,
       "version_minor": 0
      },
      "text/plain": [
       "FloatProgress(value=0.0, bar_style='info', description='Progress:', layout=Layout(height='25px', width='50%'),…"
      ]
     },
     "metadata": {},
     "output_type": "display_data"
    },
    {
     "name": "stdout",
     "output_type": "stream",
     "text": [
      "+--------------------+-------------------+--------------------+--------------------+\n",
      "|                grid|    local_timestamp|          coordinate|      mercator_coord|\n",
      "+--------------------+-------------------+--------------------+--------------------+\n",
      "|00000006-23aa-3e4...|2020-03-01 16:50:37|POINT (39.947813 ...|POINT (4858361.50...|\n",
      "|00000013-ec62-3ef...|2019-10-16 05:36:06|POINT (40.013387 ...|POINT (4867887.83...|\n",
      "|00000013-ec62-3ef...|2019-10-16 07:36:39|POINT (40.013387 ...|POINT (4867887.83...|\n",
      "|00000013-ec62-3ef...|2019-10-16 10:36:16|POINT (40.031884 ...|POINT (4870576.65...|\n",
      "|00000013-ec62-3ef...|2019-10-27 22:34:02|POINT (40.013087 ...|POINT (4867844.22...|\n",
      "|00000013-ec62-3ef...|2019-10-27 23:36:07|POINT (40.013087 ...|POINT (4867844.22...|\n",
      "|00000013-ec62-3ef...|2019-10-28 02:36:09|POINT (40.013087 ...|POINT (4867844.22...|\n",
      "|00000013-ec62-3ef...|2019-10-28 03:36:09|POINT (40.013087 ...|POINT (4867844.22...|\n",
      "|00000013-ec62-3ef...|2019-10-28 05:36:06|POINT (40.013087 ...|POINT (4867844.22...|\n",
      "|00000013-ec62-3ef...|2019-10-28 06:36:08|POINT (40.013087 ...|POINT (4867844.22...|\n",
      "+--------------------+-------------------+--------------------+--------------------+"
     ]
    }
   ],
   "source": [
    "testDF = gravy_df.limit(10)\n",
    "testDF = testDF.select(\"grid\", \"local_timestamp\", \"coordinate\", \"mercator_coord\")\n",
    "testDF.show()"
   ]
  },
  {
   "cell_type": "code",
   "execution_count": 32,
   "metadata": {
    "execution": {
     "iopub.execute_input": "2023-12-17T05:38:09.675221Z",
     "iopub.status.busy": "2023-12-17T05:38:09.674984Z",
     "iopub.status.idle": "2023-12-17T05:38:09.914716Z",
     "shell.execute_reply": "2023-12-17T05:38:09.914205Z",
     "shell.execute_reply.started": "2023-12-17T05:38:09.675198Z"
    },
    "tags": []
   },
   "outputs": [
    {
     "data": {
      "application/vnd.jupyter.widget-view+json": {
       "model_id": "5439b9f9a75a494b8657a4dcc621288e",
       "version_major": 2,
       "version_minor": 0
      },
      "text/plain": [
       "VBox()"
      ]
     },
     "metadata": {},
     "output_type": "display_data"
    },
    {
     "data": {
      "application/vnd.jupyter.widget-view+json": {
       "model_id": "",
       "version_major": 2,
       "version_minor": 0
      },
      "text/plain": [
       "FloatProgress(value=0.0, bar_style='info', description='Progress:', layout=Layout(height='25px', width='50%'),…"
      ]
     },
     "metadata": {},
     "output_type": "display_data"
    }
   ],
   "source": [
    "# Obtain unique users with at least 1 ping in sample window\n",
    "phila_box_wkt = phila_box.wkt\n",
    "\n",
    "gravy_df.createOrReplaceTempView(\"gravy_df\")\n",
    "\n",
    "query = f\"\"\"\n",
    "SELECT DISTINCT grid\n",
    "FROM gravy_df\n",
    "WHERE ST_Contains (ST_GeomFromWKT('{phila_box_wkt}'), ST_FlipCoordinates(coordinate))\n",
    "\"\"\"\n",
    "\n",
    "phl_users = spark.sql(query)"
   ]
  },
  {
   "cell_type": "code",
   "execution_count": null,
   "metadata": {
    "execution": {
     "iopub.execute_input": "2023-12-17T05:38:15.939845Z",
     "iopub.status.busy": "2023-12-17T05:38:15.939622Z"
    },
    "tags": []
   },
   "outputs": [
    {
     "data": {
      "application/vnd.jupyter.widget-view+json": {
       "model_id": "89492d35718b4cb7a1ee18b5e3663348",
       "version_major": 2,
       "version_minor": 0
      },
      "text/plain": [
       "VBox()"
      ]
     },
     "metadata": {},
     "output_type": "display_data"
    },
    {
     "data": {
      "application/vnd.jupyter.widget-view+json": {
       "model_id": "324c322557634fad9f857c71a958aefc",
       "version_major": 2,
       "version_minor": 0
      },
      "text/plain": [
       "FloatProgress(value=0.0, bar_style='info', description='Progress:', layout=Layout(height='25px', width='50%'),…"
      ]
     },
     "metadata": {},
     "output_type": "display_data"
    }
   ],
   "source": [
    "phl_users.count()"
   ]
  },
  {
   "cell_type": "code",
   "execution_count": null,
   "metadata": {},
   "outputs": [],
   "source": []
  }
 ],
 "metadata": {
  "kernelspec": {
   "display_name": "PySpark",
   "language": "python",
   "name": "pysparkkernel"
  },
  "language_info": {
   "codemirror_mode": {
    "name": "python",
    "version": 3
   },
   "file_extension": ".py",
   "mimetype": "text/x-python",
   "name": "pyspark",
   "pygments_lexer": "python3"
  }
 },
 "nbformat": 4,
 "nbformat_minor": 4
}
