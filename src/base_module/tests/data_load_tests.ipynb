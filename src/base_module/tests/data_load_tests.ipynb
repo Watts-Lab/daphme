{
 "cells": [
  {
   "cell_type": "code",
   "execution_count": 1,
   "metadata": {
    "tags": []
   },
   "outputs": [],
   "source": [
    "import daphmeIO"
   ]
  },
  {
   "cell_type": "code",
   "execution_count": 13,
   "metadata": {
    "tags": []
   },
   "outputs": [],
   "source": [
    "loader = daphmeIO.DataLoader()"
   ]
  },
  {
   "cell_type": "code",
   "execution_count": 14,
   "metadata": {
    "tags": []
   },
   "outputs": [
    {
     "name": "stderr",
     "output_type": "stream",
     "text": [
      "                                                                                \r"
     ]
    }
   ],
   "source": [
    "loader.load_spark(\"s3://phl-pings/gravy/\")"
   ]
  },
  {
   "cell_type": "code",
   "execution_count": 20,
   "metadata": {
    "tags": []
   },
   "outputs": [],
   "source": [
    "df = loader.df"
   ]
  },
  {
   "cell_type": "code",
   "execution_count": null,
   "metadata": {
    "tags": []
   },
   "outputs": [],
   "source": [
    "df.select('uid').distinct().show()"
   ]
  },
  {
   "cell_type": "code",
   "execution_count": 21,
   "metadata": {
    "tags": []
   },
   "outputs": [
    {
     "name": "stderr",
     "output_type": "stream",
     "text": [
      "[Stage 8:>                                                          (0 + 1) / 1]\r"
     ]
    },
    {
     "name": "stdout",
     "output_type": "stream",
     "text": [
      "+--------------------+\n",
      "|                 uid|\n",
      "+--------------------+\n",
      "|00000006-23aa-3e4...|\n",
      "|00000013-ec62-3ef...|\n",
      "|00000013-ec62-3ef...|\n",
      "|00000013-ec62-3ef...|\n",
      "|00000013-ec62-3ef...|\n",
      "|00000013-ec62-3ef...|\n",
      "|00000013-ec62-3ef...|\n",
      "|00000013-ec62-3ef...|\n",
      "|00000013-ec62-3ef...|\n",
      "|00000013-ec62-3ef...|\n",
      "|00000013-ec62-3ef...|\n",
      "|00000013-ec62-3ef...|\n",
      "|00000013-ec62-3ef...|\n",
      "|00000013-ec62-3ef...|\n",
      "|00000013-ec62-3ef...|\n",
      "|00000013-ec62-3ef...|\n",
      "|00000013-ec62-3ef...|\n",
      "|00000013-ec62-3ef...|\n",
      "|00000013-ec62-3ef...|\n",
      "|00000013-ec62-3ef...|\n",
      "+--------------------+\n",
      "only showing top 20 rows\n",
      "\n"
     ]
    },
    {
     "name": "stderr",
     "output_type": "stream",
     "text": [
      "                                                                                \r"
     ]
    }
   ],
   "source": [
    "df = df.selectExpr(\"grid as uid\")\n",
    "df.show()"
   ]
  },
  {
   "cell_type": "markdown",
   "metadata": {},
   "source": [
    "# Test formats and folder structures"
   ]
  },
  {
   "cell_type": "markdown",
   "metadata": {},
   "source": [
    "## Generate test dataset"
   ]
  },
  {
   "cell_type": "code",
   "execution_count": 11,
   "metadata": {
    "tags": []
   },
   "outputs": [],
   "source": [
    "import pandas as pd"
   ]
  },
  {
   "cell_type": "code",
   "execution_count": 12,
   "metadata": {
    "tags": []
   },
   "outputs": [],
   "source": [
    "path = \"s3://synthetic-raw-data/100-agents/sparse_trajectories.parquet\"\n",
    "df = pd.read_parquet(path)"
   ]
  },
  {
   "cell_type": "code",
   "execution_count": 13,
   "metadata": {
    "tags": []
   },
   "outputs": [
    {
     "data": {
      "text/html": [
       "<div>\n",
       "<style scoped>\n",
       "    .dataframe tbody tr th:only-of-type {\n",
       "        vertical-align: middle;\n",
       "    }\n",
       "\n",
       "    .dataframe tbody tr th {\n",
       "        vertical-align: top;\n",
       "    }\n",
       "\n",
       "    .dataframe thead th {\n",
       "        text-align: right;\n",
       "    }\n",
       "</style>\n",
       "<table border=\"1\" class=\"dataframe\">\n",
       "  <thead>\n",
       "    <tr style=\"text-align: right;\">\n",
       "      <th></th>\n",
       "      <th>x</th>\n",
       "      <th>y</th>\n",
       "      <th>local_timestamp</th>\n",
       "      <th>unix_timestamp</th>\n",
       "      <th>identifier</th>\n",
       "      <th>hor_accuracy</th>\n",
       "    </tr>\n",
       "    <tr>\n",
       "      <th>unix_timestamp</th>\n",
       "      <th></th>\n",
       "      <th></th>\n",
       "      <th></th>\n",
       "      <th></th>\n",
       "      <th></th>\n",
       "      <th></th>\n",
       "    </tr>\n",
       "  </thead>\n",
       "  <tbody>\n",
       "    <tr>\n",
       "      <th>1704119340</th>\n",
       "      <td>16.960116</td>\n",
       "      <td>9.179240</td>\n",
       "      <td>2024-01-01 14:29:00</td>\n",
       "      <td>1704119340</td>\n",
       "      <td>wizardly_joliot</td>\n",
       "      <td>0.011439</td>\n",
       "    </tr>\n",
       "    <tr>\n",
       "      <th>1704119700</th>\n",
       "      <td>16.695553</td>\n",
       "      <td>8.892945</td>\n",
       "      <td>2024-01-01 14:35:00</td>\n",
       "      <td>1704119700</td>\n",
       "      <td>wizardly_joliot</td>\n",
       "      <td>0.127361</td>\n",
       "    </tr>\n",
       "    <tr>\n",
       "      <th>1704155880</th>\n",
       "      <td>11.374734</td>\n",
       "      <td>14.598104</td>\n",
       "      <td>2024-01-02 00:38:00</td>\n",
       "      <td>1704155880</td>\n",
       "      <td>wizardly_joliot</td>\n",
       "      <td>0.190629</td>\n",
       "    </tr>\n",
       "    <tr>\n",
       "      <th>1704156000</th>\n",
       "      <td>11.207716</td>\n",
       "      <td>14.686354</td>\n",
       "      <td>2024-01-02 00:40:00</td>\n",
       "      <td>1704156000</td>\n",
       "      <td>wizardly_joliot</td>\n",
       "      <td>0.156493</td>\n",
       "    </tr>\n",
       "    <tr>\n",
       "      <th>1704156840</th>\n",
       "      <td>11.114222</td>\n",
       "      <td>14.608686</td>\n",
       "      <td>2024-01-02 00:54:00</td>\n",
       "      <td>1704156840</td>\n",
       "      <td>wizardly_joliot</td>\n",
       "      <td>0.113733</td>\n",
       "    </tr>\n",
       "    <tr>\n",
       "      <th>...</th>\n",
       "      <td>...</td>\n",
       "      <td>...</td>\n",
       "      <td>...</td>\n",
       "      <td>...</td>\n",
       "      <td>...</td>\n",
       "      <td>...</td>\n",
       "    </tr>\n",
       "    <tr>\n",
       "      <th>1705303380</th>\n",
       "      <td>7.222383</td>\n",
       "      <td>8.214435</td>\n",
       "      <td>2024-01-15 07:23:00</td>\n",
       "      <td>1705303380</td>\n",
       "      <td>angry_spence</td>\n",
       "      <td>0.189583</td>\n",
       "    </tr>\n",
       "    <tr>\n",
       "      <th>1705303740</th>\n",
       "      <td>7.325798</td>\n",
       "      <td>7.928358</td>\n",
       "      <td>2024-01-15 07:29:00</td>\n",
       "      <td>1705303740</td>\n",
       "      <td>angry_spence</td>\n",
       "      <td>0.115442</td>\n",
       "    </tr>\n",
       "    <tr>\n",
       "      <th>1705303980</th>\n",
       "      <td>7.110549</td>\n",
       "      <td>8.060382</td>\n",
       "      <td>2024-01-15 07:33:00</td>\n",
       "      <td>1705303980</td>\n",
       "      <td>angry_spence</td>\n",
       "      <td>0.168213</td>\n",
       "    </tr>\n",
       "    <tr>\n",
       "      <th>1705304340</th>\n",
       "      <td>6.848620</td>\n",
       "      <td>7.890798</td>\n",
       "      <td>2024-01-15 07:39:00</td>\n",
       "      <td>1705304340</td>\n",
       "      <td>angry_spence</td>\n",
       "      <td>0.187679</td>\n",
       "    </tr>\n",
       "    <tr>\n",
       "      <th>1705305000</th>\n",
       "      <td>11.290652</td>\n",
       "      <td>7.366711</td>\n",
       "      <td>2024-01-15 07:50:00</td>\n",
       "      <td>1705305000</td>\n",
       "      <td>angry_spence</td>\n",
       "      <td>0.248178</td>\n",
       "    </tr>\n",
       "  </tbody>\n",
       "</table>\n",
       "<p>25835 rows × 6 columns</p>\n",
       "</div>"
      ],
      "text/plain": [
       "                        x          y     local_timestamp  unix_timestamp  \\\n",
       "unix_timestamp                                                             \n",
       "1704119340      16.960116   9.179240 2024-01-01 14:29:00      1704119340   \n",
       "1704119700      16.695553   8.892945 2024-01-01 14:35:00      1704119700   \n",
       "1704155880      11.374734  14.598104 2024-01-02 00:38:00      1704155880   \n",
       "1704156000      11.207716  14.686354 2024-01-02 00:40:00      1704156000   \n",
       "1704156840      11.114222  14.608686 2024-01-02 00:54:00      1704156840   \n",
       "...                   ...        ...                 ...             ...   \n",
       "1705303380       7.222383   8.214435 2024-01-15 07:23:00      1705303380   \n",
       "1705303740       7.325798   7.928358 2024-01-15 07:29:00      1705303740   \n",
       "1705303980       7.110549   8.060382 2024-01-15 07:33:00      1705303980   \n",
       "1705304340       6.848620   7.890798 2024-01-15 07:39:00      1705304340   \n",
       "1705305000      11.290652   7.366711 2024-01-15 07:50:00      1705305000   \n",
       "\n",
       "                     identifier  hor_accuracy  \n",
       "unix_timestamp                                 \n",
       "1704119340      wizardly_joliot      0.011439  \n",
       "1704119700      wizardly_joliot      0.127361  \n",
       "1704155880      wizardly_joliot      0.190629  \n",
       "1704156000      wizardly_joliot      0.156493  \n",
       "1704156840      wizardly_joliot      0.113733  \n",
       "...                         ...           ...  \n",
       "1705303380         angry_spence      0.189583  \n",
       "1705303740         angry_spence      0.115442  \n",
       "1705303980         angry_spence      0.168213  \n",
       "1705304340         angry_spence      0.187679  \n",
       "1705305000         angry_spence      0.248178  \n",
       "\n",
       "[25835 rows x 6 columns]"
      ]
     },
     "execution_count": 13,
     "metadata": {},
     "output_type": "execute_result"
    }
   ],
   "source": [
    "df"
   ]
  },
  {
   "cell_type": "code",
   "execution_count": 66,
   "metadata": {
    "tags": []
   },
   "outputs": [],
   "source": [
    "import pyarrow.parquet as pq\n",
    "import pyarrow.fs as fs\n",
    "import pyarrow.dataset as ds\n",
    "import pyarrow as pa\n",
    "\n",
    "s3 = fs.S3FileSystem()\n",
    "\n",
    "path = \"s3://synthetic-raw-data/100-agents/sparse_trajectories.parquet\"\n",
    "dataset = ds.dataset(path[5:], format=\"parquet\", filesystem=s3)\n",
    "df = dataset.to_table().to_pandas()"
   ]
  },
  {
   "cell_type": "code",
   "execution_count": 68,
   "metadata": {
    "tags": []
   },
   "outputs": [],
   "source": [
    "df['date'] = pd.to_datetime(df['timestamp'], unit='s').dt.date"
   ]
  },
  {
   "cell_type": "code",
   "execution_count": 69,
   "metadata": {
    "tags": []
   },
   "outputs": [],
   "source": [
    "table = pa.Table.from_pandas(df)"
   ]
  },
  {
   "cell_type": "code",
   "execution_count": 76,
   "metadata": {
    "tags": []
   },
   "outputs": [],
   "source": [
    "path = \"../data/sample3/\"\n",
    "dataset = ds.dataset(path, format=\"parquet\", partitioning='hive')\n",
    "df = dataset.to_table().to_pandas()"
   ]
  },
  {
   "cell_type": "code",
   "execution_count": 77,
   "metadata": {
    "tags": []
   },
   "outputs": [
    {
     "data": {
      "text/html": [
       "<div>\n",
       "<style scoped>\n",
       "    .dataframe tbody tr th:only-of-type {\n",
       "        vertical-align: middle;\n",
       "    }\n",
       "\n",
       "    .dataframe tbody tr th {\n",
       "        vertical-align: top;\n",
       "    }\n",
       "\n",
       "    .dataframe thead th {\n",
       "        text-align: right;\n",
       "    }\n",
       "</style>\n",
       "<table border=\"1\" class=\"dataframe\">\n",
       "  <thead>\n",
       "    <tr style=\"text-align: right;\">\n",
       "      <th></th>\n",
       "      <th>uid</th>\n",
       "      <th>timestamp</th>\n",
       "      <th>latitude</th>\n",
       "      <th>longitude</th>\n",
       "      <th>date</th>\n",
       "    </tr>\n",
       "  </thead>\n",
       "  <tbody>\n",
       "    <tr>\n",
       "      <th>0</th>\n",
       "      <td>wizardly_joliot</td>\n",
       "      <td>1704119340</td>\n",
       "      <td>38.321711</td>\n",
       "      <td>-36.667334</td>\n",
       "      <td>2024-01-01</td>\n",
       "    </tr>\n",
       "    <tr>\n",
       "      <th>1</th>\n",
       "      <td>wizardly_joliot</td>\n",
       "      <td>1704119700</td>\n",
       "      <td>38.321676</td>\n",
       "      <td>-36.667365</td>\n",
       "      <td>2024-01-01</td>\n",
       "    </tr>\n",
       "    <tr>\n",
       "      <th>0</th>\n",
       "      <td>wonderful_swirles</td>\n",
       "      <td>1704121560</td>\n",
       "      <td>38.321017</td>\n",
       "      <td>-36.667869</td>\n",
       "      <td>2024-01-01</td>\n",
       "    </tr>\n",
       "    <tr>\n",
       "      <th>0</th>\n",
       "      <td>youthful_galileo</td>\n",
       "      <td>1704098820</td>\n",
       "      <td>38.321625</td>\n",
       "      <td>-36.666612</td>\n",
       "      <td>2024-01-01</td>\n",
       "    </tr>\n",
       "    <tr>\n",
       "      <th>1</th>\n",
       "      <td>youthful_galileo</td>\n",
       "      <td>1704103140</td>\n",
       "      <td>38.321681</td>\n",
       "      <td>-36.666841</td>\n",
       "      <td>2024-01-01</td>\n",
       "    </tr>\n",
       "    <tr>\n",
       "      <th>...</th>\n",
       "      <td>...</td>\n",
       "      <td>...</td>\n",
       "      <td>...</td>\n",
       "      <td>...</td>\n",
       "      <td>...</td>\n",
       "    </tr>\n",
       "    <tr>\n",
       "      <th>1691</th>\n",
       "      <td>angry_spence</td>\n",
       "      <td>1705303380</td>\n",
       "      <td>38.320399</td>\n",
       "      <td>-36.667438</td>\n",
       "      <td>2024-01-15</td>\n",
       "    </tr>\n",
       "    <tr>\n",
       "      <th>1692</th>\n",
       "      <td>angry_spence</td>\n",
       "      <td>1705303740</td>\n",
       "      <td>38.320413</td>\n",
       "      <td>-36.667469</td>\n",
       "      <td>2024-01-15</td>\n",
       "    </tr>\n",
       "    <tr>\n",
       "      <th>1693</th>\n",
       "      <td>angry_spence</td>\n",
       "      <td>1705303980</td>\n",
       "      <td>38.320384</td>\n",
       "      <td>-36.667455</td>\n",
       "      <td>2024-01-15</td>\n",
       "    </tr>\n",
       "    <tr>\n",
       "      <th>1694</th>\n",
       "      <td>angry_spence</td>\n",
       "      <td>1705304340</td>\n",
       "      <td>38.320349</td>\n",
       "      <td>-36.667473</td>\n",
       "      <td>2024-01-15</td>\n",
       "    </tr>\n",
       "    <tr>\n",
       "      <th>1695</th>\n",
       "      <td>angry_spence</td>\n",
       "      <td>1705305000</td>\n",
       "      <td>38.320947</td>\n",
       "      <td>-36.667530</td>\n",
       "      <td>2024-01-15</td>\n",
       "    </tr>\n",
       "  </tbody>\n",
       "</table>\n",
       "<p>25835 rows × 5 columns</p>\n",
       "</div>"
      ],
      "text/plain": [
       "                    uid   timestamp   latitude  longitude        date\n",
       "0       wizardly_joliot  1704119340  38.321711 -36.667334  2024-01-01\n",
       "1       wizardly_joliot  1704119700  38.321676 -36.667365  2024-01-01\n",
       "0     wonderful_swirles  1704121560  38.321017 -36.667869  2024-01-01\n",
       "0      youthful_galileo  1704098820  38.321625 -36.666612  2024-01-01\n",
       "1      youthful_galileo  1704103140  38.321681 -36.666841  2024-01-01\n",
       "...                 ...         ...        ...        ...         ...\n",
       "1691       angry_spence  1705303380  38.320399 -36.667438  2024-01-15\n",
       "1692       angry_spence  1705303740  38.320413 -36.667469  2024-01-15\n",
       "1693       angry_spence  1705303980  38.320384 -36.667455  2024-01-15\n",
       "1694       angry_spence  1705304340  38.320349 -36.667473  2024-01-15\n",
       "1695       angry_spence  1705305000  38.320947 -36.667530  2024-01-15\n",
       "\n",
       "[25835 rows x 5 columns]"
      ]
     },
     "execution_count": 77,
     "metadata": {},
     "output_type": "execute_result"
    }
   ],
   "source": [
    "df"
   ]
  },
  {
   "cell_type": "code",
   "execution_count": null,
   "metadata": {},
   "outputs": [],
   "source": []
  }
 ],
 "metadata": {
  "kernelspec": {
   "display_name": "conda_python3",
   "language": "python",
   "name": "conda_python3"
  },
  "language_info": {
   "codemirror_mode": {
    "name": "ipython",
    "version": 3
   },
   "file_extension": ".py",
   "mimetype": "text/x-python",
   "name": "python",
   "nbconvert_exporter": "python",
   "pygments_lexer": "ipython3",
   "version": "3.10.14"
  }
 },
 "nbformat": 4,
 "nbformat_minor": 4
}
