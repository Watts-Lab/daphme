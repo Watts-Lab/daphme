{
 "cells": [
  {
   "cell_type": "code",
   "execution_count": 1,
   "id": "b820bf76-6b6a-422e-ab2e-f5e37a756105",
   "metadata": {
    "tags": []
   },
   "outputs": [],
   "source": [
    "# !pip install shapely geopandas"
   ]
  },
  {
   "cell_type": "code",
   "execution_count": 2,
   "id": "e221df1c-108c-45bc-990c-abe482fdcf92",
   "metadata": {
    "tags": []
   },
   "outputs": [],
   "source": [
    "import sys\n",
    "import os\n",
    "import warnings\n",
    "import pandas as pd\n",
    "sys.path.insert(0, os.path.abspath(os.path.join(os.getcwd(), \"..\")))\n",
    "sys.path.insert(0, os.path.abspath(os.path.join(os.getcwd(), \"../tests\")))"
   ]
  },
  {
   "cell_type": "code",
   "execution_count": 3,
   "id": "f4ab405a-7c6d-4f7a-a5f9-8ecbca30ecb1",
   "metadata": {
    "tags": []
   },
   "outputs": [],
   "source": [
    "import pytest\n",
    "import pyarrow.parquet as pq\n",
    "import pyarrow.fs as fs\n",
    "import pyarrow.dataset as ds\n",
    "import s3fs as fs3\n",
    "import pyarrow as pa\n",
    "from shapely.geometry import Polygon"
   ]
  },
  {
   "cell_type": "code",
   "execution_count": 4,
   "id": "99623d0d-25b8-4b46-80ad-c6b7e2dbafa8",
   "metadata": {
    "tags": []
   },
   "outputs": [],
   "source": [
    "import filters\n",
    "import constants"
   ]
  },
  {
   "cell_type": "code",
   "execution_count": 25,
   "id": "a70efa5e-d327-4378-ae73-5e9000671854",
   "metadata": {
    "tags": []
   },
   "outputs": [
    {
     "name": "stdout",
     "output_type": "stream",
     "text": [
      "\u001b[1m============================= test session starts ==============================\u001b[0m\n",
      "platform linux -- Python 3.10.15, pytest-8.3.3, pluggy-1.5.0\n",
      "rootdir: /home/ec2-user/SageMaker/daphme/src/core\n",
      "configfile: pyproject.toml\n",
      "plugins: anyio-4.6.0\n",
      "collected 9 items                                                              \u001b[0m\n",
      "\n",
      "filter_tests.py \u001b[32m.\u001b[0m\u001b[32m.\u001b[0m\u001b[32m.\u001b[0m\u001b[32m.\u001b[0m\u001b[32m.\u001b[0m\u001b[32m.\u001b[0m\u001b[32m.\u001b[0m\u001b[32m.\u001b[0m\u001b[32m.\u001b[0m\u001b[33m                                                [100%]\u001b[0m\n",
      "\n",
      "\u001b[33m=============================== warnings summary ===============================\u001b[0m\n",
      "tests/filter_tests.py: 10 warnings\n",
      "  /home/ec2-user/anaconda3/envs/python3/lib/python3.10/site-packages/pandas/core/dtypes/cast.py:1641: DeprecationWarning: np.find_common_type is deprecated.  Please use `np.result_type` or `np.promote_types`.\n",
      "  See https://numpy.org/devdocs/release/1.25.0-notes.html and the docs for more information.  (Deprecated NumPy 1.25)\n",
      "    return np.find_common_type(types, [])\n",
      "\n",
      "tests/filter_tests.py::test_filtered_users_basic\n",
      "tests/filter_tests.py::test_filtered_users_timeframe\n",
      "tests/filter_tests.py::test_filtered_users_no_users\n",
      "  /home/ec2-user/SageMaker/daphme/src/core/filters.py:254: SettingWithCopyWarning: \n",
      "  A value is trying to be set on a copy of a slice from a DataFrame.\n",
      "  Try using .loc[row_indexer,col_indexer] = value instead\n",
      "  \n",
      "  See the caveats in the documentation: https://pandas.pydata.org/pandas-docs/stable/user_guide/indexing.html#returning-a-view-versus-a-copy\n",
      "    df['in_geo'] = df.apply(lambda row: _point_in_polygon(row[latitude_col], row[longitude_col]), axis=1)\n",
      "\n",
      "tests/filter_tests.py::test_filtered_users_basic\n",
      "tests/filter_tests.py::test_filtered_users_timeframe\n",
      "tests/filter_tests.py::test_filtered_users_no_users\n",
      "  /home/ec2-user/SageMaker/daphme/src/core/filters.py:227: SettingWithCopyWarning: \n",
      "  A value is trying to be set on a copy of a slice from a DataFrame.\n",
      "  Try using .loc[row_indexer,col_indexer] = value instead\n",
      "  \n",
      "  See the caveats in the documentation: https://pandas.pydata.org/pandas-docs/stable/user_guide/indexing.html#returning-a-view-versus-a-copy\n",
      "    df_filtered['date'] = df_filtered[timestamp_col].dt.date\n",
      "\n",
      "-- Docs: https://docs.pytest.org/en/stable/how-to/capture-warnings.html\n",
      "\u001b[33m======================== \u001b[32m9 passed\u001b[0m, \u001b[33m\u001b[1m16 warnings\u001b[0m\u001b[33m in 0.55s\u001b[0m\u001b[33m ========================\u001b[0m\n"
     ]
    }
   ],
   "source": [
    "!pytest filter_tests.py"
   ]
  },
  {
   "cell_type": "code",
   "execution_count": null,
   "id": "6d52bda2-5a6b-45a0-93b4-3245872e7809",
   "metadata": {},
   "outputs": [],
   "source": []
  }
 ],
 "metadata": {
  "kernelspec": {
   "display_name": "conda_python3",
   "language": "python",
   "name": "conda_python3"
  },
  "language_info": {
   "codemirror_mode": {
    "name": "ipython",
    "version": 3
   },
   "file_extension": ".py",
   "mimetype": "text/x-python",
   "name": "python",
   "nbconvert_exporter": "python",
   "pygments_lexer": "ipython3",
   "version": "3.10.15"
  }
 },
 "nbformat": 4,
 "nbformat_minor": 5
}
