{
 "cells": [
  {
   "cell_type": "code",
   "execution_count": 31,
   "id": "9a6cc023",
   "metadata": {
    "tags": []
   },
   "outputs": [],
   "source": [
    "import pandas as pd\n",
    "import numpy as np\n",
    "import sys\n",
    "import os\n",
    "from datetime import datetime, date, timedelta\n",
    "import matplotlib.pyplot as plt\n",
    "import matplotlib.dates as mdates\n",
    "import datetime\n",
    "\n",
    "core_dir = os.path.join(os.getcwd(), '..', 'daphme')\n",
    "core_dir = os.path.normpath(core_dir)\n",
    "sys.path.append(core_dir)\n",
    "\n",
    "import pyarrow as pa\n",
    "import pyarrow.parquet as pq\n",
    "import s3fs\n",
    "s3 = s3fs.S3FileSystem()\n",
    "import seaborn as sns\n",
    "from functools import partial"
   ]
  },
  {
   "cell_type": "code",
   "execution_count": 12,
   "id": "2cee295d",
   "metadata": {
    "tags": []
   },
   "outputs": [],
   "source": [
    "import multiprocessing\n",
    "from multiprocessing import Pool"
   ]
  },
  {
   "cell_type": "code",
   "execution_count": null,
   "id": "ef142771",
   "metadata": {},
   "outputs": [],
   "source": [
    "!pip install geojson"
   ]
  },
  {
   "cell_type": "code",
   "execution_count": 18,
   "id": "38df5b25",
   "metadata": {},
   "outputs": [
    {
     "ename": "ModuleNotFoundError",
     "evalue": "No module named 'geojson'",
     "output_type": "error",
     "traceback": [
      "\u001b[1;31m---------------------------------------------------------------------------\u001b[0m",
      "\u001b[1;31mModuleNotFoundError\u001b[0m                       Traceback (most recent call last)",
      "Cell \u001b[1;32mIn[18], line 1\u001b[0m\n\u001b[1;32m----> 1\u001b[0m \u001b[38;5;28;01mimport\u001b[39;00m \u001b[38;5;21;01mgeojson\u001b[39;00m\n\u001b[0;32m      2\u001b[0m \u001b[38;5;28;01mwith\u001b[39;00m \u001b[38;5;28mopen\u001b[39m(\u001b[38;5;124m\"\u001b[39m\u001b[38;5;124mZIP_Codes.geojson\u001b[39m\u001b[38;5;124m\"\u001b[39m) \u001b[38;5;28;01mas\u001b[39;00m f:\n\u001b[0;32m      3\u001b[0m     gj \u001b[38;5;241m=\u001b[39m geojson\u001b[38;5;241m.\u001b[39mload(f)\n",
      "\u001b[1;31mModuleNotFoundError\u001b[0m: No module named 'geojson'"
     ]
    }
   ],
   "source": [
    "import geojson\n",
    "with open(\"ZIP_Codes.geojson\") as f:\n",
    "    gj = geojson.load(f)"
   ]
  },
  {
   "cell_type": "code",
   "execution_count": 13,
   "id": "8752ebda-776a-441c-a0e4-035d9515c278",
   "metadata": {
    "tags": []
   },
   "outputs": [
    {
     "data": {
      "text/plain": [
       "16"
      ]
     },
     "execution_count": 13,
     "metadata": {},
     "output_type": "execute_result"
    }
   ],
   "source": [
    "multiprocessing.cpu_count()"
   ]
  },
  {
   "cell_type": "code",
   "execution_count": 14,
   "id": "38c113eb",
   "metadata": {
    "tags": []
   },
   "outputs": [],
   "source": [
    "s3_path = 's3://phl-pings/gravy_clean'\n",
    "d_init = date(2019, 10, 7)\n",
    "vals = list(range(31))\n",
    "vals = list(map(lambda x: (d_init + timedelta(days=x)).isoformat(), vals))\n",
    "vals = list(map(lambda x: f'{s3_path}/date={x}/', vals))"
   ]
  },
  {
   "cell_type": "code",
   "execution_count": 25,
   "id": "ca92070c-c991-4d5f-aa3d-335bd49d7834",
   "metadata": {
    "tags": []
   },
   "outputs": [],
   "source": [
    "def get_users(x):\n",
    "    #print(x)\n",
    "    return pq.read_table(x, columns=['identifier']).column('identifier').unique().to_pandas()\n",
    "\n",
    "def get_user_data(x, users):\n",
    "    #print(x)\n",
    "    return pq.read_table(x, filters=[('identifier', 'in', users)]).to_pandas()"
   ]
  },
  {
   "cell_type": "markdown",
   "id": "a8412676",
   "metadata": {},
   "source": [
    "## Extract a sample of 40000 users from 31 days"
   ]
  },
  {
   "cell_type": "code",
   "execution_count": 16,
   "id": "b794c3ef",
   "metadata": {
    "collapsed": true,
    "jupyter": {
     "outputs_hidden": true
    },
    "tags": []
   },
   "outputs": [
    {
     "name": "stdout",
     "output_type": "stream",
     "text": [
      "s3://phl-pings/gravy_clean/date=2019-10-07/s3://phl-pings/gravy_clean/date=2019-10-08/s3://phl-pings/gravy_clean/date=2019-10-11/s3://phl-pings/gravy_clean/date=2019-10-12/s3://phl-pings/gravy_clean/date=2019-10-14/s3://phl-pings/gravy_clean/date=2019-10-13/s3://phl-pings/gravy_clean/date=2019-10-15/s3://phl-pings/gravy_clean/date=2019-10-10/s3://phl-pings/gravy_clean/date=2019-10-17/\n",
      "\n",
      "s3://phl-pings/gravy_clean/date=2019-10-18/s3://phl-pings/gravy_clean/date=2019-10-09/s3://phl-pings/gravy_clean/date=2019-10-16/s3://phl-pings/gravy_clean/date=2019-10-20/s3://phl-pings/gravy_clean/date=2019-10-19/\n",
      "s3://phl-pings/gravy_clean/date=2019-10-21/\n",
      "\n",
      "s3://phl-pings/gravy_clean/date=2019-10-22/\n",
      "\n",
      "\n",
      "\n",
      "\n",
      "\n",
      "\n",
      "\n",
      "\n",
      "\n",
      "\n",
      "s3://phl-pings/gravy_clean/date=2019-10-23/\n",
      "s3://phl-pings/gravy_clean/date=2019-10-24/\n",
      "s3://phl-pings/gravy_clean/date=2019-10-25/\n",
      "s3://phl-pings/gravy_clean/date=2019-10-26/\n",
      "s3://phl-pings/gravy_clean/date=2019-10-27/\n",
      "s3://phl-pings/gravy_clean/date=2019-10-28/\n",
      "s3://phl-pings/gravy_clean/date=2019-10-29/\n",
      "s3://phl-pings/gravy_clean/date=2019-10-30/\n",
      "s3://phl-pings/gravy_clean/date=2019-10-31/\n",
      "s3://phl-pings/gravy_clean/date=2019-11-01/\n",
      "s3://phl-pings/gravy_clean/date=2019-11-02/\n",
      "s3://phl-pings/gravy_clean/date=2019-11-03/\n",
      "s3://phl-pings/gravy_clean/date=2019-11-04/\n",
      "s3://phl-pings/gravy_clean/date=2019-11-05/\n",
      "s3://phl-pings/gravy_clean/date=2019-11-06/\n"
     ]
    }
   ],
   "source": [
    "datas = []\n",
    "with Pool(multiprocessing.cpu_count()) as p:\n",
    "        datas.extend(p.map(get_users, vals))\n",
    "all_users = pd.concat(datas).drop_duplicates()\n",
    "all_users = all_users.rename('identifier')\n",
    "all_users = all_users.apply(str)\n",
    "all_users = all_users.sample(40000)\n",
    "\n",
    "datas = []\n",
    "with Pool(multiprocessing.cpu_count()) as p:\n",
    "        datas.extend(p.map(partial(get_user_data, users=all_users), vals))\n",
    "sample_data = pd.concat(datas).drop_duplicates()"
   ]
  },
  {
   "cell_type": "code",
   "execution_count": 37,
   "id": "7214137e-664d-4c00-82b1-13b01ca2cf10",
   "metadata": {
    "tags": []
   },
   "outputs": [
    {
     "data": {
      "text/html": [
       "<div>\n",
       "<style scoped>\n",
       "    .dataframe tbody tr th:only-of-type {\n",
       "        vertical-align: middle;\n",
       "    }\n",
       "\n",
       "    .dataframe tbody tr th {\n",
       "        vertical-align: top;\n",
       "    }\n",
       "\n",
       "    .dataframe thead th {\n",
       "        text-align: right;\n",
       "    }\n",
       "</style>\n",
       "<table border=\"1\" class=\"dataframe\">\n",
       "  <thead>\n",
       "    <tr style=\"text-align: right;\">\n",
       "      <th></th>\n",
       "      <th>identifier</th>\n",
       "      <th>local_timestamp</th>\n",
       "      <th>mercator_coord</th>\n",
       "      <th>x</th>\n",
       "      <th>y</th>\n",
       "      <th>in_geo</th>\n",
       "      <th>date_hour</th>\n",
       "      <th>day_of_week</th>\n",
       "    </tr>\n",
       "  </thead>\n",
       "  <tbody>\n",
       "    <tr>\n",
       "      <th>0</th>\n",
       "      <td>d68a1494-12a0-367b-95fd-f19d25d8f219</td>\n",
       "      <td>2019-10-07 21:43:53</td>\n",
       "      <td>b'\\x12\\x00\\x00\\x00\\x01\\x00\\x00\\x00\\xba\\xdc\\xce...</td>\n",
       "      <td>-8.379330e+06</td>\n",
       "      <td>4.860044e+06</td>\n",
       "      <td>True</td>\n",
       "      <td>2019-10-07 21</td>\n",
       "      <td>2</td>\n",
       "    </tr>\n",
       "    <tr>\n",
       "      <th>1</th>\n",
       "      <td>d68a1494-12a0-367b-95fd-f19d25d8f219</td>\n",
       "      <td>2019-10-07 21:45:38</td>\n",
       "      <td>b'\\x12\\x00\\x00\\x00\\x01\\x00\\x00\\x00\\xa6S=\\x04\\x...</td>\n",
       "      <td>-8.383348e+06</td>\n",
       "      <td>4.862282e+06</td>\n",
       "      <td>False</td>\n",
       "      <td>2019-10-07 21</td>\n",
       "      <td>2</td>\n",
       "    </tr>\n",
       "    <tr>\n",
       "      <th>2</th>\n",
       "      <td>d68a1494-12a0-367b-95fd-f19d25d8f219</td>\n",
       "      <td>2019-10-07 21:45:43</td>\n",
       "      <td>b'\\x12\\x00\\x00\\x00\\x01\\x00\\x00\\x00\\xa6S=\\x04\\x...</td>\n",
       "      <td>-8.383348e+06</td>\n",
       "      <td>4.862282e+06</td>\n",
       "      <td>False</td>\n",
       "      <td>2019-10-07 21</td>\n",
       "      <td>2</td>\n",
       "    </tr>\n",
       "    <tr>\n",
       "      <th>3</th>\n",
       "      <td>d68a1494-12a0-367b-95fd-f19d25d8f219</td>\n",
       "      <td>2019-10-07 21:47:26</td>\n",
       "      <td>b'\\x12\\x00\\x00\\x00\\x01\\x00\\x00\\x00\\xa6S=\\x04\\x...</td>\n",
       "      <td>-8.383348e+06</td>\n",
       "      <td>4.862282e+06</td>\n",
       "      <td>False</td>\n",
       "      <td>2019-10-07 21</td>\n",
       "      <td>2</td>\n",
       "    </tr>\n",
       "    <tr>\n",
       "      <th>4</th>\n",
       "      <td>d68a1494-12a0-367b-95fd-f19d25d8f219</td>\n",
       "      <td>2019-10-07 21:48:10</td>\n",
       "      <td>b'\\x12\\x00\\x00\\x00\\x01\\x00\\x00\\x00\\xa6S=\\x04\\x...</td>\n",
       "      <td>-8.383348e+06</td>\n",
       "      <td>4.862282e+06</td>\n",
       "      <td>False</td>\n",
       "      <td>2019-10-07 21</td>\n",
       "      <td>2</td>\n",
       "    </tr>\n",
       "    <tr>\n",
       "      <th>...</th>\n",
       "      <td>...</td>\n",
       "      <td>...</td>\n",
       "      <td>...</td>\n",
       "      <td>...</td>\n",
       "      <td>...</td>\n",
       "      <td>...</td>\n",
       "      <td>...</td>\n",
       "      <td>...</td>\n",
       "    </tr>\n",
       "    <tr>\n",
       "      <th>245455</th>\n",
       "      <td>cb32bdfc-9f2c-3f2b-bcd3-fc77fc83deb9</td>\n",
       "      <td>2019-11-06 03:56:44</td>\n",
       "      <td>b'\\x12\\x00\\x00\\x00\\x01\\x00\\x00\\x00\\x8d\\xcdWm\\x...</td>\n",
       "      <td>-8.353538e+06</td>\n",
       "      <td>4.879453e+06</td>\n",
       "      <td>True</td>\n",
       "      <td>2019-11-06 03</td>\n",
       "      <td>4</td>\n",
       "    </tr>\n",
       "    <tr>\n",
       "      <th>245456</th>\n",
       "      <td>cb32bdfc-9f2c-3f2b-bcd3-fc77fc83deb9</td>\n",
       "      <td>2019-11-06 03:56:50</td>\n",
       "      <td>b'\\x12\\x00\\x00\\x00\\x01\\x00\\x00\\x00\\x8d\\xcdWm\\x...</td>\n",
       "      <td>-8.353538e+06</td>\n",
       "      <td>4.879453e+06</td>\n",
       "      <td>True</td>\n",
       "      <td>2019-11-06 03</td>\n",
       "      <td>4</td>\n",
       "    </tr>\n",
       "    <tr>\n",
       "      <th>245457</th>\n",
       "      <td>f136800d-27fb-381a-a35b-017c58bdc29d</td>\n",
       "      <td>2019-11-06 11:07:12</td>\n",
       "      <td>b'\\x12\\x00\\x00\\x00\\x01\\x00\\x00\\x00\\xfa\\x04k\\x0...</td>\n",
       "      <td>-8.367196e+06</td>\n",
       "      <td>4.859016e+06</td>\n",
       "      <td>True</td>\n",
       "      <td>2019-11-06 11</td>\n",
       "      <td>4</td>\n",
       "    </tr>\n",
       "    <tr>\n",
       "      <th>245458</th>\n",
       "      <td>ce360006-a013-37af-8fbe-c236aa5866b7</td>\n",
       "      <td>2019-11-06 00:37:11</td>\n",
       "      <td>b\"\\x12\\x00\\x00\\x00\\x01\\x00\\x00\\x00R\\x17\\xf5'\\x...</td>\n",
       "      <td>-8.369757e+06</td>\n",
       "      <td>4.854935e+06</td>\n",
       "      <td>True</td>\n",
       "      <td>2019-11-06 00</td>\n",
       "      <td>4</td>\n",
       "    </tr>\n",
       "    <tr>\n",
       "      <th>245459</th>\n",
       "      <td>ce360006-a013-37af-8fbe-c236aa5866b7</td>\n",
       "      <td>2019-11-06 01:42:21</td>\n",
       "      <td>b\"\\x12\\x00\\x00\\x00\\x01\\x00\\x00\\x00R\\x17\\xf5'\\x...</td>\n",
       "      <td>-8.369757e+06</td>\n",
       "      <td>4.854935e+06</td>\n",
       "      <td>True</td>\n",
       "      <td>2019-11-06 01</td>\n",
       "      <td>4</td>\n",
       "    </tr>\n",
       "  </tbody>\n",
       "</table>\n",
       "<p>6273142 rows × 8 columns</p>\n",
       "</div>"
      ],
      "text/plain": [
       "                                  identifier     local_timestamp  \\\n",
       "0       d68a1494-12a0-367b-95fd-f19d25d8f219 2019-10-07 21:43:53   \n",
       "1       d68a1494-12a0-367b-95fd-f19d25d8f219 2019-10-07 21:45:38   \n",
       "2       d68a1494-12a0-367b-95fd-f19d25d8f219 2019-10-07 21:45:43   \n",
       "3       d68a1494-12a0-367b-95fd-f19d25d8f219 2019-10-07 21:47:26   \n",
       "4       d68a1494-12a0-367b-95fd-f19d25d8f219 2019-10-07 21:48:10   \n",
       "...                                      ...                 ...   \n",
       "245455  cb32bdfc-9f2c-3f2b-bcd3-fc77fc83deb9 2019-11-06 03:56:44   \n",
       "245456  cb32bdfc-9f2c-3f2b-bcd3-fc77fc83deb9 2019-11-06 03:56:50   \n",
       "245457  f136800d-27fb-381a-a35b-017c58bdc29d 2019-11-06 11:07:12   \n",
       "245458  ce360006-a013-37af-8fbe-c236aa5866b7 2019-11-06 00:37:11   \n",
       "245459  ce360006-a013-37af-8fbe-c236aa5866b7 2019-11-06 01:42:21   \n",
       "\n",
       "                                           mercator_coord             x  \\\n",
       "0       b'\\x12\\x00\\x00\\x00\\x01\\x00\\x00\\x00\\xba\\xdc\\xce... -8.379330e+06   \n",
       "1       b'\\x12\\x00\\x00\\x00\\x01\\x00\\x00\\x00\\xa6S=\\x04\\x... -8.383348e+06   \n",
       "2       b'\\x12\\x00\\x00\\x00\\x01\\x00\\x00\\x00\\xa6S=\\x04\\x... -8.383348e+06   \n",
       "3       b'\\x12\\x00\\x00\\x00\\x01\\x00\\x00\\x00\\xa6S=\\x04\\x... -8.383348e+06   \n",
       "4       b'\\x12\\x00\\x00\\x00\\x01\\x00\\x00\\x00\\xa6S=\\x04\\x... -8.383348e+06   \n",
       "...                                                   ...           ...   \n",
       "245455  b'\\x12\\x00\\x00\\x00\\x01\\x00\\x00\\x00\\x8d\\xcdWm\\x... -8.353538e+06   \n",
       "245456  b'\\x12\\x00\\x00\\x00\\x01\\x00\\x00\\x00\\x8d\\xcdWm\\x... -8.353538e+06   \n",
       "245457  b'\\x12\\x00\\x00\\x00\\x01\\x00\\x00\\x00\\xfa\\x04k\\x0... -8.367196e+06   \n",
       "245458  b\"\\x12\\x00\\x00\\x00\\x01\\x00\\x00\\x00R\\x17\\xf5'\\x... -8.369757e+06   \n",
       "245459  b\"\\x12\\x00\\x00\\x00\\x01\\x00\\x00\\x00R\\x17\\xf5'\\x... -8.369757e+06   \n",
       "\n",
       "                   y  in_geo      date_hour  day_of_week  \n",
       "0       4.860044e+06    True  2019-10-07 21            2  \n",
       "1       4.862282e+06   False  2019-10-07 21            2  \n",
       "2       4.862282e+06   False  2019-10-07 21            2  \n",
       "3       4.862282e+06   False  2019-10-07 21            2  \n",
       "4       4.862282e+06   False  2019-10-07 21            2  \n",
       "...              ...     ...            ...          ...  \n",
       "245455  4.879453e+06    True  2019-11-06 03            4  \n",
       "245456  4.879453e+06    True  2019-11-06 03            4  \n",
       "245457  4.859016e+06    True  2019-11-06 11            4  \n",
       "245458  4.854935e+06    True  2019-11-06 00            4  \n",
       "245459  4.854935e+06    True  2019-11-06 01            4  \n",
       "\n",
       "[6273142 rows x 8 columns]"
      ]
     },
     "execution_count": 37,
     "metadata": {},
     "output_type": "execute_result"
    }
   ],
   "source": [
    "sample_data"
   ]
  },
  {
   "cell_type": "markdown",
   "id": "01f5a856",
   "metadata": {},
   "source": [
    "## Subset data to sample of users"
   ]
  },
  {
   "cell_type": "code",
   "execution_count": 13,
   "id": "26943b1e",
   "metadata": {
    "collapsed": true,
    "jupyter": {
     "outputs_hidden": true
    },
    "tags": []
   },
   "outputs": [
    {
     "ename": "AttributeError",
     "evalue": "'Series' object has no attribute 'columns'",
     "output_type": "error",
     "traceback": [
      "\u001b[0;31m---------------------------------------------------------------------------\u001b[0m",
      "\u001b[0;31mAttributeError\u001b[0m                            Traceback (most recent call last)",
      "\u001b[0;32m/tmp/ipykernel_28356/4140357833.py\u001b[0m in \u001b[0;36m?\u001b[0;34m()\u001b[0m\n\u001b[1;32m      1\u001b[0m \u001b[0;31m# persist\u001b[0m\u001b[0;34m\u001b[0m\u001b[0;34m\u001b[0m\u001b[0m\n\u001b[1;32m      2\u001b[0m \u001b[0;31m#sample_data = pd.concat(output_data, ignore_index=True)\u001b[0m\u001b[0;34m\u001b[0m\u001b[0;34m\u001b[0m\u001b[0m\n\u001b[0;32m----> 3\u001b[0;31m \u001b[0mtable\u001b[0m \u001b[0;34m=\u001b[0m \u001b[0mpa\u001b[0m\u001b[0;34m.\u001b[0m\u001b[0mTable\u001b[0m\u001b[0;34m.\u001b[0m\u001b[0mfrom_pandas\u001b[0m\u001b[0;34m(\u001b[0m\u001b[0mall_users\u001b[0m\u001b[0;34m)\u001b[0m\u001b[0;34m\u001b[0m\u001b[0;34m\u001b[0m\u001b[0m\n\u001b[0m\u001b[1;32m      4\u001b[0m \u001b[0;31m#pq.write_table(table, f's3://robustness-project/data_sample_40k.parquet', filesystem=s3)\u001b[0m\u001b[0;34m\u001b[0m\u001b[0;34m\u001b[0m\u001b[0m\n",
      "\u001b[0;32mpyarrow/table.pxi\u001b[0m in \u001b[0;36m?\u001b[0;34m()\u001b[0m\n\u001b[0;32m-> 4525\u001b[0;31m \u001b[0;34m'Could not get source, probably due dynamically evaluated source code.'\u001b[0m\u001b[0;34m\u001b[0m\u001b[0;34m\u001b[0m\u001b[0m\n\u001b[0m",
      "\u001b[0;32m~/anaconda3/envs/python3/lib/python3.10/site-packages/pyarrow/pandas_compat.py\u001b[0m in \u001b[0;36m?\u001b[0;34m(df, schema, preserve_index, nthreads, columns, safe)\u001b[0m\n\u001b[1;32m    566\u001b[0m      \u001b[0mindex_column_names\u001b[0m\u001b[0;34m,\u001b[0m\u001b[0;34m\u001b[0m\u001b[0;34m\u001b[0m\u001b[0m\n\u001b[1;32m    567\u001b[0m      \u001b[0mindex_descriptors\u001b[0m\u001b[0;34m,\u001b[0m\u001b[0;34m\u001b[0m\u001b[0;34m\u001b[0m\u001b[0m\n\u001b[1;32m    568\u001b[0m      \u001b[0mindex_columns\u001b[0m\u001b[0;34m,\u001b[0m\u001b[0;34m\u001b[0m\u001b[0;34m\u001b[0m\u001b[0m\n\u001b[1;32m    569\u001b[0m      \u001b[0mcolumns_to_convert\u001b[0m\u001b[0;34m,\u001b[0m\u001b[0;34m\u001b[0m\u001b[0;34m\u001b[0m\u001b[0m\n\u001b[0;32m--> 570\u001b[0;31m      \u001b[0mconvert_fields\u001b[0m\u001b[0;34m)\u001b[0m \u001b[0;34m=\u001b[0m \u001b[0m_get_columns_to_convert\u001b[0m\u001b[0;34m(\u001b[0m\u001b[0mdf\u001b[0m\u001b[0;34m,\u001b[0m \u001b[0mschema\u001b[0m\u001b[0;34m,\u001b[0m \u001b[0mpreserve_index\u001b[0m\u001b[0;34m,\u001b[0m\u001b[0;34m\u001b[0m\u001b[0;34m\u001b[0m\u001b[0m\n\u001b[0m\u001b[1;32m    571\u001b[0m                                                columns)\n\u001b[1;32m    572\u001b[0m \u001b[0;34m\u001b[0m\u001b[0m\n\u001b[1;32m    573\u001b[0m     \u001b[0;31m# NOTE(wesm): If nthreads=None, then we use a heuristic to decide whether\u001b[0m\u001b[0;34m\u001b[0m\u001b[0;34m\u001b[0m\u001b[0m\n",
      "\u001b[0;32m~/anaconda3/envs/python3/lib/python3.10/site-packages/pyarrow/pandas_compat.py\u001b[0m in \u001b[0;36m?\u001b[0;34m(df, schema, preserve_index, columns)\u001b[0m\n\u001b[1;32m    348\u001b[0m \u001b[0;32mdef\u001b[0m \u001b[0m_get_columns_to_convert\u001b[0m\u001b[0;34m(\u001b[0m\u001b[0mdf\u001b[0m\u001b[0;34m,\u001b[0m \u001b[0mschema\u001b[0m\u001b[0;34m,\u001b[0m \u001b[0mpreserve_index\u001b[0m\u001b[0;34m,\u001b[0m \u001b[0mcolumns\u001b[0m\u001b[0;34m)\u001b[0m\u001b[0;34m:\u001b[0m\u001b[0;34m\u001b[0m\u001b[0;34m\u001b[0m\u001b[0m\n\u001b[0;32m--> 349\u001b[0;31m     \u001b[0mcolumns\u001b[0m \u001b[0;34m=\u001b[0m \u001b[0m_resolve_columns_of_interest\u001b[0m\u001b[0;34m(\u001b[0m\u001b[0mdf\u001b[0m\u001b[0;34m,\u001b[0m \u001b[0mschema\u001b[0m\u001b[0;34m,\u001b[0m \u001b[0mcolumns\u001b[0m\u001b[0;34m)\u001b[0m\u001b[0;34m\u001b[0m\u001b[0;34m\u001b[0m\u001b[0m\n\u001b[0m\u001b[1;32m    350\u001b[0m \u001b[0;34m\u001b[0m\u001b[0m\n\u001b[1;32m    351\u001b[0m     \u001b[0;32mif\u001b[0m \u001b[0;32mnot\u001b[0m \u001b[0mdf\u001b[0m\u001b[0;34m.\u001b[0m\u001b[0mcolumns\u001b[0m\u001b[0;34m.\u001b[0m\u001b[0mis_unique\u001b[0m\u001b[0;34m:\u001b[0m\u001b[0;34m\u001b[0m\u001b[0;34m\u001b[0m\u001b[0m\n\u001b[1;32m    352\u001b[0m         raise ValueError(\n",
      "\u001b[0;32m~/anaconda3/envs/python3/lib/python3.10/site-packages/pyarrow/pandas_compat.py\u001b[0m in \u001b[0;36m?\u001b[0;34m(df, schema, columns)\u001b[0m\n\u001b[1;32m    519\u001b[0m         \u001b[0mcolumns\u001b[0m \u001b[0;34m=\u001b[0m \u001b[0mschema\u001b[0m\u001b[0;34m.\u001b[0m\u001b[0mnames\u001b[0m\u001b[0;34m\u001b[0m\u001b[0;34m\u001b[0m\u001b[0m\n\u001b[1;32m    520\u001b[0m     \u001b[0;32melif\u001b[0m \u001b[0mcolumns\u001b[0m \u001b[0;32mis\u001b[0m \u001b[0;32mnot\u001b[0m \u001b[0;32mNone\u001b[0m\u001b[0;34m:\u001b[0m\u001b[0;34m\u001b[0m\u001b[0;34m\u001b[0m\u001b[0m\n\u001b[1;32m    521\u001b[0m         \u001b[0mcolumns\u001b[0m \u001b[0;34m=\u001b[0m \u001b[0;34m[\u001b[0m\u001b[0mc\u001b[0m \u001b[0;32mfor\u001b[0m \u001b[0mc\u001b[0m \u001b[0;32min\u001b[0m \u001b[0mcolumns\u001b[0m \u001b[0;32mif\u001b[0m \u001b[0mc\u001b[0m \u001b[0;32min\u001b[0m \u001b[0mdf\u001b[0m\u001b[0;34m.\u001b[0m\u001b[0mcolumns\u001b[0m\u001b[0;34m]\u001b[0m\u001b[0;34m\u001b[0m\u001b[0;34m\u001b[0m\u001b[0m\n\u001b[1;32m    522\u001b[0m     \u001b[0;32melse\u001b[0m\u001b[0;34m:\u001b[0m\u001b[0;34m\u001b[0m\u001b[0;34m\u001b[0m\u001b[0m\n\u001b[0;32m--> 523\u001b[0;31m         \u001b[0mcolumns\u001b[0m \u001b[0;34m=\u001b[0m \u001b[0mdf\u001b[0m\u001b[0;34m.\u001b[0m\u001b[0mcolumns\u001b[0m\u001b[0;34m\u001b[0m\u001b[0;34m\u001b[0m\u001b[0m\n\u001b[0m\u001b[1;32m    524\u001b[0m \u001b[0;34m\u001b[0m\u001b[0m\n\u001b[1;32m    525\u001b[0m     \u001b[0;32mreturn\u001b[0m \u001b[0mcolumns\u001b[0m\u001b[0;34m\u001b[0m\u001b[0;34m\u001b[0m\u001b[0m\n",
      "\u001b[0;32m~/anaconda3/envs/python3/lib/python3.10/site-packages/pandas/core/generic.py\u001b[0m in \u001b[0;36m?\u001b[0;34m(self, name)\u001b[0m\n\u001b[1;32m   6295\u001b[0m             \u001b[0;32mand\u001b[0m \u001b[0mname\u001b[0m \u001b[0;32mnot\u001b[0m \u001b[0;32min\u001b[0m \u001b[0mself\u001b[0m\u001b[0;34m.\u001b[0m\u001b[0m_accessors\u001b[0m\u001b[0;34m\u001b[0m\u001b[0;34m\u001b[0m\u001b[0m\n\u001b[1;32m   6296\u001b[0m             \u001b[0;32mand\u001b[0m \u001b[0mself\u001b[0m\u001b[0;34m.\u001b[0m\u001b[0m_info_axis\u001b[0m\u001b[0;34m.\u001b[0m\u001b[0m_can_hold_identifiers_and_holds_name\u001b[0m\u001b[0;34m(\u001b[0m\u001b[0mname\u001b[0m\u001b[0;34m)\u001b[0m\u001b[0;34m\u001b[0m\u001b[0;34m\u001b[0m\u001b[0m\n\u001b[1;32m   6297\u001b[0m         ):\n\u001b[1;32m   6298\u001b[0m             \u001b[0;32mreturn\u001b[0m \u001b[0mself\u001b[0m\u001b[0;34m[\u001b[0m\u001b[0mname\u001b[0m\u001b[0;34m]\u001b[0m\u001b[0;34m\u001b[0m\u001b[0;34m\u001b[0m\u001b[0m\n\u001b[0;32m-> 6299\u001b[0;31m         \u001b[0;32mreturn\u001b[0m \u001b[0mobject\u001b[0m\u001b[0;34m.\u001b[0m\u001b[0m__getattribute__\u001b[0m\u001b[0;34m(\u001b[0m\u001b[0mself\u001b[0m\u001b[0;34m,\u001b[0m \u001b[0mname\u001b[0m\u001b[0;34m)\u001b[0m\u001b[0;34m\u001b[0m\u001b[0;34m\u001b[0m\u001b[0m\n\u001b[0m",
      "\u001b[0;31mAttributeError\u001b[0m: 'Series' object has no attribute 'columns'"
     ]
    }
   ],
   "source": [
    "# persist\n",
    "#sample_data = pd.concat(output_data, ignore_index=True)\n",
    "#pq.write_table(table, f's3://robustness-project/data_sample_40k.parquet', filesystem=s3)"
   ]
  },
  {
   "cell_type": "markdown",
   "id": "53707956",
   "metadata": {
    "tags": []
   },
   "source": [
    "# Incompleteness metrics"
   ]
  },
  {
   "cell_type": "code",
   "execution_count": 38,
   "id": "c57f0d7f-5faf-4b86-af97-480a80b33025",
   "metadata": {
    "tags": []
   },
   "outputs": [
    {
     "data": {
      "text/html": [
       "<div>\n",
       "<style scoped>\n",
       "    .dataframe tbody tr th:only-of-type {\n",
       "        vertical-align: middle;\n",
       "    }\n",
       "\n",
       "    .dataframe tbody tr th {\n",
       "        vertical-align: top;\n",
       "    }\n",
       "\n",
       "    .dataframe thead th {\n",
       "        text-align: right;\n",
       "    }\n",
       "</style>\n",
       "<table border=\"1\" class=\"dataframe\">\n",
       "  <thead>\n",
       "    <tr style=\"text-align: right;\">\n",
       "      <th></th>\n",
       "      <th>identifier</th>\n",
       "      <th>local_timestamp</th>\n",
       "      <th>mercator_coord</th>\n",
       "      <th>x</th>\n",
       "      <th>y</th>\n",
       "      <th>in_geo</th>\n",
       "      <th>date_hour</th>\n",
       "      <th>day_of_week</th>\n",
       "    </tr>\n",
       "  </thead>\n",
       "  <tbody>\n",
       "    <tr>\n",
       "      <th>0</th>\n",
       "      <td>d68a1494-12a0-367b-95fd-f19d25d8f219</td>\n",
       "      <td>2019-10-07 21:43:53</td>\n",
       "      <td>b'\\x12\\x00\\x00\\x00\\x01\\x00\\x00\\x00\\xba\\xdc\\xce...</td>\n",
       "      <td>-8.379330e+06</td>\n",
       "      <td>4.860044e+06</td>\n",
       "      <td>True</td>\n",
       "      <td>2019-10-07 21</td>\n",
       "      <td>2</td>\n",
       "    </tr>\n",
       "    <tr>\n",
       "      <th>1</th>\n",
       "      <td>d68a1494-12a0-367b-95fd-f19d25d8f219</td>\n",
       "      <td>2019-10-07 21:45:38</td>\n",
       "      <td>b'\\x12\\x00\\x00\\x00\\x01\\x00\\x00\\x00\\xa6S=\\x04\\x...</td>\n",
       "      <td>-8.383348e+06</td>\n",
       "      <td>4.862282e+06</td>\n",
       "      <td>False</td>\n",
       "      <td>2019-10-07 21</td>\n",
       "      <td>2</td>\n",
       "    </tr>\n",
       "    <tr>\n",
       "      <th>2</th>\n",
       "      <td>d68a1494-12a0-367b-95fd-f19d25d8f219</td>\n",
       "      <td>2019-10-07 21:45:43</td>\n",
       "      <td>b'\\x12\\x00\\x00\\x00\\x01\\x00\\x00\\x00\\xa6S=\\x04\\x...</td>\n",
       "      <td>-8.383348e+06</td>\n",
       "      <td>4.862282e+06</td>\n",
       "      <td>False</td>\n",
       "      <td>2019-10-07 21</td>\n",
       "      <td>2</td>\n",
       "    </tr>\n",
       "    <tr>\n",
       "      <th>3</th>\n",
       "      <td>d68a1494-12a0-367b-95fd-f19d25d8f219</td>\n",
       "      <td>2019-10-07 21:47:26</td>\n",
       "      <td>b'\\x12\\x00\\x00\\x00\\x01\\x00\\x00\\x00\\xa6S=\\x04\\x...</td>\n",
       "      <td>-8.383348e+06</td>\n",
       "      <td>4.862282e+06</td>\n",
       "      <td>False</td>\n",
       "      <td>2019-10-07 21</td>\n",
       "      <td>2</td>\n",
       "    </tr>\n",
       "    <tr>\n",
       "      <th>4</th>\n",
       "      <td>d68a1494-12a0-367b-95fd-f19d25d8f219</td>\n",
       "      <td>2019-10-07 21:48:10</td>\n",
       "      <td>b'\\x12\\x00\\x00\\x00\\x01\\x00\\x00\\x00\\xa6S=\\x04\\x...</td>\n",
       "      <td>-8.383348e+06</td>\n",
       "      <td>4.862282e+06</td>\n",
       "      <td>False</td>\n",
       "      <td>2019-10-07 21</td>\n",
       "      <td>2</td>\n",
       "    </tr>\n",
       "    <tr>\n",
       "      <th>...</th>\n",
       "      <td>...</td>\n",
       "      <td>...</td>\n",
       "      <td>...</td>\n",
       "      <td>...</td>\n",
       "      <td>...</td>\n",
       "      <td>...</td>\n",
       "      <td>...</td>\n",
       "      <td>...</td>\n",
       "    </tr>\n",
       "    <tr>\n",
       "      <th>245455</th>\n",
       "      <td>cb32bdfc-9f2c-3f2b-bcd3-fc77fc83deb9</td>\n",
       "      <td>2019-11-06 03:56:44</td>\n",
       "      <td>b'\\x12\\x00\\x00\\x00\\x01\\x00\\x00\\x00\\x8d\\xcdWm\\x...</td>\n",
       "      <td>-8.353538e+06</td>\n",
       "      <td>4.879453e+06</td>\n",
       "      <td>True</td>\n",
       "      <td>2019-11-06 03</td>\n",
       "      <td>4</td>\n",
       "    </tr>\n",
       "    <tr>\n",
       "      <th>245456</th>\n",
       "      <td>cb32bdfc-9f2c-3f2b-bcd3-fc77fc83deb9</td>\n",
       "      <td>2019-11-06 03:56:50</td>\n",
       "      <td>b'\\x12\\x00\\x00\\x00\\x01\\x00\\x00\\x00\\x8d\\xcdWm\\x...</td>\n",
       "      <td>-8.353538e+06</td>\n",
       "      <td>4.879453e+06</td>\n",
       "      <td>True</td>\n",
       "      <td>2019-11-06 03</td>\n",
       "      <td>4</td>\n",
       "    </tr>\n",
       "    <tr>\n",
       "      <th>245457</th>\n",
       "      <td>f136800d-27fb-381a-a35b-017c58bdc29d</td>\n",
       "      <td>2019-11-06 11:07:12</td>\n",
       "      <td>b'\\x12\\x00\\x00\\x00\\x01\\x00\\x00\\x00\\xfa\\x04k\\x0...</td>\n",
       "      <td>-8.367196e+06</td>\n",
       "      <td>4.859016e+06</td>\n",
       "      <td>True</td>\n",
       "      <td>2019-11-06 11</td>\n",
       "      <td>4</td>\n",
       "    </tr>\n",
       "    <tr>\n",
       "      <th>245458</th>\n",
       "      <td>ce360006-a013-37af-8fbe-c236aa5866b7</td>\n",
       "      <td>2019-11-06 00:37:11</td>\n",
       "      <td>b\"\\x12\\x00\\x00\\x00\\x01\\x00\\x00\\x00R\\x17\\xf5'\\x...</td>\n",
       "      <td>-8.369757e+06</td>\n",
       "      <td>4.854935e+06</td>\n",
       "      <td>True</td>\n",
       "      <td>2019-11-06 00</td>\n",
       "      <td>4</td>\n",
       "    </tr>\n",
       "    <tr>\n",
       "      <th>245459</th>\n",
       "      <td>ce360006-a013-37af-8fbe-c236aa5866b7</td>\n",
       "      <td>2019-11-06 01:42:21</td>\n",
       "      <td>b\"\\x12\\x00\\x00\\x00\\x01\\x00\\x00\\x00R\\x17\\xf5'\\x...</td>\n",
       "      <td>-8.369757e+06</td>\n",
       "      <td>4.854935e+06</td>\n",
       "      <td>True</td>\n",
       "      <td>2019-11-06 01</td>\n",
       "      <td>4</td>\n",
       "    </tr>\n",
       "  </tbody>\n",
       "</table>\n",
       "<p>6273142 rows × 8 columns</p>\n",
       "</div>"
      ],
      "text/plain": [
       "                                  identifier     local_timestamp  \\\n",
       "0       d68a1494-12a0-367b-95fd-f19d25d8f219 2019-10-07 21:43:53   \n",
       "1       d68a1494-12a0-367b-95fd-f19d25d8f219 2019-10-07 21:45:38   \n",
       "2       d68a1494-12a0-367b-95fd-f19d25d8f219 2019-10-07 21:45:43   \n",
       "3       d68a1494-12a0-367b-95fd-f19d25d8f219 2019-10-07 21:47:26   \n",
       "4       d68a1494-12a0-367b-95fd-f19d25d8f219 2019-10-07 21:48:10   \n",
       "...                                      ...                 ...   \n",
       "245455  cb32bdfc-9f2c-3f2b-bcd3-fc77fc83deb9 2019-11-06 03:56:44   \n",
       "245456  cb32bdfc-9f2c-3f2b-bcd3-fc77fc83deb9 2019-11-06 03:56:50   \n",
       "245457  f136800d-27fb-381a-a35b-017c58bdc29d 2019-11-06 11:07:12   \n",
       "245458  ce360006-a013-37af-8fbe-c236aa5866b7 2019-11-06 00:37:11   \n",
       "245459  ce360006-a013-37af-8fbe-c236aa5866b7 2019-11-06 01:42:21   \n",
       "\n",
       "                                           mercator_coord             x  \\\n",
       "0       b'\\x12\\x00\\x00\\x00\\x01\\x00\\x00\\x00\\xba\\xdc\\xce... -8.379330e+06   \n",
       "1       b'\\x12\\x00\\x00\\x00\\x01\\x00\\x00\\x00\\xa6S=\\x04\\x... -8.383348e+06   \n",
       "2       b'\\x12\\x00\\x00\\x00\\x01\\x00\\x00\\x00\\xa6S=\\x04\\x... -8.383348e+06   \n",
       "3       b'\\x12\\x00\\x00\\x00\\x01\\x00\\x00\\x00\\xa6S=\\x04\\x... -8.383348e+06   \n",
       "4       b'\\x12\\x00\\x00\\x00\\x01\\x00\\x00\\x00\\xa6S=\\x04\\x... -8.383348e+06   \n",
       "...                                                   ...           ...   \n",
       "245455  b'\\x12\\x00\\x00\\x00\\x01\\x00\\x00\\x00\\x8d\\xcdWm\\x... -8.353538e+06   \n",
       "245456  b'\\x12\\x00\\x00\\x00\\x01\\x00\\x00\\x00\\x8d\\xcdWm\\x... -8.353538e+06   \n",
       "245457  b'\\x12\\x00\\x00\\x00\\x01\\x00\\x00\\x00\\xfa\\x04k\\x0... -8.367196e+06   \n",
       "245458  b\"\\x12\\x00\\x00\\x00\\x01\\x00\\x00\\x00R\\x17\\xf5'\\x... -8.369757e+06   \n",
       "245459  b\"\\x12\\x00\\x00\\x00\\x01\\x00\\x00\\x00R\\x17\\xf5'\\x... -8.369757e+06   \n",
       "\n",
       "                   y  in_geo      date_hour  day_of_week  \n",
       "0       4.860044e+06    True  2019-10-07 21            2  \n",
       "1       4.862282e+06   False  2019-10-07 21            2  \n",
       "2       4.862282e+06   False  2019-10-07 21            2  \n",
       "3       4.862282e+06   False  2019-10-07 21            2  \n",
       "4       4.862282e+06   False  2019-10-07 21            2  \n",
       "...              ...     ...            ...          ...  \n",
       "245455  4.879453e+06    True  2019-11-06 03            4  \n",
       "245456  4.879453e+06    True  2019-11-06 03            4  \n",
       "245457  4.859016e+06    True  2019-11-06 11            4  \n",
       "245458  4.854935e+06    True  2019-11-06 00            4  \n",
       "245459  4.854935e+06    True  2019-11-06 01            4  \n",
       "\n",
       "[6273142 rows x 8 columns]"
      ]
     },
     "execution_count": 38,
     "metadata": {},
     "output_type": "execute_result"
    }
   ],
   "source": [
    "sample_data"
   ]
  },
  {
   "cell_type": "markdown",
   "id": "f9d3c6eb",
   "metadata": {},
   "source": [
    "## Barcode plots for different users"
   ]
  },
  {
   "cell_type": "code",
   "execution_count": 12,
   "id": "b428c851-fe82-4d98-958c-58ab018ae7aa",
   "metadata": {
    "tags": []
   },
   "outputs": [
    {
     "data": {
      "text/html": [
       "<div>\n",
       "<style scoped>\n",
       "    .dataframe tbody tr th:only-of-type {\n",
       "        vertical-align: middle;\n",
       "    }\n",
       "\n",
       "    .dataframe tbody tr th {\n",
       "        vertical-align: top;\n",
       "    }\n",
       "\n",
       "    .dataframe thead th {\n",
       "        text-align: right;\n",
       "    }\n",
       "</style>\n",
       "<table border=\"1\" class=\"dataframe\">\n",
       "  <thead>\n",
       "    <tr style=\"text-align: right;\">\n",
       "      <th></th>\n",
       "      <th>identifier</th>\n",
       "    </tr>\n",
       "  </thead>\n",
       "  <tbody>\n",
       "    <tr>\n",
       "      <th>109935</th>\n",
       "      <td>dce99cb2-1d07-3bfd-9b05-646405a19f92</td>\n",
       "    </tr>\n",
       "    <tr>\n",
       "      <th>15314</th>\n",
       "      <td>a7632c4b-9d06-3d47-b934-e6a69ae21942</td>\n",
       "    </tr>\n",
       "    <tr>\n",
       "      <th>387452</th>\n",
       "      <td>2e5c7d1b-b29b-3cb0-8fbb-eb03f1cca6d0</td>\n",
       "    </tr>\n",
       "    <tr>\n",
       "      <th>309970</th>\n",
       "      <td>76c29820-0ce6-30f2-ba0b-9cf9ce0a3300</td>\n",
       "    </tr>\n",
       "    <tr>\n",
       "      <th>461517</th>\n",
       "      <td>75a4b0b4-32b0-3906-9b1c-0094059b5b65</td>\n",
       "    </tr>\n",
       "    <tr>\n",
       "      <th>...</th>\n",
       "      <td>...</td>\n",
       "    </tr>\n",
       "    <tr>\n",
       "      <th>148842</th>\n",
       "      <td>5463b83f-5443-3171-9555-db776f28f219</td>\n",
       "    </tr>\n",
       "    <tr>\n",
       "      <th>110283</th>\n",
       "      <td>71c603d5-904c-379f-aae9-427591a4fb03</td>\n",
       "    </tr>\n",
       "    <tr>\n",
       "      <th>200623</th>\n",
       "      <td>d09bdf8b-eee9-3c7c-a221-2fed88b32013</td>\n",
       "    </tr>\n",
       "    <tr>\n",
       "      <th>128925</th>\n",
       "      <td>6768def3-ed60-3d96-9845-04810b537b1b</td>\n",
       "    </tr>\n",
       "    <tr>\n",
       "      <th>157164</th>\n",
       "      <td>b1c0fbe2-6062-312c-afea-37a5df638aec</td>\n",
       "    </tr>\n",
       "  </tbody>\n",
       "</table>\n",
       "<p>40000 rows × 1 columns</p>\n",
       "</div>"
      ],
      "text/plain": [
       "                                  identifier\n",
       "109935  dce99cb2-1d07-3bfd-9b05-646405a19f92\n",
       "15314   a7632c4b-9d06-3d47-b934-e6a69ae21942\n",
       "387452  2e5c7d1b-b29b-3cb0-8fbb-eb03f1cca6d0\n",
       "309970  76c29820-0ce6-30f2-ba0b-9cf9ce0a3300\n",
       "461517  75a4b0b4-32b0-3906-9b1c-0094059b5b65\n",
       "...                                      ...\n",
       "148842  5463b83f-5443-3171-9555-db776f28f219\n",
       "110283  71c603d5-904c-379f-aae9-427591a4fb03\n",
       "200623  d09bdf8b-eee9-3c7c-a221-2fed88b32013\n",
       "128925  6768def3-ed60-3d96-9845-04810b537b1b\n",
       "157164  b1c0fbe2-6062-312c-afea-37a5df638aec\n",
       "\n",
       "[40000 rows x 1 columns]"
      ]
     },
     "execution_count": 12,
     "metadata": {},
     "output_type": "execute_result"
    }
   ],
   "source": [
    "sample_data"
   ]
  },
  {
   "cell_type": "code",
   "execution_count": 39,
   "id": "9a560481",
   "metadata": {
    "tags": []
   },
   "outputs": [
    {
     "name": "stdout",
     "output_type": "stream",
     "text": [
      "6273142\n",
      "495886\n"
     ]
    }
   ],
   "source": [
    "print(len(sample_data))\n",
    "print(len(sample_data.drop_duplicates(['identifier', 'date_hour'])))"
   ]
  },
  {
   "cell_type": "code",
   "execution_count": 40,
   "id": "886e52ba",
   "metadata": {
    "tags": []
   },
   "outputs": [],
   "source": [
    "# Plot barcodes\n",
    "week1 = ('2019-10-08', '2019-10-15')\n",
    "week2 = ('2019-10-15', '2019-10-22')\n",
    "week3 = ('2019-10-22', '2019-10-29')\n",
    "week4 = ('2019-10-29', '2019-11-05')"
   ]
  },
  {
   "cell_type": "code",
   "execution_count": 41,
   "id": "20549b6a",
   "metadata": {
    "tags": []
   },
   "outputs": [],
   "source": [
    "#select a user with 20 hours in a whole month\n",
    "hour_counts = sample_data.groupby(['identifier']).date_hour.count()"
   ]
  },
  {
   "cell_type": "code",
   "execution_count": 42,
   "id": "47e05ded",
   "metadata": {
    "tags": []
   },
   "outputs": [
    {
     "data": {
      "text/plain": [
       "identifier\n",
       "fff44402-7d12-32a0-9d7c-396dfdd97e00    299\n",
       "0009925f-a0d6-44af-8373-19c1919af8b4    191\n",
       "00702fae-be72-3518-b966-5a4ada97eeda    109\n",
       "Name: date_hour, dtype: int64"
      ]
     },
     "execution_count": 42,
     "metadata": {},
     "output_type": "execute_result"
    }
   ],
   "source": [
    "user1 = hour_counts.loc[(hour_counts>100)&(hour_counts<600)].index[-1]\n",
    "user2 = hour_counts.loc[(hour_counts>100)&(hour_counts<900)].index[0]\n",
    "user3 = hour_counts.loc[(hour_counts>100)&(hour_counts<1000)].index[2]\n",
    "hour_counts[[user1,user2,user3]]"
   ]
  },
  {
   "cell_type": "code",
   "execution_count": 43,
   "id": "bb5e4961",
   "metadata": {
    "tags": []
   },
   "outputs": [],
   "source": [
    "def plot_user_timeframe(sample_data, user, start, end, ax=None):\n",
    "    # If no Axes is passed in, create one\n",
    "    if ax is None:\n",
    "        fig, ax = plt.subplots(figsize=(10, 1))  # Aspect ratio 10:1\n",
    "\n",
    "    df = sample_data.loc[(sample_data['identifier'] == user) & \n",
    "                         (sample_data['local_timestamp'] > start) & \n",
    "                         (sample_data['local_timestamp'] < end)].copy()\n",
    "    df['day_of_week'] = df['local_timestamp'].dt.dayofweek + df['local_timestamp'].dt.hour / 24.0 + df['local_timestamp'].dt.minute / 1440.0\n",
    "    #plotting\n",
    "    ax.hlines(1, 0, 6, color='gray', linewidth=2)\n",
    "    ax.vlines(df['day_of_week'], 0.95, 1.05, color='gray', linewidth=5, alpha=0.08)\n",
    "    ax.vlines(df['day_of_week'], 0.95, 1.05, color='gray', linewidth=10, alpha=0.08)\n",
    "    ax.vlines(df['day_of_week'], 0.95, 1.05, color='black', linewidth=0.5)\n",
    "    # Set x-axis details\n",
    "    ax.set_xlim(0, 6)\n",
    "    ax.set_xticks(range(7))\n",
    "    ax.set_xticklabels(['Mon', 'Tue', 'Wed', 'Thu', 'Fri', 'Sat', 'Sun'])\n",
    "    #ax.xaxis.set_label_coords(0.5, -0.5)\n",
    "    #y-axis\n",
    "    ax.yaxis.set_visible(False)\n",
    "    [spine.set_visible(False) for spine in ax.spines.values()]    \n",
    "    # Title with number of records\n",
    "    ax.set_title(f\"User {user[-4:]}, N={len(df)}, week={start}\", fontsize=10, pad=10)\n",
    "    return ax"
   ]
  },
  {
   "cell_type": "code",
   "execution_count": 45,
   "id": "cb0496e9",
   "metadata": {
    "tags": []
   },
   "outputs": [
    {
     "data": {
      "image/png": "[encoded data removed]",
      "text/plain": [
       "<Figure size 1000x360 with 3 Axes>"
      ]
     },
     "metadata": {},
     "output_type": "display_data"
    }
   ],
   "source": [
    "fig, axs = plt.subplots(3, 1, figsize=(10, 3.6))  # for 2 plots, one above the other\n",
    "plot_user_timeframe(sample_data, user1, week1[0], week1[1], ax=axs[0])\n",
    "plot_user_timeframe(sample_data, user1, week2[0], week2[1], ax=axs[1])\n",
    "plot_user_timeframe(sample_data, user1, week3[0], week3[1], ax=axs[2])\n",
    "\n",
    "fig.subplots_adjust(hspace=2.0, wspace=0.4, top=1.8, bottom=1.0, left=0.1, right=0.9)\n",
    "#plt.savefig('user1.png')\n",
    "plt.show()"
   ]
  },
  {
   "cell_type": "code",
   "execution_count": 47,
   "id": "f2d83a41",
   "metadata": {
    "tags": []
   },
   "outputs": [
    {
     "data": {
      "image/png": "[encoded data removed]",
      "text/plain": [
       "<Figure size 1000x360 with 3 Axes>"
      ]
     },
     "metadata": {},
     "output_type": "display_data"
    }
   ],
   "source": [
    "fig, axs = plt.subplots(3, 1, figsize=(10, 3.6))  # for 2 plots, one above the other\n",
    "plot_user_timeframe(sample_data, user2, week1[0], week1[1], ax=axs[0])\n",
    "plot_user_timeframe(sample_data, user2, week2[0], week2[1], ax=axs[1])\n",
    "plot_user_timeframe(sample_data, user2, week3[0], week3[1], ax=axs[2])\n",
    "\n",
    "fig.subplots_adjust(hspace=2.0, wspace=0.4, top=1.8, bottom=1.0, left=0.1, right=0.9)\n",
    "#fig.savefig('./user2.png')\n",
    "plt.show()"
   ]
  },
  {
   "cell_type": "code",
   "execution_count": 49,
   "id": "d01d3828",
   "metadata": {
    "tags": []
   },
   "outputs": [
    {
     "data": {
      "image/png": "[encoded data removed]",
      "text/plain": [
       "<Figure size 1000x360 with 3 Axes>"
      ]
     },
     "metadata": {},
     "output_type": "display_data"
    }
   ],
   "source": [
    "fig, axs = plt.subplots(3, 1, figsize=(10, 3.6))  # for 2 plots, one above the other\n",
    "plot_user_timeframe(sample_data, user3, week1[0], week1[1], ax=axs[0])\n",
    "plot_user_timeframe(sample_data, user3, week2[0], week2[1], ax=axs[1])\n",
    "plot_user_timeframe(sample_data, user3, week3[0], week3[1], ax=axs[2])\n",
    "\n",
    "fig.subplots_adjust(hspace=2.0, wspace=0.4, top=1.8, bottom=1.0, left=0.1, right=0.9)\n",
    "#fig.savefig('./user3.png')\n",
    "plt.show()"
   ]
  },
  {
   "cell_type": "markdown",
   "id": "ff28a505",
   "metadata": {},
   "source": [
    "## q score for each week"
   ]
  },
  {
   "cell_type": "code",
   "execution_count": 50,
   "id": "7a19b173",
   "metadata": {
    "tags": []
   },
   "outputs": [],
   "source": [
    "start, end = week1\n",
    "\n",
    "window = sample_data.loc[(sample_data['local_timestamp'] > start) & \n",
    "                         (sample_data['local_timestamp'] < end)].drop_duplicates(['identifier', 'date_hour'])\n",
    "user_hours = window.groupby(['identifier']).date_hour.count()"
   ]
  },
  {
   "cell_type": "code",
   "execution_count": 51,
   "id": "d37a2084",
   "metadata": {
    "tags": []
   },
   "outputs": [
    {
     "data": {
      "text/plain": [
       "identifier\n",
       "0009925f-a0d6-44af-8373-19c1919af8b4     15\n",
       "000df3d0-3a64-32f8-830f-492dac3bf659     10\n",
       "0010e096-8ab5-35b8-baac-8a176d5a432c      3\n",
       "00205dc6-586a-308f-be7b-1eab43959bdf      4\n",
       "00389e47-0f1b-3687-a92f-b160fcbf97ec      6\n",
       "                                       ... \n",
       "ffd9d910-d79f-3008-9691-3f6710ffd2fd      3\n",
       "ffe945a7-447d-46cc-a64a-dca6a60d7941      3\n",
       "ffe9a9e9-8099-33f3-b637-a0683bfa2850    163\n",
       "ffea6c16-fbfc-3ec8-9cf9-ca999ad93a34      5\n",
       "ffec687d-0ed3-3935-bf27-30033f57f8b5     14\n",
       "Name: date_hour, Length: 6487, dtype: int64"
      ]
     },
     "execution_count": 51,
     "metadata": {},
     "output_type": "execute_result"
    }
   ],
   "source": [
    "user_hours[(user_hours>=3)]"
   ]
  },
  {
   "cell_type": "code",
   "execution_count": 52,
   "id": "2854e38e",
   "metadata": {
    "tags": []
   },
   "outputs": [
    {
     "data": {
      "image/png": "[encoded data removed]",
      "text/plain": [
       "<Figure size 1000x600 with 1 Axes>"
      ]
     },
     "metadata": {},
     "output_type": "display_data"
    }
   ],
   "source": [
    "plt.figure(figsize=(10, 6))\n",
    "plt.hist(user_hours[(user_hours>=3)], bins=range(3, 56), edgecolor='black')  # 168 bins\n",
    "plt.title(f'Active hours between {start} and {end}', fontsize=14)  # Incorporate start and end into the title\n",
    "plt.xlabel('Hours', fontsize=15)  # Increase font size for x-axis label\n",
    "plt.ylabel('Number of Users', fontsize=15)  # Increase font size for y-axis label\n",
    "plt.grid(axis='y', alpha=0.75)\n",
    "\n",
    "# Save the figure\n",
    "#plt.savefig('./histogram.png')\n",
    "\n",
    "# Show the plot\n",
    "plt.show()"
   ]
  },
  {
   "cell_type": "code",
   "execution_count": 53,
   "id": "09e4cbaa",
   "metadata": {
    "tags": []
   },
   "outputs": [
    {
     "name": "stderr",
     "output_type": "stream",
     "text": [
      "/tmp/ipykernel_13122/2489615241.py:5: FutureWarning: \n",
      "\n",
      "`shade` is now deprecated in favor of `fill`; setting `fill=True`.\n",
      "This will become an error in seaborn v0.14.0; please update your code.\n",
      "\n",
      "  sns.kdeplot(normalized_hours, shade=True, color=\"blue\", linewidth=1.5)\n"
     ]
    },
    {
     "data": {
      "image/png": "[encoded data removed]",
      "text/plain": [
       "<Figure size 1000x600 with 1 Axes>"
      ]
     },
     "metadata": {},
     "output_type": "display_data"
    }
   ],
   "source": [
    "normalized_hours = user_hours[(user_hours>=3)] / 168\n",
    "\n",
    "# Create the density plot\n",
    "plt.figure(figsize=(10, 6))\n",
    "sns.kdeplot(normalized_hours, shade=True, color=\"blue\", linewidth=1.5)\n",
    "\n",
    "# Calculate and plot the median line within the specified range\n",
    "median_value = normalized_hours.median()\n",
    "plt.axvline(median_value, color='black', linestyle='dashed', linewidth=1)\n",
    "\n",
    "\n",
    "\n",
    "# Set title and labels with increased font size\n",
    "plt.title(f'Active hours between {start} and {end}', fontsize=14)\n",
    "plt.xlabel('q score', fontsize=16)\n",
    "plt.ylabel('Density', fontsize=16)\n",
    "\n",
    "# Limit the range of x-axis to be between 0 and 0.4\n",
    "plt.xlim(0, 0.5)\n",
    "\n",
    "# Save the figure\n",
    "#plt.savefig('normalized_hours_density.png')\n",
    "\n",
    "# Show the plot\n",
    "plt.show()"
   ]
  },
  {
   "cell_type": "code",
   "execution_count": null,
   "id": "466c9979",
   "metadata": {},
   "outputs": [],
   "source": []
  }
 ],
 "metadata": {
  "kernelspec": {
   "display_name": "conda_python3",
   "language": "python",
   "name": "conda_python3"
  },
  "language_info": {
   "codemirror_mode": {
    "name": "ipython",
    "version": 3
   },
   "file_extension": ".py",
   "mimetype": "text/x-python",
   "name": "python",
   "nbconvert_exporter": "python",
   "pygments_lexer": "ipython3",
   "version": "3.10.14"
  }
 },
 "nbformat": 4,
 "nbformat_minor": 5
}
